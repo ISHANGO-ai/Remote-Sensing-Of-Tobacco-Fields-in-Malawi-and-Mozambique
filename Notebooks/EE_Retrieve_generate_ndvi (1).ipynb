{
 "cells": [
  {
   "cell_type": "markdown",
   "id": "7406528c",
   "metadata": {},
   "source": [
    "# Import Earth Engeine library and authorise acces needed by EE."
   ]
  },
  {
   "cell_type": "code",
   "execution_count": 28,
   "id": "963e1900",
   "metadata": {},
   "outputs": [
    {
     "data": {
      "text/html": [
       "<p>To authorize access needed by Earth Engine, open the following\n",
       "        URL in a web browser and follow the instructions:</p>\n",
       "        <p><a href=https://accounts.google.com/o/oauth2/auth?client_id=517222506229-vsmmajv00ul0bs7p89v5m89qs8eb9359.apps.googleusercontent.com&scope=https%3A%2F%2Fwww.googleapis.com%2Fauth%2Fearthengine+https%3A%2F%2Fwww.googleapis.com%2Fauth%2Fdevstorage.full_control&redirect_uri=urn%3Aietf%3Awg%3Aoauth%3A2.0%3Aoob&response_type=code&code_challenge=kzDB8v8_sCqkjXXkXOR4PCoxUN0k8UraPmXBLS3sRBw&code_challenge_method=S256>https://accounts.google.com/o/oauth2/auth?client_id=517222506229-vsmmajv00ul0bs7p89v5m89qs8eb9359.apps.googleusercontent.com&scope=https%3A%2F%2Fwww.googleapis.com%2Fauth%2Fearthengine+https%3A%2F%2Fwww.googleapis.com%2Fauth%2Fdevstorage.full_control&redirect_uri=urn%3Aietf%3Awg%3Aoauth%3A2.0%3Aoob&response_type=code&code_challenge=kzDB8v8_sCqkjXXkXOR4PCoxUN0k8UraPmXBLS3sRBw&code_challenge_method=S256</a></p>\n",
       "        <p>The authorization workflow will generate a code, which you\n",
       "        should paste in the box below</p>\n",
       "        "
      ],
      "text/plain": [
       "<IPython.core.display.HTML object>"
      ]
     },
     "metadata": {},
     "output_type": "display_data"
    },
    {
     "name": "stdout",
     "output_type": "stream",
     "text": [
      "Enter verification code: 4/1AX4XfWhbri9dlfMy-VkNIR2XgAM2YKVPDfEOx6vFpwe25e889eZhOE15hJ8\n",
      "\n",
      "Successfully saved authorization token.\n"
     ]
    }
   ],
   "source": [
    "import ee\n",
    "ee.Authenticate()\n",
    "ee.Initialize()"
   ]
  },
  {
   "cell_type": "code",
   "execution_count": 29,
   "id": "d2ecf2b7",
   "metadata": {},
   "outputs": [],
   "source": [
    "import pandas as pd\n",
    "import geemap\n",
    "import geopandas as gpd\n",
    "import folium "
   ]
  },
  {
   "cell_type": "markdown",
   "id": "77db5787",
   "metadata": {},
   "source": [
    "# We create a map "
   ]
  },
  {
   "cell_type": "code",
   "execution_count": 30,
   "id": "a8eb68fe",
   "metadata": {},
   "outputs": [
    {
     "data": {
      "application/vnd.jupyter.widget-view+json": {
       "model_id": "381b5cfd0619476380b2630faa7cca52",
       "version_major": 2,
       "version_minor": 0
      },
      "text/plain": [
       "Map(center=[40, -100], controls=(WidgetControl(options=['position', 'transparent_bg'], widget=HBox(children=(T…"
      ]
     },
     "metadata": {},
     "output_type": "display_data"
    }
   ],
   "source": [
    "Map =geemap.Map()\n",
    "\n",
    "Map"
   ]
  },
  {
   "cell_type": "markdown",
   "id": "34bc7d39",
   "metadata": {},
   "source": [
    "# Set the map center to the desired location"
   ]
  },
  {
   "cell_type": "code",
   "execution_count": 32,
   "id": "74ef6de8",
   "metadata": {},
   "outputs": [],
   "source": [
    "Map.setCenter(33.78725,-13.96692,10);"
   ]
  },
  {
   "cell_type": "markdown",
   "id": "02958357",
   "metadata": {},
   "source": [
    "# Create our location point so that we can clip our data."
   ]
  },
  {
   "cell_type": "code",
   "execution_count": 33,
   "id": "608edc0f",
   "metadata": {},
   "outputs": [],
   "source": [
    "point=ee.Geometry.Point(33.78725,-13.96692)"
   ]
  },
  {
   "cell_type": "markdown",
   "id": "7b2fdda3",
   "metadata": {},
   "source": [
    "# We import the data from the engine dataset for sentinel 2 multispectral data"
   ]
  },
  {
   "cell_type": "code",
   "execution_count": 34,
   "id": "fbf21e65",
   "metadata": {},
   "outputs": [],
   "source": [
    "data= ee.ImageCollection(\"COPERNICUS/S2\").filterBounds(point);"
   ]
  },
  {
   "cell_type": "markdown",
   "id": "f5d36ff5",
   "metadata": {},
   "source": [
    "# We clip the data for our desired location point and filter with respect to date and sort the data based on  cloud coverage assesment and select the first image"
   ]
  },
  {
   "cell_type": "code",
   "execution_count": 35,
   "id": "e420bbe7",
   "metadata": {},
   "outputs": [],
   "source": [
    "image=ee.Image(data.filterDate(\"2019-01-01\",\"2019-12-31\").sort(\"CLOUD_COVERAGE_ASSESSMENT\").first());"
   ]
  },
  {
   "cell_type": "code",
   "execution_count": null,
   "id": "9c8dcd19",
   "metadata": {},
   "outputs": [],
   "source": []
  },
  {
   "cell_type": "markdown",
   "id": "c85fcf51",
   "metadata": {},
   "source": [
    "# Compute the ndvi using Band 8 and Band 4 and display it on the map we generated."
   ]
  },
  {
   "cell_type": "code",
   "execution_count": 36,
   "id": "7dc4346b",
   "metadata": {},
   "outputs": [],
   "source": [
    "ndvi=image.expression(\n",
    "\"(NIR - RED) / (NIR + RED)\",\n",
    "{\"NIR\":image.select(\"B8\"),\n",
    "\"RED\":image.select(\"B4\")});"
   ]
  },
  {
   "cell_type": "code",
   "execution_count": 37,
   "id": "de7ffe27",
   "metadata": {},
   "outputs": [],
   "source": [
    "display={\n",
    "    \"min\":0,\n",
    "    \"max\":1,\n",
    "    \"palette\":[ 'blue', 'yellow', 'green', 'darkgreen','black']\n",
    "}"
   ]
  },
  {
   "cell_type": "code",
   "execution_count": 38,
   "id": "b3467456",
   "metadata": {},
   "outputs": [
    {
     "data": {
      "application/vnd.jupyter.widget-view+json": {
       "model_id": "381b5cfd0619476380b2630faa7cca52",
       "version_major": 2,
       "version_minor": 0
      },
      "text/plain": [
       "Map(bottom=141645.0, center=[-13.96692, 33.78725], controls=(WidgetControl(options=['position', 'transparent_b…"
      ]
     },
     "metadata": {},
     "output_type": "display_data"
    }
   ],
   "source": [
    "Map.addLayer(ndvi,display);\n",
    "Map"
   ]
  },
  {
   "cell_type": "code",
   "execution_count": null,
   "id": "491d18f2",
   "metadata": {},
   "outputs": [],
   "source": []
  },
  {
   "cell_type": "code",
   "execution_count": null,
   "id": "40ea9a2f",
   "metadata": {},
   "outputs": [],
   "source": []
  },
  {
   "cell_type": "code",
   "execution_count": null,
   "id": "a504da26",
   "metadata": {},
   "outputs": [],
   "source": []
  },
  {
   "cell_type": "code",
   "execution_count": null,
   "id": "80aa286b",
   "metadata": {},
   "outputs": [],
   "source": []
  },
  {
   "cell_type": "code",
   "execution_count": null,
   "id": "5017d36a",
   "metadata": {},
   "outputs": [],
   "source": []
  },
  {
   "cell_type": "code",
   "execution_count": null,
   "id": "b4a0fa83",
   "metadata": {},
   "outputs": [],
   "source": []
  },
  {
   "cell_type": "code",
   "execution_count": null,
   "id": "5fc5aee2",
   "metadata": {},
   "outputs": [],
   "source": []
  }
 ],
 "metadata": {
  "kernelspec": {
   "display_name": "Python 3 (ipykernel)",
   "language": "python",
   "name": "python3"
  },
  "language_info": {
   "codemirror_mode": {
    "name": "ipython",
    "version": 3
   },
   "file_extension": ".py",
   "mimetype": "text/x-python",
   "name": "python",
   "nbconvert_exporter": "python",
   "pygments_lexer": "ipython3",
   "version": "3.9.7"
  }
 },
 "nbformat": 4,
 "nbformat_minor": 5
}
