{
 "cells": [
  {
   "cell_type": "code",
   "execution_count": 1,
   "id": "42170ea3",
   "metadata": {},
   "outputs": [
    {
     "name": "stdout",
     "output_type": "stream",
     "text": [
      "Requirement already satisfied: rasterio in c:\\users\\jean paul\\.conda\\envs\\env_ishango\\lib\\site-packages (1.2.8)\n",
      "Requirement already satisfied: affine in c:\\users\\jean paul\\.conda\\envs\\env_ishango\\lib\\site-packages (from rasterio) (2.3.0)\n",
      "Requirement already satisfied: attrs in c:\\users\\jean paul\\.conda\\envs\\env_ishango\\lib\\site-packages (from rasterio) (21.2.0)\n",
      "Requirement already satisfied: certifi in c:\\users\\jean paul\\.conda\\envs\\env_ishango\\lib\\site-packages (from rasterio) (2021.5.30)\n",
      "Requirement already satisfied: click>=4.0 in c:\\users\\jean paul\\.conda\\envs\\env_ishango\\lib\\site-packages (from rasterio) (7.1.2)\n",
      "Requirement already satisfied: cligj>=0.5 in c:\\users\\jean paul\\.conda\\envs\\env_ishango\\lib\\site-packages (from rasterio) (0.7.2)\n",
      "Requirement already satisfied: numpy in c:\\users\\jean paul\\.conda\\envs\\env_ishango\\lib\\site-packages (from rasterio) (1.21.2)\n",
      "Requirement already satisfied: snuggs>=1.4.1 in c:\\users\\jean paul\\.conda\\envs\\env_ishango\\lib\\site-packages (from rasterio) (1.4.7)\n",
      "Requirement already satisfied: click-plugins in c:\\users\\jean paul\\.conda\\envs\\env_ishango\\lib\\site-packages (from rasterio) (1.1.1)\n",
      "Requirement already satisfied: setuptools in c:\\users\\jean paul\\.conda\\envs\\env_ishango\\lib\\site-packages (from rasterio) (58.0.4)\n",
      "Requirement already satisfied: pyparsing>=2.1.6 in c:\\users\\jean paul\\.conda\\envs\\env_ishango\\lib\\site-packages (from snuggs>=1.4.1->rasterio) (2.4.7)\n",
      "Requirement already satisfied: ipygee in c:\\users\\jean paul\\.conda\\envs\\env_ishango\\lib\\site-packages (0.0.17)\n",
      "Requirement already satisfied: geetools in c:\\users\\jean paul\\.conda\\envs\\env_ishango\\lib\\site-packages (from ipygee) (0.6.14)\n",
      "Requirement already satisfied: ipyleaflet>=0.10.2 in c:\\users\\jean paul\\.conda\\envs\\env_ishango\\lib\\site-packages (from ipygee) (0.14.0)\n",
      "Requirement already satisfied: pandas in c:\\users\\jean paul\\.conda\\envs\\env_ishango\\lib\\site-packages (from ipygee) (1.3.3)\n",
      "Requirement already satisfied: pygal in c:\\users\\jean paul\\.conda\\envs\\env_ishango\\lib\\site-packages (from ipygee) (2.4.0)\n",
      "Requirement already satisfied: ipywidgets<8,>=7.6.0 in c:\\users\\jean paul\\.conda\\envs\\env_ishango\\lib\\site-packages (from ipyleaflet>=0.10.2->ipygee) (7.6.5)\n",
      "Requirement already satisfied: traittypes<3,>=0.2.1 in c:\\users\\jean paul\\.conda\\envs\\env_ishango\\lib\\site-packages (from ipyleaflet>=0.10.2->ipygee) (0.2.1)\n",
      "Requirement already satisfied: ipython-genutils~=0.2.0 in c:\\users\\jean paul\\.conda\\envs\\env_ishango\\lib\\site-packages (from ipywidgets<8,>=7.6.0->ipyleaflet>=0.10.2->ipygee) (0.2.0)\n",
      "Requirement already satisfied: ipykernel>=4.5.1 in c:\\users\\jean paul\\.conda\\envs\\env_ishango\\lib\\site-packages (from ipywidgets<8,>=7.6.0->ipyleaflet>=0.10.2->ipygee) (6.4.1)\n",
      "Requirement already satisfied: ipython>=4.0.0 in c:\\users\\jean paul\\.conda\\envs\\env_ishango\\lib\\site-packages (from ipywidgets<8,>=7.6.0->ipyleaflet>=0.10.2->ipygee) (7.28.0)\n",
      "Requirement already satisfied: traitlets>=4.3.1 in c:\\users\\jean paul\\.conda\\envs\\env_ishango\\lib\\site-packages (from ipywidgets<8,>=7.6.0->ipyleaflet>=0.10.2->ipygee) (5.1.0)\n",
      "Requirement already satisfied: jupyterlab-widgets>=1.0.0 in c:\\users\\jean paul\\.conda\\envs\\env_ishango\\lib\\site-packages (from ipywidgets<8,>=7.6.0->ipyleaflet>=0.10.2->ipygee) (1.0.2)\n",
      "Requirement already satisfied: nbformat>=4.2.0 in c:\\users\\jean paul\\.conda\\envs\\env_ishango\\lib\\site-packages (from ipywidgets<8,>=7.6.0->ipyleaflet>=0.10.2->ipygee) (5.1.3)\n",
      "Requirement already satisfied: widgetsnbextension~=3.5.0 in c:\\users\\jean paul\\.conda\\envs\\env_ishango\\lib\\site-packages (from ipywidgets<8,>=7.6.0->ipyleaflet>=0.10.2->ipygee) (3.5.1)\n",
      "Requirement already satisfied: matplotlib-inline<0.2.0,>=0.1.0 in c:\\users\\jean paul\\.conda\\envs\\env_ishango\\lib\\site-packages (from ipykernel>=4.5.1->ipywidgets<8,>=7.6.0->ipyleaflet>=0.10.2->ipygee) (0.1.3)\n",
      "Requirement already satisfied: tornado<7.0,>=4.2 in c:\\users\\jean paul\\.conda\\envs\\env_ishango\\lib\\site-packages (from ipykernel>=4.5.1->ipywidgets<8,>=7.6.0->ipyleaflet>=0.10.2->ipygee) (6.1)\n",
      "Requirement already satisfied: jupyter-client<8.0 in c:\\users\\jean paul\\.conda\\envs\\env_ishango\\lib\\site-packages (from ipykernel>=4.5.1->ipywidgets<8,>=7.6.0->ipyleaflet>=0.10.2->ipygee) (6.1.12)\n",
      "Requirement already satisfied: debugpy<2.0,>=1.0.0 in c:\\users\\jean paul\\.conda\\envs\\env_ishango\\lib\\site-packages (from ipykernel>=4.5.1->ipywidgets<8,>=7.6.0->ipyleaflet>=0.10.2->ipygee) (1.4.1)\n",
      "Requirement already satisfied: prompt-toolkit!=3.0.0,!=3.0.1,<3.1.0,>=2.0.0 in c:\\users\\jean paul\\.conda\\envs\\env_ishango\\lib\\site-packages (from ipython>=4.0.0->ipywidgets<8,>=7.6.0->ipyleaflet>=0.10.2->ipygee) (3.0.20)\n",
      "Requirement already satisfied: colorama in c:\\users\\jean paul\\.conda\\envs\\env_ishango\\lib\\site-packages (from ipython>=4.0.0->ipywidgets<8,>=7.6.0->ipyleaflet>=0.10.2->ipygee) (0.4.4)\n",
      "Requirement already satisfied: pickleshare in c:\\users\\jean paul\\.conda\\envs\\env_ishango\\lib\\site-packages (from ipython>=4.0.0->ipywidgets<8,>=7.6.0->ipyleaflet>=0.10.2->ipygee) (0.7.5)\n",
      "Requirement already satisfied: backcall in c:\\users\\jean paul\\.conda\\envs\\env_ishango\\lib\\site-packages (from ipython>=4.0.0->ipywidgets<8,>=7.6.0->ipyleaflet>=0.10.2->ipygee) (0.2.0)\n",
      "Requirement already satisfied: setuptools>=18.5 in c:\\users\\jean paul\\.conda\\envs\\env_ishango\\lib\\site-packages (from ipython>=4.0.0->ipywidgets<8,>=7.6.0->ipyleaflet>=0.10.2->ipygee) (58.0.4)\n",
      "Requirement already satisfied: pygments in c:\\users\\jean paul\\.conda\\envs\\env_ishango\\lib\\site-packages (from ipython>=4.0.0->ipywidgets<8,>=7.6.0->ipyleaflet>=0.10.2->ipygee) (2.10.0)\n",
      "Requirement already satisfied: decorator in c:\\users\\jean paul\\.conda\\envs\\env_ishango\\lib\\site-packages (from ipython>=4.0.0->ipywidgets<8,>=7.6.0->ipyleaflet>=0.10.2->ipygee) (4.4.2)\n",
      "Requirement already satisfied: jedi>=0.16 in c:\\users\\jean paul\\.conda\\envs\\env_ishango\\lib\\site-packages (from ipython>=4.0.0->ipywidgets<8,>=7.6.0->ipyleaflet>=0.10.2->ipygee) (0.18.0)\n",
      "Requirement already satisfied: parso<0.9.0,>=0.8.0 in c:\\users\\jean paul\\.conda\\envs\\env_ishango\\lib\\site-packages (from jedi>=0.16->ipython>=4.0.0->ipywidgets<8,>=7.6.0->ipyleaflet>=0.10.2->ipygee) (0.8.2)\n",
      "Requirement already satisfied: python-dateutil>=2.1 in c:\\users\\jean paul\\.conda\\envs\\env_ishango\\lib\\site-packages (from jupyter-client<8.0->ipykernel>=4.5.1->ipywidgets<8,>=7.6.0->ipyleaflet>=0.10.2->ipygee) (2.8.2)\n",
      "Requirement already satisfied: pyzmq>=13 in c:\\users\\jean paul\\.conda\\envs\\env_ishango\\lib\\site-packages (from jupyter-client<8.0->ipykernel>=4.5.1->ipywidgets<8,>=7.6.0->ipyleaflet>=0.10.2->ipygee) (22.3.0)\n",
      "Requirement already satisfied: jupyter-core>=4.6.0 in c:\\users\\jean paul\\.conda\\envs\\env_ishango\\lib\\site-packages (from jupyter-client<8.0->ipykernel>=4.5.1->ipywidgets<8,>=7.6.0->ipyleaflet>=0.10.2->ipygee) (4.8.1)\n",
      "Requirement already satisfied: pywin32>=1.0 in c:\\users\\jean paul\\.conda\\envs\\env_ishango\\lib\\site-packages (from jupyter-core>=4.6.0->jupyter-client<8.0->ipykernel>=4.5.1->ipywidgets<8,>=7.6.0->ipyleaflet>=0.10.2->ipygee) (301)\n",
      "Requirement already satisfied: jsonschema!=2.5.0,>=2.4 in c:\\users\\jean paul\\.conda\\envs\\env_ishango\\lib\\site-packages (from nbformat>=4.2.0->ipywidgets<8,>=7.6.0->ipyleaflet>=0.10.2->ipygee) (3.2.0)\n",
      "Requirement already satisfied: pyrsistent>=0.14.0 in c:\\users\\jean paul\\.conda\\envs\\env_ishango\\lib\\site-packages (from jsonschema!=2.5.0,>=2.4->nbformat>=4.2.0->ipywidgets<8,>=7.6.0->ipyleaflet>=0.10.2->ipygee) (0.17.3)\n",
      "Requirement already satisfied: attrs>=17.4.0 in c:\\users\\jean paul\\.conda\\envs\\env_ishango\\lib\\site-packages (from jsonschema!=2.5.0,>=2.4->nbformat>=4.2.0->ipywidgets<8,>=7.6.0->ipyleaflet>=0.10.2->ipygee) (21.2.0)\n",
      "Requirement already satisfied: six>=1.11.0 in c:\\users\\jean paul\\.conda\\envs\\env_ishango\\lib\\site-packages (from jsonschema!=2.5.0,>=2.4->nbformat>=4.2.0->ipywidgets<8,>=7.6.0->ipyleaflet>=0.10.2->ipygee) (1.16.0)\n",
      "Requirement already satisfied: wcwidth in c:\\users\\jean paul\\.conda\\envs\\env_ishango\\lib\\site-packages (from prompt-toolkit!=3.0.0,!=3.0.1,<3.1.0,>=2.0.0->ipython>=4.0.0->ipywidgets<8,>=7.6.0->ipyleaflet>=0.10.2->ipygee) (0.2.5)\n",
      "Requirement already satisfied: notebook>=4.4.1 in c:\\users\\jean paul\\.conda\\envs\\env_ishango\\lib\\site-packages (from widgetsnbextension~=3.5.0->ipywidgets<8,>=7.6.0->ipyleaflet>=0.10.2->ipygee) (6.4.4)\n",
      "Requirement already satisfied: prometheus-client in c:\\users\\jean paul\\.conda\\envs\\env_ishango\\lib\\site-packages (from notebook>=4.4.1->widgetsnbextension~=3.5.0->ipywidgets<8,>=7.6.0->ipyleaflet>=0.10.2->ipygee) (0.11.0)\n",
      "Requirement already satisfied: jinja2 in c:\\users\\jean paul\\.conda\\envs\\env_ishango\\lib\\site-packages (from notebook>=4.4.1->widgetsnbextension~=3.5.0->ipywidgets<8,>=7.6.0->ipyleaflet>=0.10.2->ipygee) (3.0.1)\n",
      "Requirement already satisfied: nbconvert in c:\\users\\jean paul\\.conda\\envs\\env_ishango\\lib\\site-packages (from notebook>=4.4.1->widgetsnbextension~=3.5.0->ipywidgets<8,>=7.6.0->ipyleaflet>=0.10.2->ipygee) (6.2.0)\n",
      "Requirement already satisfied: argon2-cffi in c:\\users\\jean paul\\.conda\\envs\\env_ishango\\lib\\site-packages (from notebook>=4.4.1->widgetsnbextension~=3.5.0->ipywidgets<8,>=7.6.0->ipyleaflet>=0.10.2->ipygee) (20.1.0)\n",
      "Requirement already satisfied: terminado>=0.8.3 in c:\\users\\jean paul\\.conda\\envs\\env_ishango\\lib\\site-packages (from notebook>=4.4.1->widgetsnbextension~=3.5.0->ipywidgets<8,>=7.6.0->ipyleaflet>=0.10.2->ipygee) (0.12.1)\n",
      "Requirement already satisfied: Send2Trash>=1.5.0 in c:\\users\\jean paul\\.conda\\envs\\env_ishango\\lib\\site-packages (from notebook>=4.4.1->widgetsnbextension~=3.5.0->ipywidgets<8,>=7.6.0->ipyleaflet>=0.10.2->ipygee) (1.8.0)\n",
      "Requirement already satisfied: pywinpty>=1.1.0 in c:\\users\\jean paul\\.conda\\envs\\env_ishango\\lib\\site-packages (from terminado>=0.8.3->notebook>=4.4.1->widgetsnbextension~=3.5.0->ipywidgets<8,>=7.6.0->ipyleaflet>=0.10.2->ipygee) (1.1.4)\n",
      "Requirement already satisfied: cffi>=1.0.0 in c:\\users\\jean paul\\.conda\\envs\\env_ishango\\lib\\site-packages (from argon2-cffi->notebook>=4.4.1->widgetsnbextension~=3.5.0->ipywidgets<8,>=7.6.0->ipyleaflet>=0.10.2->ipygee) (1.14.6)\n",
      "Requirement already satisfied: pycparser in c:\\users\\jean paul\\.conda\\envs\\env_ishango\\lib\\site-packages (from cffi>=1.0.0->argon2-cffi->notebook>=4.4.1->widgetsnbextension~=3.5.0->ipywidgets<8,>=7.6.0->ipyleaflet>=0.10.2->ipygee) (2.20)\n",
      "Requirement already satisfied: requests in c:\\users\\jean paul\\.conda\\envs\\env_ishango\\lib\\site-packages (from geetools->ipygee) (2.26.0)\n",
      "Requirement already satisfied: pyshp in c:\\users\\jean paul\\.conda\\envs\\env_ishango\\lib\\site-packages (from geetools->ipygee) (2.1.3)\n",
      "Requirement already satisfied: MarkupSafe>=2.0 in c:\\users\\jean paul\\.conda\\envs\\env_ishango\\lib\\site-packages (from jinja2->notebook>=4.4.1->widgetsnbextension~=3.5.0->ipywidgets<8,>=7.6.0->ipyleaflet>=0.10.2->ipygee) (2.0.1)\n",
      "Requirement already satisfied: testpath in c:\\users\\jean paul\\.conda\\envs\\env_ishango\\lib\\site-packages (from nbconvert->notebook>=4.4.1->widgetsnbextension~=3.5.0->ipywidgets<8,>=7.6.0->ipyleaflet>=0.10.2->ipygee) (0.5.0)\n",
      "Requirement already satisfied: mistune<2,>=0.8.1 in c:\\users\\jean paul\\.conda\\envs\\env_ishango\\lib\\site-packages (from nbconvert->notebook>=4.4.1->widgetsnbextension~=3.5.0->ipywidgets<8,>=7.6.0->ipyleaflet>=0.10.2->ipygee) (0.8.4)\n",
      "Requirement already satisfied: entrypoints>=0.2.2 in c:\\users\\jean paul\\.conda\\envs\\env_ishango\\lib\\site-packages (from nbconvert->notebook>=4.4.1->widgetsnbextension~=3.5.0->ipywidgets<8,>=7.6.0->ipyleaflet>=0.10.2->ipygee) (0.3)\n",
      "Requirement already satisfied: jupyterlab-pygments in c:\\users\\jean paul\\.conda\\envs\\env_ishango\\lib\\site-packages (from nbconvert->notebook>=4.4.1->widgetsnbextension~=3.5.0->ipywidgets<8,>=7.6.0->ipyleaflet>=0.10.2->ipygee) (0.1.2)\n",
      "Requirement already satisfied: bleach in c:\\users\\jean paul\\.conda\\envs\\env_ishango\\lib\\site-packages (from nbconvert->notebook>=4.4.1->widgetsnbextension~=3.5.0->ipywidgets<8,>=7.6.0->ipyleaflet>=0.10.2->ipygee) (4.1.0)\n",
      "Requirement already satisfied: defusedxml in c:\\users\\jean paul\\.conda\\envs\\env_ishango\\lib\\site-packages (from nbconvert->notebook>=4.4.1->widgetsnbextension~=3.5.0->ipywidgets<8,>=7.6.0->ipyleaflet>=0.10.2->ipygee) (0.7.1)\n",
      "Requirement already satisfied: pandocfilters>=1.4.1 in c:\\users\\jean paul\\.conda\\envs\\env_ishango\\lib\\site-packages (from nbconvert->notebook>=4.4.1->widgetsnbextension~=3.5.0->ipywidgets<8,>=7.6.0->ipyleaflet>=0.10.2->ipygee) (1.5.0)\n",
      "Requirement already satisfied: nbclient<0.6.0,>=0.5.0 in c:\\users\\jean paul\\.conda\\envs\\env_ishango\\lib\\site-packages (from nbconvert->notebook>=4.4.1->widgetsnbextension~=3.5.0->ipywidgets<8,>=7.6.0->ipyleaflet>=0.10.2->ipygee) (0.5.4)\n",
      "Requirement already satisfied: nest-asyncio in c:\\users\\jean paul\\.conda\\envs\\env_ishango\\lib\\site-packages (from nbclient<0.6.0,>=0.5.0->nbconvert->notebook>=4.4.1->widgetsnbextension~=3.5.0->ipywidgets<8,>=7.6.0->ipyleaflet>=0.10.2->ipygee) (1.5.1)\n",
      "Requirement already satisfied: packaging in c:\\users\\jean paul\\.conda\\envs\\env_ishango\\lib\\site-packages (from bleach->nbconvert->notebook>=4.4.1->widgetsnbextension~=3.5.0->ipywidgets<8,>=7.6.0->ipyleaflet>=0.10.2->ipygee) (21.0)\n",
      "Requirement already satisfied: webencodings in c:\\users\\jean paul\\.conda\\envs\\env_ishango\\lib\\site-packages (from bleach->nbconvert->notebook>=4.4.1->widgetsnbextension~=3.5.0->ipywidgets<8,>=7.6.0->ipyleaflet>=0.10.2->ipygee) (0.5.1)\n",
      "Requirement already satisfied: pyparsing>=2.0.2 in c:\\users\\jean paul\\.conda\\envs\\env_ishango\\lib\\site-packages (from packaging->bleach->nbconvert->notebook>=4.4.1->widgetsnbextension~=3.5.0->ipywidgets<8,>=7.6.0->ipyleaflet>=0.10.2->ipygee) (2.4.7)\n",
      "Requirement already satisfied: numpy>=1.17.3 in c:\\users\\jean paul\\.conda\\envs\\env_ishango\\lib\\site-packages (from pandas->ipygee) (1.21.2)\n",
      "Requirement already satisfied: pytz>=2017.3 in c:\\users\\jean paul\\.conda\\envs\\env_ishango\\lib\\site-packages (from pandas->ipygee) (2021.1)\n",
      "Requirement already satisfied: idna<4,>=2.5 in c:\\users\\jean paul\\.conda\\envs\\env_ishango\\lib\\site-packages (from requests->geetools->ipygee) (3.2)\n",
      "Requirement already satisfied: charset-normalizer~=2.0.0 in c:\\users\\jean paul\\.conda\\envs\\env_ishango\\lib\\site-packages (from requests->geetools->ipygee) (2.0.6)\n",
      "Requirement already satisfied: certifi>=2017.4.17 in c:\\users\\jean paul\\.conda\\envs\\env_ishango\\lib\\site-packages (from requests->geetools->ipygee) (2021.5.30)\n",
      "Requirement already satisfied: urllib3<1.27,>=1.21.1 in c:\\users\\jean paul\\.conda\\envs\\env_ishango\\lib\\site-packages (from requests->geetools->ipygee) (1.26.7)\n",
      "Requirement already satisfied: tslearn in c:\\users\\jean paul\\.conda\\envs\\env_ishango\\lib\\site-packages (0.5.2)\n",
      "Requirement already satisfied: numba in c:\\users\\jean paul\\.conda\\envs\\env_ishango\\lib\\site-packages (from tslearn) (0.53.0)\n",
      "Requirement already satisfied: scikit-learn in c:\\users\\jean paul\\.conda\\envs\\env_ishango\\lib\\site-packages (from tslearn) (1.0)\n",
      "Requirement already satisfied: Cython in c:\\users\\jean paul\\.conda\\envs\\env_ishango\\lib\\site-packages (from tslearn) (0.29.24)\n",
      "Requirement already satisfied: scipy in c:\\users\\jean paul\\.conda\\envs\\env_ishango\\lib\\site-packages (from tslearn) (1.7.1)\n",
      "Requirement already satisfied: joblib in c:\\users\\jean paul\\.conda\\envs\\env_ishango\\lib\\site-packages (from tslearn) (1.0.1)\n",
      "Requirement already satisfied: numpy in c:\\users\\jean paul\\.conda\\envs\\env_ishango\\lib\\site-packages (from tslearn) (1.21.2)\n",
      "Requirement already satisfied: llvmlite<0.37,>=0.36.0rc1 in c:\\users\\jean paul\\.conda\\envs\\env_ishango\\lib\\site-packages (from numba->tslearn) (0.36.0)\n",
      "Requirement already satisfied: setuptools in c:\\users\\jean paul\\.conda\\envs\\env_ishango\\lib\\site-packages (from numba->tslearn) (58.0.4)\n",
      "Requirement already satisfied: threadpoolctl>=2.0.0 in c:\\users\\jean paul\\.conda\\envs\\env_ishango\\lib\\site-packages (from scikit-learn->tslearn) (2.2.0)\n",
      "Requirement already satisfied: earthengine-api in c:\\users\\jean paul\\.conda\\envs\\env_ishango\\lib\\site-packages (0.1.284)\n",
      "Requirement already satisfied: google-auth-httplib2>=0.0.3 in c:\\users\\jean paul\\.conda\\envs\\env_ishango\\lib\\site-packages (from earthengine-api) (0.1.0)\n",
      "Requirement already satisfied: google-cloud-storage in c:\\users\\jean paul\\.conda\\envs\\env_ishango\\lib\\site-packages (from earthengine-api) (1.42.3)\n",
      "Requirement already satisfied: six in c:\\users\\jean paul\\.conda\\envs\\env_ishango\\lib\\site-packages (from earthengine-api) (1.16.0)\n",
      "Requirement already satisfied: httplib2<1dev,>=0.9.2 in c:\\users\\jean paul\\.conda\\envs\\env_ishango\\lib\\site-packages (from earthengine-api) (0.19.1)\n",
      "Requirement already satisfied: future in c:\\users\\jean paul\\.conda\\envs\\env_ishango\\lib\\site-packages (from earthengine-api) (0.18.2)\n",
      "Requirement already satisfied: google-api-python-client<2,>=1.12.1 in c:\\users\\jean paul\\.conda\\envs\\env_ishango\\lib\\site-packages (from earthengine-api) (1.12.8)\n",
      "Requirement already satisfied: httplib2shim in c:\\users\\jean paul\\.conda\\envs\\env_ishango\\lib\\site-packages (from earthengine-api) (0.0.3)\n",
      "Requirement already satisfied: google-auth>=1.4.1 in c:\\users\\jean paul\\.conda\\envs\\env_ishango\\lib\\site-packages (from earthengine-api) (1.35.0)\n",
      "Requirement already satisfied: uritemplate<4dev,>=3.0.0 in c:\\users\\jean paul\\.conda\\envs\\env_ishango\\lib\\site-packages (from google-api-python-client<2,>=1.12.1->earthengine-api) (3.0.1)\n",
      "Requirement already satisfied: google-api-core<2dev,>=1.21.0 in c:\\users\\jean paul\\.conda\\envs\\env_ishango\\lib\\site-packages (from google-api-python-client<2,>=1.12.1->earthengine-api) (1.31.3)\n",
      "Requirement already satisfied: pytz in c:\\users\\jean paul\\.conda\\envs\\env_ishango\\lib\\site-packages (from google-api-core<2dev,>=1.21.0->google-api-python-client<2,>=1.12.1->earthengine-api) (2021.1)\n",
      "Requirement already satisfied: protobuf<3.18.0,>=3.12.0 in c:\\users\\jean paul\\.conda\\envs\\env_ishango\\lib\\site-packages (from google-api-core<2dev,>=1.21.0->google-api-python-client<2,>=1.12.1->earthengine-api) (3.17.3)\n",
      "Requirement already satisfied: googleapis-common-protos<2.0dev,>=1.6.0 in c:\\users\\jean paul\\.conda\\envs\\env_ishango\\lib\\site-packages (from google-api-core<2dev,>=1.21.0->google-api-python-client<2,>=1.12.1->earthengine-api) (1.53.0)\n",
      "Requirement already satisfied: packaging>=14.3 in c:\\users\\jean paul\\.conda\\envs\\env_ishango\\lib\\site-packages (from google-api-core<2dev,>=1.21.0->google-api-python-client<2,>=1.12.1->earthengine-api) (21.0)\n",
      "Requirement already satisfied: requests<3.0.0dev,>=2.18.0 in c:\\users\\jean paul\\.conda\\envs\\env_ishango\\lib\\site-packages (from google-api-core<2dev,>=1.21.0->google-api-python-client<2,>=1.12.1->earthengine-api) (2.26.0)\n",
      "Requirement already satisfied: setuptools>=40.3.0 in c:\\users\\jean paul\\.conda\\envs\\env_ishango\\lib\\site-packages (from google-api-core<2dev,>=1.21.0->google-api-python-client<2,>=1.12.1->earthengine-api) (58.0.4)\n",
      "Requirement already satisfied: cachetools<5.0,>=2.0.0 in c:\\users\\jean paul\\.conda\\envs\\env_ishango\\lib\\site-packages (from google-auth>=1.4.1->earthengine-api) (4.2.4)\n",
      "Requirement already satisfied: rsa<5,>=3.1.4 in c:\\users\\jean paul\\.conda\\envs\\env_ishango\\lib\\site-packages (from google-auth>=1.4.1->earthengine-api) (4.7.2)\n",
      "Requirement already satisfied: pyasn1-modules>=0.2.1 in c:\\users\\jean paul\\.conda\\envs\\env_ishango\\lib\\site-packages (from google-auth>=1.4.1->earthengine-api) (0.2.8)\n",
      "Requirement already satisfied: pyparsing<3,>=2.4.2 in c:\\users\\jean paul\\.conda\\envs\\env_ishango\\lib\\site-packages (from httplib2<1dev,>=0.9.2->earthengine-api) (2.4.7)\n",
      "Requirement already satisfied: pyasn1<0.5.0,>=0.4.6 in c:\\users\\jean paul\\.conda\\envs\\env_ishango\\lib\\site-packages (from pyasn1-modules>=0.2.1->google-auth>=1.4.1->earthengine-api) (0.4.8)\n",
      "Requirement already satisfied: idna<4,>=2.5 in c:\\users\\jean paul\\.conda\\envs\\env_ishango\\lib\\site-packages (from requests<3.0.0dev,>=2.18.0->google-api-core<2dev,>=1.21.0->google-api-python-client<2,>=1.12.1->earthengine-api) (3.2)\n",
      "Requirement already satisfied: urllib3<1.27,>=1.21.1 in c:\\users\\jean paul\\.conda\\envs\\env_ishango\\lib\\site-packages (from requests<3.0.0dev,>=2.18.0->google-api-core<2dev,>=1.21.0->google-api-python-client<2,>=1.12.1->earthengine-api) (1.26.7)\n",
      "Requirement already satisfied: certifi>=2017.4.17 in c:\\users\\jean paul\\.conda\\envs\\env_ishango\\lib\\site-packages (from requests<3.0.0dev,>=2.18.0->google-api-core<2dev,>=1.21.0->google-api-python-client<2,>=1.12.1->earthengine-api) (2021.5.30)\n",
      "Requirement already satisfied: charset-normalizer~=2.0.0 in c:\\users\\jean paul\\.conda\\envs\\env_ishango\\lib\\site-packages (from requests<3.0.0dev,>=2.18.0->google-api-core<2dev,>=1.21.0->google-api-python-client<2,>=1.12.1->earthengine-api) (2.0.6)\n",
      "Requirement already satisfied: google-resumable-media<3.0dev,>=1.3.0 in c:\\users\\jean paul\\.conda\\envs\\env_ishango\\lib\\site-packages (from google-cloud-storage->earthengine-api) (2.0.3)\n",
      "Requirement already satisfied: google-cloud-core<3.0dev,>=1.6.0 in c:\\users\\jean paul\\.conda\\envs\\env_ishango\\lib\\site-packages (from google-cloud-storage->earthengine-api) (2.1.0)\n",
      "Requirement already satisfied: google-crc32c<2.0dev,>=1.0 in c:\\users\\jean paul\\.conda\\envs\\env_ishango\\lib\\site-packages (from google-resumable-media<3.0dev,>=1.3.0->google-cloud-storage->earthengine-api) (1.3.0)\n",
      "Requirement already satisfied: geopandas in c:\\users\\jean paul\\.conda\\envs\\env_ishango\\lib\\site-packages (0.9.0)\n",
      "Requirement already satisfied: fiona>=1.8 in c:\\users\\jean paul\\.conda\\envs\\env_ishango\\lib\\site-packages (from geopandas) (1.8.20)\n",
      "Requirement already satisfied: pyproj>=2.2.0 in c:\\users\\jean paul\\.conda\\envs\\env_ishango\\lib\\site-packages (from geopandas) (3.2.1)\n",
      "Requirement already satisfied: pandas>=0.24.0 in c:\\users\\jean paul\\.conda\\envs\\env_ishango\\lib\\site-packages (from geopandas) (1.3.3)\n",
      "Requirement already satisfied: shapely>=1.6 in c:\\users\\jean paul\\.conda\\envs\\env_ishango\\lib\\site-packages (from geopandas) (1.7.1)\n",
      "Requirement already satisfied: attrs>=17 in c:\\users\\jean paul\\.conda\\envs\\env_ishango\\lib\\site-packages (from fiona>=1.8->geopandas) (21.2.0)\n",
      "Requirement already satisfied: certifi in c:\\users\\jean paul\\.conda\\envs\\env_ishango\\lib\\site-packages (from fiona>=1.8->geopandas) (2021.5.30)\n",
      "Requirement already satisfied: click>=4.0 in c:\\users\\jean paul\\.conda\\envs\\env_ishango\\lib\\site-packages (from fiona>=1.8->geopandas) (7.1.2)\n",
      "Requirement already satisfied: cligj>=0.5 in c:\\users\\jean paul\\.conda\\envs\\env_ishango\\lib\\site-packages (from fiona>=1.8->geopandas) (0.7.2)\n",
      "Requirement already satisfied: click-plugins>=1.0 in c:\\users\\jean paul\\.conda\\envs\\env_ishango\\lib\\site-packages (from fiona>=1.8->geopandas) (1.1.1)\n",
      "Requirement already satisfied: six>=1.7 in c:\\users\\jean paul\\.conda\\envs\\env_ishango\\lib\\site-packages (from fiona>=1.8->geopandas) (1.16.0)\n",
      "Requirement already satisfied: munch in c:\\users\\jean paul\\.conda\\envs\\env_ishango\\lib\\site-packages (from fiona>=1.8->geopandas) (2.5.0)\n",
      "Requirement already satisfied: setuptools in c:\\users\\jean paul\\.conda\\envs\\env_ishango\\lib\\site-packages (from fiona>=1.8->geopandas) (58.0.4)\n",
      "Requirement already satisfied: pytz>=2017.3 in c:\\users\\jean paul\\.conda\\envs\\env_ishango\\lib\\site-packages (from pandas>=0.24.0->geopandas) (2021.1)\n",
      "Requirement already satisfied: python-dateutil>=2.7.3 in c:\\users\\jean paul\\.conda\\envs\\env_ishango\\lib\\site-packages (from pandas>=0.24.0->geopandas) (2.8.2)\n",
      "Requirement already satisfied: numpy>=1.17.3 in c:\\users\\jean paul\\.conda\\envs\\env_ishango\\lib\\site-packages (from pandas>=0.24.0->geopandas) (1.21.2)\n"
     ]
    }
   ],
   "source": [
    "!pip install rasterio\n",
    "!pip install ipygee\n",
    "!pip install tslearn\n",
    "!pip install earthengine-api\n",
    "!pip install geopandas"
   ]
  },
  {
   "cell_type": "code",
   "execution_count": 9,
   "id": "ec061b54",
   "metadata": {},
   "outputs": [
    {
     "data": {
      "text/html": [
       "<p>To authorize access needed by Earth Engine, open the following\n",
       "        URL in a web browser and follow the instructions:</p>\n",
       "        <p><a href=https://accounts.google.com/o/oauth2/auth?client_id=517222506229-vsmmajv00ul0bs7p89v5m89qs8eb9359.apps.googleusercontent.com&scope=https%3A%2F%2Fwww.googleapis.com%2Fauth%2Fearthengine+https%3A%2F%2Fwww.googleapis.com%2Fauth%2Fdevstorage.full_control&redirect_uri=urn%3Aietf%3Awg%3Aoauth%3A2.0%3Aoob&response_type=code&code_challenge=2U-FM-rI9IoSBFpuwfOExUEzpTIccpcGziqmyQTyYFk&code_challenge_method=S256>https://accounts.google.com/o/oauth2/auth?client_id=517222506229-vsmmajv00ul0bs7p89v5m89qs8eb9359.apps.googleusercontent.com&scope=https%3A%2F%2Fwww.googleapis.com%2Fauth%2Fearthengine+https%3A%2F%2Fwww.googleapis.com%2Fauth%2Fdevstorage.full_control&redirect_uri=urn%3Aietf%3Awg%3Aoauth%3A2.0%3Aoob&response_type=code&code_challenge=2U-FM-rI9IoSBFpuwfOExUEzpTIccpcGziqmyQTyYFk&code_challenge_method=S256</a></p>\n",
       "        <p>The authorization workflow will generate a code, which you\n",
       "        should paste in the box below</p>\n",
       "        "
      ],
      "text/plain": [
       "<IPython.core.display.HTML object>"
      ]
     },
     "metadata": {},
     "output_type": "display_data"
    },
    {
     "name": "stdout",
     "output_type": "stream",
     "text": [
      "Enter verification code: 4/1AX4XfWgu8F6GkK8r8i3yIDlg4jelPJbLBrNOdE1PyJS2dsaTR3H-Dz_OVgU\n",
      "\n",
      "Successfully saved authorization token.\n"
     ]
    }
   ],
   "source": [
    "import ee\n",
    "ee.Authenticate()\n",
    "ee.Initialize()"
   ]
  },
  {
   "cell_type": "code",
   "execution_count": 10,
   "id": "64851832",
   "metadata": {},
   "outputs": [
    {
     "name": "stdout",
     "output_type": "stream",
     "text": [
      "0.12.1\n"
     ]
    }
   ],
   "source": [
    "import folium\n",
    "from folium import plugins\n",
    "from IPython.display import Image\n",
    "import geopandas as gpd\n",
    "import json\n",
    "print(folium.__version__)\n",
    "from ipygee import*\n",
    "import math\n",
    "import pandas as pd\n",
    "from tslearn.clustering import TimeSeriesKMeans\n",
    "from tslearn.utils import to_time_series_dataset"
   ]
  },
  {
   "cell_type": "code",
   "execution_count": 11,
   "id": "d4b0b70f",
   "metadata": {},
   "outputs": [],
   "source": [
    "AOI =  ee.Geometry.Polygon(\n",
    "[[[\n",
    "              32.23388671875,\n",
    "              -17.371610024104744\n",
    "            ],\n",
    "            [\n",
    "              37.08984375,\n",
    "              -17.371610024104744\n",
    "            ],\n",
    "            [\n",
    "              37.08984375,\n",
    "              -9.123792057073972\n",
    "            ],\n",
    "            [\n",
    "              32.23388671875,\n",
    "              -9.123792057073972\n",
    "            ],\n",
    "            [\n",
    "              32.23388671875,\n",
    "              -17.371610024104744\n",
    "            ]]])\n",
    "points = ee.FeatureCollection.randomPoints(AOI,100)"
   ]
  },
  {
   "cell_type": "code",
   "execution_count": 12,
   "id": "3c3f08b2",
   "metadata": {},
   "outputs": [],
   "source": [
    "months = ee.List.sequence(1,12)\n",
    "years = ee.List.sequence(2018, 2019)"
   ]
  },
  {
   "cell_type": "code",
   "execution_count": 18,
   "id": "cb159933",
   "metadata": {},
   "outputs": [],
   "source": [
    "MD_NDVI = ee.ImageCollection('MODIS/MOD09GA_006_NDVI').filterDate('2018-1-1','2019-12-31').filterBounds(AOI).select('NDVI')\n",
    "modis_ndvi = MD_NDVI.median().clip(AOI)\n",
    "mean_ndvi = MD_NDVI.mean().clip(AOI)"
   ]
  },
  {
   "cell_type": "code",
   "execution_count": 19,
   "id": "81486773",
   "metadata": {},
   "outputs": [
    {
     "data": {
      "text/html": [
       "<div style=\"width:100%;\"><div style=\"position:relative;width:100%;height:0;padding-bottom:60%;\"><span style=\"color:#565656\">Make this Notebook Trusted to load map: File -> Trust Notebook</span><iframe src=\"about:blank\" style=\"position:absolute;width:100%;height:100%;left:0;top:0;border:none !important;\" data-html=%3C%21DOCTYPE%20html%3E%0A%3Chead%3E%20%20%20%20%0A%20%20%20%20%3Cmeta%20http-equiv%3D%22content-type%22%20content%3D%22text/html%3B%20charset%3DUTF-8%22%20/%3E%0A%20%20%20%20%0A%20%20%20%20%20%20%20%20%3Cscript%3E%0A%20%20%20%20%20%20%20%20%20%20%20%20L_NO_TOUCH%20%3D%20false%3B%0A%20%20%20%20%20%20%20%20%20%20%20%20L_DISABLE_3D%20%3D%20false%3B%0A%20%20%20%20%20%20%20%20%3C/script%3E%0A%20%20%20%20%0A%20%20%20%20%3Cstyle%3Ehtml%2C%20body%20%7Bwidth%3A%20100%25%3Bheight%3A%20100%25%3Bmargin%3A%200%3Bpadding%3A%200%3B%7D%3C/style%3E%0A%20%20%20%20%3Cstyle%3E%23map%20%7Bposition%3Aabsolute%3Btop%3A0%3Bbottom%3A0%3Bright%3A0%3Bleft%3A0%3B%7D%3C/style%3E%0A%20%20%20%20%3Cscript%20src%3D%22https%3A//cdn.jsdelivr.net/npm/leaflet%401.6.0/dist/leaflet.js%22%3E%3C/script%3E%0A%20%20%20%20%3Cscript%20src%3D%22https%3A//code.jquery.com/jquery-1.12.4.min.js%22%3E%3C/script%3E%0A%20%20%20%20%3Cscript%20src%3D%22https%3A//maxcdn.bootstrapcdn.com/bootstrap/3.2.0/js/bootstrap.min.js%22%3E%3C/script%3E%0A%20%20%20%20%3Cscript%20src%3D%22https%3A//cdnjs.cloudflare.com/ajax/libs/Leaflet.awesome-markers/2.0.2/leaflet.awesome-markers.js%22%3E%3C/script%3E%0A%20%20%20%20%3Clink%20rel%3D%22stylesheet%22%20href%3D%22https%3A//cdn.jsdelivr.net/npm/leaflet%401.6.0/dist/leaflet.css%22/%3E%0A%20%20%20%20%3Clink%20rel%3D%22stylesheet%22%20href%3D%22https%3A//maxcdn.bootstrapcdn.com/bootstrap/3.2.0/css/bootstrap.min.css%22/%3E%0A%20%20%20%20%3Clink%20rel%3D%22stylesheet%22%20href%3D%22https%3A//maxcdn.bootstrapcdn.com/bootstrap/3.2.0/css/bootstrap-theme.min.css%22/%3E%0A%20%20%20%20%3Clink%20rel%3D%22stylesheet%22%20href%3D%22https%3A//maxcdn.bootstrapcdn.com/font-awesome/4.6.3/css/font-awesome.min.css%22/%3E%0A%20%20%20%20%3Clink%20rel%3D%22stylesheet%22%20href%3D%22https%3A//cdnjs.cloudflare.com/ajax/libs/Leaflet.awesome-markers/2.0.2/leaflet.awesome-markers.css%22/%3E%0A%20%20%20%20%3Clink%20rel%3D%22stylesheet%22%20href%3D%22https%3A//cdn.jsdelivr.net/gh/python-visualization/folium/folium/templates/leaflet.awesome.rotate.min.css%22/%3E%0A%20%20%20%20%0A%20%20%20%20%20%20%20%20%20%20%20%20%3Cmeta%20name%3D%22viewport%22%20content%3D%22width%3Ddevice-width%2C%0A%20%20%20%20%20%20%20%20%20%20%20%20%20%20%20%20initial-scale%3D1.0%2C%20maximum-scale%3D1.0%2C%20user-scalable%3Dno%22%20/%3E%0A%20%20%20%20%20%20%20%20%20%20%20%20%3Cstyle%3E%0A%20%20%20%20%20%20%20%20%20%20%20%20%20%20%20%20%23map_f9d57d62e0e94b92be76ea0e2b0879f7%20%7B%0A%20%20%20%20%20%20%20%20%20%20%20%20%20%20%20%20%20%20%20%20position%3A%20relative%3B%0A%20%20%20%20%20%20%20%20%20%20%20%20%20%20%20%20%20%20%20%20width%3A%20100.0%25%3B%0A%20%20%20%20%20%20%20%20%20%20%20%20%20%20%20%20%20%20%20%20height%3A%20100.0%25%3B%0A%20%20%20%20%20%20%20%20%20%20%20%20%20%20%20%20%20%20%20%20left%3A%200.0%25%3B%0A%20%20%20%20%20%20%20%20%20%20%20%20%20%20%20%20%20%20%20%20top%3A%200.0%25%3B%0A%20%20%20%20%20%20%20%20%20%20%20%20%20%20%20%20%7D%0A%20%20%20%20%20%20%20%20%20%20%20%20%3C/style%3E%0A%20%20%20%20%20%20%20%20%0A%3C/head%3E%0A%3Cbody%3E%20%20%20%20%0A%20%20%20%20%0A%20%20%20%20%20%20%20%20%20%20%20%20%3Cdiv%20class%3D%22folium-map%22%20id%3D%22map_f9d57d62e0e94b92be76ea0e2b0879f7%22%20%3E%3C/div%3E%0A%20%20%20%20%20%20%20%20%0A%3C/body%3E%0A%3Cscript%3E%20%20%20%20%0A%20%20%20%20%0A%20%20%20%20%20%20%20%20%20%20%20%20var%20map_f9d57d62e0e94b92be76ea0e2b0879f7%20%3D%20L.map%28%0A%20%20%20%20%20%20%20%20%20%20%20%20%20%20%20%20%22map_f9d57d62e0e94b92be76ea0e2b0879f7%22%2C%0A%20%20%20%20%20%20%20%20%20%20%20%20%20%20%20%20%7B%0A%20%20%20%20%20%20%20%20%20%20%20%20%20%20%20%20%20%20%20%20center%3A%20%5B-13.2512161%2C%2034.3015278%5D%2C%0A%20%20%20%20%20%20%20%20%20%20%20%20%20%20%20%20%20%20%20%20crs%3A%20L.CRS.EPSG3857%2C%0A%20%20%20%20%20%20%20%20%20%20%20%20%20%20%20%20%20%20%20%20zoom%3A%2010%2C%0A%20%20%20%20%20%20%20%20%20%20%20%20%20%20%20%20%20%20%20%20zoomControl%3A%20true%2C%0A%20%20%20%20%20%20%20%20%20%20%20%20%20%20%20%20%20%20%20%20preferCanvas%3A%20false%2C%0A%20%20%20%20%20%20%20%20%20%20%20%20%20%20%20%20%7D%0A%20%20%20%20%20%20%20%20%20%20%20%20%29%3B%0A%0A%20%20%20%20%20%20%20%20%20%20%20%20%0A%0A%20%20%20%20%20%20%20%20%0A%20%20%20%20%0A%20%20%20%20%20%20%20%20%20%20%20%20var%20tile_layer_066315b43f6e4610a11933b744b21e21%20%3D%20L.tileLayer%28%0A%20%20%20%20%20%20%20%20%20%20%20%20%20%20%20%20%22https%3A//%7Bs%7D.tile.openstreetmap.org/%7Bz%7D/%7Bx%7D/%7By%7D.png%22%2C%0A%20%20%20%20%20%20%20%20%20%20%20%20%20%20%20%20%7B%22attribution%22%3A%20%22Data%20by%20%5Cu0026copy%3B%20%5Cu003ca%20href%3D%5C%22http%3A//openstreetmap.org%5C%22%5Cu003eOpenStreetMap%5Cu003c/a%5Cu003e%2C%20under%20%5Cu003ca%20href%3D%5C%22http%3A//www.openstreetmap.org/copyright%5C%22%5Cu003eODbL%5Cu003c/a%5Cu003e.%22%2C%20%22detectRetina%22%3A%20false%2C%20%22maxNativeZoom%22%3A%2018%2C%20%22maxZoom%22%3A%2018%2C%20%22minZoom%22%3A%200%2C%20%22noWrap%22%3A%20false%2C%20%22opacity%22%3A%201%2C%20%22subdomains%22%3A%20%22abc%22%2C%20%22tms%22%3A%20false%7D%0A%20%20%20%20%20%20%20%20%20%20%20%20%29.addTo%28map_f9d57d62e0e94b92be76ea0e2b0879f7%29%3B%0A%20%20%20%20%20%20%20%20%0A%20%20%20%20%0A%20%20%20%20%20%20%20%20%20%20%20%20var%20tile_layer_ac96b07ac9d741aeaa367fa83f64da60%20%3D%20L.tileLayer%28%0A%20%20%20%20%20%20%20%20%20%20%20%20%20%20%20%20%22https%3A//mt1.google.com/vt/lyrs%3Dm%5Cu0026x%3D%7Bx%7D%5Cu0026y%3D%7By%7D%5Cu0026z%3D%7Bz%7D%22%2C%0A%20%20%20%20%20%20%20%20%20%20%20%20%20%20%20%20%7B%22attribution%22%3A%20%22Google%22%2C%20%22detectRetina%22%3A%20false%2C%20%22maxNativeZoom%22%3A%2018%2C%20%22maxZoom%22%3A%2018%2C%20%22minZoom%22%3A%200%2C%20%22noWrap%22%3A%20false%2C%20%22opacity%22%3A%201%2C%20%22subdomains%22%3A%20%22abc%22%2C%20%22tms%22%3A%20false%7D%0A%20%20%20%20%20%20%20%20%20%20%20%20%29.addTo%28map_f9d57d62e0e94b92be76ea0e2b0879f7%29%3B%0A%20%20%20%20%20%20%20%20%0A%20%20%20%20%0A%20%20%20%20%20%20%20%20%20%20%20%20var%20tile_layer_4279fd3ccb594e05963e1b338e30db05%20%3D%20L.tileLayer%28%0A%20%20%20%20%20%20%20%20%20%20%20%20%20%20%20%20%22https%3A//earthengine.googleapis.com/v1alpha/projects/earthengine-legacy/maps/03f84a5ec55a73184437f7fe64632038-72c04f12fbd1cd05de9dbea759a95a67/tiles/%7Bz%7D/%7Bx%7D/%7By%7D%22%2C%0A%20%20%20%20%20%20%20%20%20%20%20%20%20%20%20%20%7B%22attribution%22%3A%20%22Google%20Earth%20Engine%22%2C%20%22detectRetina%22%3A%20false%2C%20%22maxNativeZoom%22%3A%2018%2C%20%22maxZoom%22%3A%2018%2C%20%22minZoom%22%3A%200%2C%20%22noWrap%22%3A%20false%2C%20%22opacity%22%3A%201%2C%20%22subdomains%22%3A%20%22abc%22%2C%20%22tms%22%3A%20false%7D%0A%20%20%20%20%20%20%20%20%20%20%20%20%29.addTo%28map_f9d57d62e0e94b92be76ea0e2b0879f7%29%3B%0A%20%20%20%20%20%20%20%20%0A%20%20%20%20%0A%0A%20%20%20%20%20%20%20%20function%20geo_json_085c160c5f524cde8afa85f846ebcff2_onEachFeature%28feature%2C%20layer%29%20%7B%0A%20%20%20%20%20%20%20%20%20%20%20%20layer.on%28%7B%0A%20%20%20%20%20%20%20%20%20%20%20%20%7D%29%3B%0A%20%20%20%20%20%20%20%20%7D%3B%0A%20%20%20%20%20%20%20%20var%20geo_json_085c160c5f524cde8afa85f846ebcff2%20%3D%20L.geoJson%28null%2C%20%7B%0A%20%20%20%20%20%20%20%20%20%20%20%20%20%20%20%20onEachFeature%3A%20geo_json_085c160c5f524cde8afa85f846ebcff2_onEachFeature%2C%0A%20%20%20%20%20%20%20%20%20%20%20%20%0A%20%20%20%20%20%20%20%20%7D%29%3B%0A%0A%20%20%20%20%20%20%20%20function%20geo_json_085c160c5f524cde8afa85f846ebcff2_add%20%28data%29%20%7B%0A%20%20%20%20%20%20%20%20%20%20%20%20geo_json_085c160c5f524cde8afa85f846ebcff2%0A%20%20%20%20%20%20%20%20%20%20%20%20%20%20%20%20.addData%28data%29%0A%20%20%20%20%20%20%20%20%20%20%20%20%20%20%20%20.addTo%28map_f9d57d62e0e94b92be76ea0e2b0879f7%29%3B%0A%20%20%20%20%20%20%20%20%7D%0A%20%20%20%20%20%20%20%20%20%20%20%20geo_json_085c160c5f524cde8afa85f846ebcff2_add%28%7B%22coordinates%22%3A%20%5B%5B32.96846265672036%2C%20-12.336630904550336%5D%2C%20%5B32.55521338145682%2C%20-9.382035432227674%5D%2C%20%5B35.04834997858179%2C%20-10.80758214938864%5D%2C%20%5B32.5627747051484%2C%20-9.918829666411767%5D%2C%20%5B34.81601884706682%2C%20-16.696078865688907%5D%2C%20%5B33.04948206742415%2C%20-17.31329401237143%5D%2C%20%5B34.82718626587556%2C%20-14.681640576462122%5D%2C%20%5B36.49298387481636%2C%20-16.447423454693343%5D%2C%20%5B36.523681140770016%2C%20-15.373550605012667%5D%2C%20%5B35.05028166937993%2C%20-14.378835529208322%5D%2C%20%5B33.0762430741998%2C%20-12.458971636574942%5D%2C%20%5B33.771245101995184%2C%20-14.905183723010627%5D%2C%20%5B32.25313980880456%2C%20-13.244091853025735%5D%2C%20%5B36.02230447242801%2C%20-16.747132463220616%5D%2C%20%5B35.60982835173668%2C%20-9.297942986180592%5D%2C%20%5B32.82066540438452%2C%20-10.231030720280847%5D%2C%20%5B34.92528510640423%2C%20-10.30609172128494%5D%2C%20%5B36.59915143808414%2C%20-17.333496110361043%5D%2C%20%5B36.71075086947892%2C%20-9.78699777066528%5D%2C%20%5B35.76586103649363%2C%20-10.985253338803012%5D%2C%20%5B32.546249226882104%2C%20-15.233702826267173%5D%2C%20%5B36.03933801065497%2C%20-15.800203098176237%5D%2C%20%5B33.61490622509968%2C%20-14.462241459552097%5D%2C%20%5B33.719141988253384%2C%20-15.29193705000062%5D%2C%20%5B36.559406904511505%2C%20-17.089268664676055%5D%2C%20%5B33.28491390821876%2C%20-12.586721276900349%5D%2C%20%5B36.867399661930946%2C%20-12.193268099234215%5D%2C%20%5B34.732507020041936%2C%20-9.14849689018482%5D%2C%20%5B33.896737966650754%2C%20-15.774340838955716%5D%2C%20%5B34.18606436641699%2C%20-15.380131760575773%5D%2C%20%5B32.49138807600693%2C%20-11.59436047246483%5D%2C%20%5B34.35458918308837%2C%20-15.029268382149354%5D%2C%20%5B33.261773874565705%2C%20-11.093885715381376%5D%2C%20%5B36.070464888945935%2C%20-13.645575421551294%5D%2C%20%5B33.211629601411666%2C%20-12.519571439203036%5D%2C%20%5B34.32278185162754%2C%20-11.833647976562405%5D%2C%20%5B36.920414747643584%2C%20-14.812512358384874%5D%2C%20%5B34.269423395426486%2C%20-10.98252286263855%5D%2C%20%5B35.198591585768575%2C%20-12.609463773556081%5D%2C%20%5B33.512993085085526%2C%20-11.71203861201987%5D%2C%20%5B34.652927881178165%2C%20-10.51246099302131%5D%2C%20%5B34.58786049854682%2C%20-16.998727135978072%5D%2C%20%5B36.45816856770912%2C%20-11.269997504790883%5D%2C%20%5B36.82003358228991%2C%20-9.797214135155835%5D%2C%20%5B33.546950250198414%2C%20-16.86722552920926%5D%2C%20%5B36.796766850588206%2C%20-10.49840516558637%5D%2C%20%5B35.88574913934638%2C%20-15.30089289185679%5D%2C%20%5B33.600523996826816%2C%20-15.766695981345386%5D%2C%20%5B32.45617712591209%2C%20-15.658132378799532%5D%2C%20%5B36.19931598207655%2C%20-10.98157149230451%5D%2C%20%5B34.54134378756367%2C%20-9.383480756872826%5D%2C%20%5B36.36423376243289%2C%20-13.38042340069592%5D%2C%20%5B33.138792074930336%2C%20-10.10599535936411%5D%2C%20%5B36.325600677352554%2C%20-9.773630588083563%5D%2C%20%5B35.98486727869147%2C%20-14.387181993283573%5D%2C%20%5B34.21921405255249%2C%20-15.203009802088747%5D%2C%20%5B34.40966813824587%2C%20-11.925203416541208%5D%2C%20%5B36.237018454250624%2C%20-15.42533752247377%5D%2C%20%5B34.94323448757478%2C%20-17.256771723024332%5D%2C%20%5B34.25628403345915%2C%20-12.801300775047318%5D%2C%20%5B36.62910262969%2C%20-9.854479521617069%5D%2C%20%5B33.70890673441273%2C%20-14.929181927289362%5D%2C%20%5B33.36055918590592%2C%20-13.975339360592717%5D%2C%20%5B36.890255833789965%2C%20-17.24857456128904%5D%2C%20%5B35.787018888803274%2C%20-15.832207503901586%5D%2C%20%5B36.56843901497701%2C%20-14.234704869356472%5D%2C%20%5B35.8510498299111%2C%20-16.669978352425623%5D%2C%20%5B36.98079391122742%2C%20-13.331205547592898%5D%2C%20%5B33.63298428542712%2C%20-16.669084662261298%5D%2C%20%5B34.211709040292334%2C%20-16.56899114032409%5D%2C%20%5B34.61235329733842%2C%20-17.249541640502635%5D%2C%20%5B34.31121122349238%2C%20-10.578157144584777%5D%2C%20%5B34.206415448172464%2C%20-11.083734206595846%5D%2C%20%5B35.790723072980526%2C%20-10.553026450185985%5D%2C%20%5B36.6742257616524%2C%20-11.470524085982259%5D%2C%20%5B32.39211521921326%2C%20-16.501723568449115%5D%2C%20%5B34.00837067897074%2C%20-12.969745447530746%5D%2C%20%5B32.53725462406405%2C%20-9.40117263306894%5D%2C%20%5B34.731409969387194%2C%20-12.515051030263853%5D%2C%20%5B34.45162721817406%2C%20-15.516914334959907%5D%2C%20%5B34.102374185934174%2C%20-9.53068306562338%5D%2C%20%5B36.68562998390846%2C%20-15.478746322760072%5D%2C%20%5B35.6150283895625%2C%20-12.718847917025842%5D%2C%20%5B36.61823635630581%2C%20-15.512183778573787%5D%2C%20%5B36.6816611136467%2C%20-11.105247136985586%5D%2C%20%5B36.77201848412367%2C%20-14.853119449833933%5D%2C%20%5B36.64143396590903%2C%20-16.512508879436027%5D%2C%20%5B35.15277723491904%2C%20-16.196558286579496%5D%2C%20%5B32.41660505897599%2C%20-9.203916480095797%5D%2C%20%5B33.89854583547928%2C%20-9.817798499080657%5D%2C%20%5B34.827278646406526%2C%20-13.748598575804307%5D%2C%20%5B32.301430656085216%2C%20-16.993027134973808%5D%2C%20%5B32.72568323103775%2C%20-9.563778277219605%5D%2C%20%5B34.64126217054686%2C%20-12.669508413603152%5D%2C%20%5B36.60537907508368%2C%20-10.183017152896525%5D%2C%20%5B35.710151050718515%2C%20-12.326837616407653%5D%2C%20%5B35.22134932727242%2C%20-16.22477124144201%5D%2C%20%5B36.871322608990525%2C%20-12.093264757840714%5D%2C%20%5B33.146552695006896%2C%20-11.547449684138918%5D%2C%20%5B36.19352428892833%2C%20-11.94580201607651%5D%5D%2C%20%22type%22%3A%20%22MultiPoint%22%7D%29%3B%0A%0A%20%20%20%20%20%20%20%20%0A%20%20%20%20%0A%20%20%20%20%20%20%20%20%20%20%20%20var%20layer_control_b8d6da679ff643dc949bd87190a77cf3%20%3D%20%7B%0A%20%20%20%20%20%20%20%20%20%20%20%20%20%20%20%20base_layers%20%3A%20%7B%0A%20%20%20%20%20%20%20%20%20%20%20%20%20%20%20%20%20%20%20%20%22openstreetmap%22%20%3A%20tile_layer_066315b43f6e4610a11933b744b21e21%2C%0A%20%20%20%20%20%20%20%20%20%20%20%20%20%20%20%20%7D%2C%0A%20%20%20%20%20%20%20%20%20%20%20%20%20%20%20%20overlays%20%3A%20%20%7B%0A%20%20%20%20%20%20%20%20%20%20%20%20%20%20%20%20%20%20%20%20%22Google%20Maps%22%20%3A%20tile_layer_ac96b07ac9d741aeaa367fa83f64da60%2C%0A%20%20%20%20%20%20%20%20%20%20%20%20%20%20%20%20%20%20%20%20%22NDVI%22%20%3A%20tile_layer_4279fd3ccb594e05963e1b338e30db05%2C%0A%20%20%20%20%20%20%20%20%20%20%20%20%20%20%20%20%20%20%20%20%22Points%22%20%3A%20geo_json_085c160c5f524cde8afa85f846ebcff2%2C%0A%20%20%20%20%20%20%20%20%20%20%20%20%20%20%20%20%7D%2C%0A%20%20%20%20%20%20%20%20%20%20%20%20%7D%3B%0A%20%20%20%20%20%20%20%20%20%20%20%20L.control.layers%28%0A%20%20%20%20%20%20%20%20%20%20%20%20%20%20%20%20layer_control_b8d6da679ff643dc949bd87190a77cf3.base_layers%2C%0A%20%20%20%20%20%20%20%20%20%20%20%20%20%20%20%20layer_control_b8d6da679ff643dc949bd87190a77cf3.overlays%2C%0A%20%20%20%20%20%20%20%20%20%20%20%20%20%20%20%20%7B%22autoZIndex%22%3A%20true%2C%20%22collapsed%22%3A%20true%2C%20%22position%22%3A%20%22topright%22%7D%0A%20%20%20%20%20%20%20%20%20%20%20%20%29.addTo%28map_f9d57d62e0e94b92be76ea0e2b0879f7%29%3B%0A%20%20%20%20%20%20%20%20%0A%3C/script%3E onload=\"this.contentDocument.open();this.contentDocument.write(    decodeURIComponent(this.getAttribute('data-html')));this.contentDocument.close();\" allowfullscreen webkitallowfullscreen mozallowfullscreen></iframe></div></div>"
      ],
      "text/plain": [
       "<folium.folium.Map at 0x1a95b3f9700>"
      ]
     },
     "metadata": {},
     "output_type": "display_data"
    }
   ],
   "source": [
    "vis_params = {'min': 0, 'max': 1, 'palette': \n",
    "['blue', 'yellow', 'green', 'darkgreen','black']}\n",
    "basemaps = {\n",
    "'Google Maps': folium.TileLayer(\n",
    "tiles = 'https://mt1.google.com/vt/lyrs=m&x={x}&y={y}&z={z}',\n",
    "attr = 'Google',\n",
    "name = 'Google Maps',\n",
    "overlay = True,\n",
    "control = True\n",
    "),\n",
    "'Google Satellite': folium.TileLayer(\n",
    "tiles = 'https://mt1.google.com/vt/lyrs=s&x={x}&y={y}&z={z}',\n",
    "attr = 'Google',\n",
    "name = 'Google Satellite',\n",
    "overlay = True,\n",
    "control = True\n",
    ")}\n",
    "def add_ee_layer(self, ee_object, vis_params, name):\n",
    " try:\n",
    "  if isinstance(ee_object, ee.image.Image):\n",
    "   map_id_dict = ee.Image(ee_object).getMapId(vis_params)\n",
    "   folium.raster_layers.TileLayer(\n",
    "   tiles = map_id_dict['tile_fetcher'].url_format,\n",
    "   attr = 'Google Earth Engine',\n",
    "   name = name,\n",
    "   overlay = True,\n",
    "   control = True\n",
    "   ).add_to(self)\n",
    "\n",
    "  elif isinstance(ee_object, ee.imagecollection.ImageCollection):\n",
    "   ee_object_new = ee_object.mosaic()\n",
    "   map_id_dict = ee.Image(ee_object_new).getMapId(vis_params)\n",
    "   folium.raster_layers.TileLayer(\n",
    "   tiles = map_id_dict['tile_fetcher'].url_format,\n",
    "   attr = 'Google Earth Engine',\n",
    "   name = name, \n",
    "   overlay = True,\n",
    "   control = True\n",
    "   ).add_to(self)\n",
    "\n",
    "  elif isinstance(ee_object, ee.geometry.Geometry):\n",
    "   folium.GeoJson(\n",
    "   data = ee_object.getInfo(),\n",
    "   name = name,\n",
    "   overlay = True,\n",
    "   control = True\n",
    "   ).add_to(self)\n",
    "\n",
    "  elif isinstance(ee_object,ee.featurecollection.FeatureCollection):\n",
    "   ee_object_new = ee.Image().paint(ee_object, 0, 2)\n",
    "   map_id_dict = ee.Image(ee_object_new).getMapId(vis_params)\n",
    "   folium.raster_layers.TileLayer(\n",
    "   tiles = map_id_dict['tile_fetcher'].url_format,\n",
    "   attr = 'Google Earth Engine',\n",
    "   name = name,\n",
    "   overlay = True,\n",
    "   control = True\n",
    "   ).add_to(self)\n",
    "\n",
    " except:\n",
    "  print(\"Could not display {}\".format(name))\n",
    "folium.Map.add_ee_layer = add_ee_layer\n",
    "my_map = folium.Map(location=[-13.2512161, 34.3015278],\n",
    "                    zoom_start=10)\n",
    "basemaps['Google Maps'].add_to(my_map)\n",
    "my_map.add_ee_layer(modis_ndvi, vis_params, 'NDVI')\n",
    "my_map.add_ee_layer(points.geometry(), {}, 'Points')\n",
    "my_map.add_child(folium.LayerControl())\n",
    "display(my_map)"
   ]
  },
  {
   "cell_type": "code",
   "execution_count": 20,
   "id": "2204e968",
   "metadata": {},
   "outputs": [],
   "source": [
    "def monthly(collection):\n",
    " img_coll = ee.ImageCollection([])\n",
    " for y in years.getInfo():\n",
    "  for m in months.getInfo():\n",
    "   filtered = collection.filter(ee.Filter.calendarRange(y,y,'year')).filter(ee.Filter.calendarRange(m, m, 'month'))\n",
    "   filtered = filtered.median()\n",
    "   img_coll = img_coll.merge(filtered.set('year', y).set('month', m).set('system:time_start',ee.Date.fromYMD(y, m, 1).getInfo()['value']))\n",
    " return img_coll\n",
    "Monthly_MD = monthly(MD_NDVI)"
   ]
  },
  {
   "cell_type": "code",
   "execution_count": 21,
   "id": "e8694fdf",
   "metadata": {},
   "outputs": [
    {
     "data": {
      "application/vnd.jupyter.widget-view+json": {
       "model_id": "7d61d6af95ea43e3ae0cc730153140f8",
       "version_major": 2,
       "version_minor": 0
      },
      "text/plain": [
       "HTML(value='<embed src=data:image/svg+xml;charset=utf-8;base64,PD94bWwgdmVyc2lvbj0nMS4wJyBlbmNvZGluZz0ndXRmLTg…"
      ]
     },
     "metadata": {},
     "output_type": "display_data"
    }
   ],
   "source": [
    "Point_1 = ee.Geometry.Point([-13.2512161, 34.3015278])\n",
    "MD_ndvi = chart.Image.series(**{'imageCollection': Monthly_MD,\n",
    "'region': Point_1,\n",
    "'reducer': ee.Reducer.mean(),\n",
    "'scale': 250,\n",
    "'xProperty': 'system:time_start'})\n",
    "MD_ndvi.renderWidget(width='80%')"
   ]
  },
  {
   "cell_type": "code",
   "execution_count": null,
   "id": "d0d55900",
   "metadata": {},
   "outputs": [],
   "source": []
  },
  {
   "cell_type": "code",
   "execution_count": null,
   "id": "da2a7923",
   "metadata": {},
   "outputs": [],
   "source": []
  },
  {
   "cell_type": "code",
   "execution_count": null,
   "id": "1e33c790",
   "metadata": {},
   "outputs": [],
   "source": []
  },
  {
   "cell_type": "code",
   "execution_count": null,
   "id": "a77d4c7e",
   "metadata": {},
   "outputs": [],
   "source": []
  },
  {
   "cell_type": "code",
   "execution_count": null,
   "id": "98ac1a48",
   "metadata": {},
   "outputs": [],
   "source": []
  },
  {
   "cell_type": "code",
   "execution_count": null,
   "id": "69ae0147",
   "metadata": {},
   "outputs": [],
   "source": []
  },
  {
   "cell_type": "code",
   "execution_count": null,
   "id": "b2f33cf1",
   "metadata": {},
   "outputs": [],
   "source": []
  },
  {
   "cell_type": "code",
   "execution_count": null,
   "id": "68d268e9",
   "metadata": {},
   "outputs": [],
   "source": []
  },
  {
   "cell_type": "code",
   "execution_count": null,
   "id": "d5942545",
   "metadata": {},
   "outputs": [],
   "source": []
  },
  {
   "cell_type": "code",
   "execution_count": null,
   "id": "47ac9fbe",
   "metadata": {},
   "outputs": [],
   "source": []
  },
  {
   "cell_type": "code",
   "execution_count": null,
   "id": "bcd52637",
   "metadata": {},
   "outputs": [],
   "source": []
  },
  {
   "cell_type": "code",
   "execution_count": null,
   "id": "c503264b",
   "metadata": {},
   "outputs": [],
   "source": []
  },
  {
   "cell_type": "code",
   "execution_count": null,
   "id": "d8b56b9c",
   "metadata": {},
   "outputs": [],
   "source": []
  },
  {
   "cell_type": "code",
   "execution_count": null,
   "id": "4ee825cf",
   "metadata": {},
   "outputs": [],
   "source": []
  },
  {
   "cell_type": "code",
   "execution_count": null,
   "id": "e577a1d6",
   "metadata": {},
   "outputs": [],
   "source": []
  },
  {
   "cell_type": "code",
   "execution_count": null,
   "id": "7295d908",
   "metadata": {},
   "outputs": [],
   "source": []
  },
  {
   "cell_type": "code",
   "execution_count": null,
   "id": "2db995a9",
   "metadata": {},
   "outputs": [],
   "source": []
  },
  {
   "cell_type": "code",
   "execution_count": null,
   "id": "838bbf88",
   "metadata": {},
   "outputs": [],
   "source": []
  },
  {
   "cell_type": "code",
   "execution_count": null,
   "id": "5e6d5bce",
   "metadata": {},
   "outputs": [],
   "source": []
  },
  {
   "cell_type": "code",
   "execution_count": null,
   "id": "56024ada",
   "metadata": {},
   "outputs": [],
   "source": []
  },
  {
   "cell_type": "code",
   "execution_count": null,
   "id": "a16c0f8a",
   "metadata": {},
   "outputs": [],
   "source": []
  },
  {
   "cell_type": "code",
   "execution_count": null,
   "id": "7432cf66",
   "metadata": {},
   "outputs": [],
   "source": []
  },
  {
   "cell_type": "code",
   "execution_count": null,
   "id": "a92d70f7",
   "metadata": {},
   "outputs": [],
   "source": []
  },
  {
   "cell_type": "code",
   "execution_count": null,
   "id": "c5a8fd51",
   "metadata": {},
   "outputs": [],
   "source": []
  },
  {
   "cell_type": "code",
   "execution_count": null,
   "id": "3f5f6394",
   "metadata": {},
   "outputs": [],
   "source": []
  },
  {
   "cell_type": "code",
   "execution_count": null,
   "id": "e96af006",
   "metadata": {},
   "outputs": [],
   "source": []
  },
  {
   "cell_type": "code",
   "execution_count": null,
   "id": "2f94e52f",
   "metadata": {},
   "outputs": [],
   "source": []
  },
  {
   "cell_type": "code",
   "execution_count": null,
   "id": "4e7ec50a",
   "metadata": {},
   "outputs": [],
   "source": []
  },
  {
   "cell_type": "code",
   "execution_count": null,
   "id": "fd77598c",
   "metadata": {},
   "outputs": [],
   "source": []
  },
  {
   "cell_type": "code",
   "execution_count": null,
   "id": "a181f828",
   "metadata": {},
   "outputs": [],
   "source": []
  },
  {
   "cell_type": "code",
   "execution_count": null,
   "id": "9c7b6fbe",
   "metadata": {},
   "outputs": [],
   "source": []
  },
  {
   "cell_type": "code",
   "execution_count": null,
   "id": "46e80a93",
   "metadata": {},
   "outputs": [],
   "source": []
  },
  {
   "cell_type": "code",
   "execution_count": null,
   "id": "f9123d80",
   "metadata": {},
   "outputs": [],
   "source": []
  },
  {
   "cell_type": "code",
   "execution_count": null,
   "id": "13642cc3",
   "metadata": {},
   "outputs": [],
   "source": []
  },
  {
   "cell_type": "code",
   "execution_count": null,
   "id": "fb9b056d",
   "metadata": {},
   "outputs": [],
   "source": []
  },
  {
   "cell_type": "code",
   "execution_count": null,
   "id": "96aece67",
   "metadata": {},
   "outputs": [],
   "source": []
  },
  {
   "cell_type": "code",
   "execution_count": null,
   "id": "199942c3",
   "metadata": {},
   "outputs": [],
   "source": []
  },
  {
   "cell_type": "code",
   "execution_count": null,
   "id": "a5e9576f",
   "metadata": {},
   "outputs": [],
   "source": []
  },
  {
   "cell_type": "code",
   "execution_count": null,
   "id": "b3b80e8f",
   "metadata": {},
   "outputs": [],
   "source": []
  },
  {
   "cell_type": "code",
   "execution_count": null,
   "id": "9ae2bd27",
   "metadata": {},
   "outputs": [],
   "source": []
  },
  {
   "cell_type": "code",
   "execution_count": null,
   "id": "5b1dea09",
   "metadata": {},
   "outputs": [],
   "source": []
  },
  {
   "cell_type": "code",
   "execution_count": null,
   "id": "83a8b05e",
   "metadata": {},
   "outputs": [],
   "source": []
  },
  {
   "cell_type": "code",
   "execution_count": null,
   "id": "be121eba",
   "metadata": {},
   "outputs": [],
   "source": []
  },
  {
   "cell_type": "code",
   "execution_count": null,
   "id": "b48f03be",
   "metadata": {},
   "outputs": [],
   "source": []
  },
  {
   "cell_type": "code",
   "execution_count": null,
   "id": "ecf4dae7",
   "metadata": {},
   "outputs": [],
   "source": []
  },
  {
   "cell_type": "code",
   "execution_count": null,
   "id": "804d665f",
   "metadata": {},
   "outputs": [],
   "source": []
  },
  {
   "cell_type": "code",
   "execution_count": null,
   "id": "8ed3e22c",
   "metadata": {},
   "outputs": [],
   "source": []
  },
  {
   "cell_type": "code",
   "execution_count": null,
   "id": "114ff934",
   "metadata": {},
   "outputs": [],
   "source": []
  },
  {
   "cell_type": "code",
   "execution_count": null,
   "id": "723ec81d",
   "metadata": {},
   "outputs": [],
   "source": []
  },
  {
   "cell_type": "code",
   "execution_count": null,
   "id": "c8578b05",
   "metadata": {},
   "outputs": [],
   "source": []
  },
  {
   "cell_type": "code",
   "execution_count": null,
   "id": "32095f12",
   "metadata": {},
   "outputs": [],
   "source": []
  },
  {
   "cell_type": "code",
   "execution_count": null,
   "id": "9903346d",
   "metadata": {},
   "outputs": [],
   "source": []
  },
  {
   "cell_type": "code",
   "execution_count": null,
   "id": "87c67018",
   "metadata": {},
   "outputs": [],
   "source": []
  },
  {
   "cell_type": "code",
   "execution_count": null,
   "id": "851b3f90",
   "metadata": {},
   "outputs": [],
   "source": []
  }
 ],
 "metadata": {
  "kernelspec": {
   "display_name": "Python 3 (ipykernel)",
   "language": "python",
   "name": "python3"
  },
  "language_info": {
   "codemirror_mode": {
    "name": "ipython",
    "version": 3
   },
   "file_extension": ".py",
   "mimetype": "text/x-python",
   "name": "python",
   "nbconvert_exporter": "python",
   "pygments_lexer": "ipython3",
   "version": "3.9.7"
  }
 },
 "nbformat": 4,
 "nbformat_minor": 5
}
