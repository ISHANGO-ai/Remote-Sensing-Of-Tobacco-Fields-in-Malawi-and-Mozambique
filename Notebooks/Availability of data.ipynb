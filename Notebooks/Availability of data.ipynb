{
 "cells": [
  {
   "cell_type": "code",
   "execution_count": 2,
   "id": "78c18004",
   "metadata": {},
   "outputs": [
    {
     "name": "stdout",
     "output_type": "stream",
     "text": [
      "Enter Usernamemuhammadnassermoul\n",
      "Enter PasswordCasedepart1994\n",
      "Startdate yymmdd20181010\n",
      "Enddate yymmdd20190510\n",
      "Enter json file directoryC:/Users/Jean Paul/Downloads/map (14).geojson\n"
     ]
    },
    {
     "data": {
      "application/vnd.jupyter.widget-view+json": {
       "model_id": "9eaf334a24cd47fcbffb9a5da9ea9e61",
       "version_major": 2,
       "version_minor": 0
      },
      "text/plain": [
       "Querying products:  35%|###5      | 100/284 [00:00<?, ?product/s]"
      ]
     },
     "metadata": {},
     "output_type": "display_data"
    },
    {
     "name": "stdout",
     "output_type": "stream",
     "text": [
      "len of the list = 3\n"
     ]
    }
   ],
   "source": [
    "import random\n",
    "import geopandas\n",
    "from sentinelsat  import SentinelAPI, geojson_to_wkt, read_geojson\n",
    "import folium \n",
    "\n",
    "\n",
    "def sentinel_data(param):\n",
    "    platformname ='Sentinel-2'\n",
    "    orbitdirection = 'DESCENDING'  # ASCENDING, DESCENDING\n",
    "    processinglevel = 'Level-2A'\n",
    "    cloudcoverpercentage = (0, 30)\n",
    "    footprint_d = input(\"Enter json file directory\")\n",
    "    #footprint_d = '/content/drive/MyDrive/Sentinelsat Functions/map (2).geojson'\n",
    "    footprint = geojson_to_wkt(read_geojson(footprint_d))\n",
    "    m = folium.Map([param[2] ,param[3]], zoom_start=12)\n",
    "    #folium.GeoJson(footprint).add_to(m)\n",
    "    api = SentinelAPI(param[0], param[1], 'https://scihub.copernicus.eu/dhus')\n",
    "\n",
    "    products = api.query(footprint,\n",
    "                         date = (param[2], param[3]),\n",
    "                         platformname = platformname,\n",
    "                         processinglevel = processinglevel,\n",
    "                         cloudcoverpercentage = cloudcoverpercentage)\n",
    "\n",
    "    dataproduct = api.to_geodataframe(products)\n",
    "    d = []\n",
    "    for i in range(len(dataproduct.uuid)):\n",
    "        product_id = api.get_product_odata(dataproduct['uuid'][i])\n",
    "        #print(f\"show this {product_id}\")\n",
    "        for j in product_id.keys():\n",
    "            if (j == 'Online' and product_id[j] == True):\n",
    "                d.append(dataproduct['uuid'][i])\n",
    "            \n",
    "    print(f\"len of the list = {len(d)}\")\n",
    "    #api.download(random.choice(d))\n",
    "\n",
    "\n",
    "def param():\n",
    "    #footprint_d= input('Enter Json file Directory')\n",
    "    username= input(\"Enter Username\")\n",
    "    password= input(\"Enter Password\")\n",
    "    startdate= input(\"Startdate yymmdd\")\n",
    "    enddate= input(\"Enddate yymmdd\")\n",
    "    return [username,password,startdate,enddate]\n",
    "\n",
    "\n",
    "\n",
    "sentinel_data(param())\n",
    "\n"
   ]
  },
  {
   "cell_type": "code",
   "execution_count": null,
   "id": "86c12888",
   "metadata": {},
   "outputs": [],
   "source": []
  },
  {
   "cell_type": "code",
   "execution_count": null,
   "id": "8f4d1e7c",
   "metadata": {},
   "outputs": [],
   "source": []
  },
  {
   "cell_type": "code",
   "execution_count": null,
   "id": "e71bff44",
   "metadata": {},
   "outputs": [],
   "source": []
  },
  {
   "cell_type": "code",
   "execution_count": null,
   "id": "297d0972",
   "metadata": {},
   "outputs": [],
   "source": []
  },
  {
   "cell_type": "code",
   "execution_count": null,
   "id": "2f75b2be",
   "metadata": {},
   "outputs": [],
   "source": []
  },
  {
   "cell_type": "code",
   "execution_count": null,
   "id": "dce9d930",
   "metadata": {},
   "outputs": [],
   "source": []
  },
  {
   "cell_type": "code",
   "execution_count": null,
   "id": "ea926429",
   "metadata": {},
   "outputs": [],
   "source": []
  },
  {
   "cell_type": "code",
   "execution_count": null,
   "id": "1f67106c",
   "metadata": {},
   "outputs": [],
   "source": []
  },
  {
   "cell_type": "code",
   "execution_count": null,
   "id": "f9893bd4",
   "metadata": {},
   "outputs": [],
   "source": []
  },
  {
   "cell_type": "code",
   "execution_count": null,
   "id": "66a9aefa",
   "metadata": {},
   "outputs": [],
   "source": []
  }
 ],
 "metadata": {
  "kernelspec": {
   "display_name": "Python 3 (ipykernel)",
   "language": "python",
   "name": "python3"
  },
  "language_info": {
   "codemirror_mode": {
    "name": "ipython",
    "version": 3
   },
   "file_extension": ".py",
   "mimetype": "text/x-python",
   "name": "python",
   "nbconvert_exporter": "python",
   "pygments_lexer": "ipython3",
   "version": "3.9.7"
  }
 },
 "nbformat": 4,
 "nbformat_minor": 5
}
