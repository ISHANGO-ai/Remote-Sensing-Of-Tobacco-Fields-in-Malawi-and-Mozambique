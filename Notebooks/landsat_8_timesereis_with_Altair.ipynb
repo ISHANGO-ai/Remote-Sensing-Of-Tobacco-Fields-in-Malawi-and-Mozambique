{
 "cells": [
  {
   "cell_type": "code",
   "execution_count": 1,
   "metadata": {
    "colab": {
     "base_uri": "https://localhost:8080/"
    },
    "id": "7b_DjdrihY2D",
    "outputId": "03ba265a-2b2c-4a37-8175-808f7c9e7d2d"
   },
   "outputs": [
    {
     "data": {
      "text/html": [
       "<p>To authorize access needed by Earth Engine, open the following\n",
       "        URL in a web browser and follow the instructions:</p>\n",
       "        <p><a href=https://accounts.google.com/o/oauth2/auth?client_id=517222506229-vsmmajv00ul0bs7p89v5m89qs8eb9359.apps.googleusercontent.com&scope=https%3A%2F%2Fwww.googleapis.com%2Fauth%2Fearthengine+https%3A%2F%2Fwww.googleapis.com%2Fauth%2Fdevstorage.full_control&redirect_uri=urn%3Aietf%3Awg%3Aoauth%3A2.0%3Aoob&response_type=code&code_challenge=bXOl82Zx-ghBBynZdBL1_mXGcTGsRpGskDiciVqUM0c&code_challenge_method=S256>https://accounts.google.com/o/oauth2/auth?client_id=517222506229-vsmmajv00ul0bs7p89v5m89qs8eb9359.apps.googleusercontent.com&scope=https%3A%2F%2Fwww.googleapis.com%2Fauth%2Fearthengine+https%3A%2F%2Fwww.googleapis.com%2Fauth%2Fdevstorage.full_control&redirect_uri=urn%3Aietf%3Awg%3Aoauth%3A2.0%3Aoob&response_type=code&code_challenge=bXOl82Zx-ghBBynZdBL1_mXGcTGsRpGskDiciVqUM0c&code_challenge_method=S256</a></p>\n",
       "        <p>The authorization workflow will generate a code, which you\n",
       "        should paste in the box below</p>\n",
       "        "
      ],
      "text/plain": [
       "<IPython.core.display.HTML object>"
      ]
     },
     "metadata": {},
     "output_type": "display_data"
    },
    {
     "name": "stdout",
     "output_type": "stream",
     "text": [
      "Enter verification code: 4/1AX4XfWhdoxBt2zjtNGpTE8MqKQs65ujz0VXx9FPDYa8Pu-OSyT4wVNq0ezY\n",
      "\n",
      "Successfully saved authorization token.\n"
     ]
    }
   ],
   "source": [
    "import ee\n",
    "ee.Authenticate()\n",
    "ee.Initialize()"
   ]
  },
  {
   "cell_type": "code",
   "execution_count": 3,
   "metadata": {},
   "outputs": [
    {
     "name": "stdout",
     "output_type": "stream",
     "text": [
      "Collecting altair\n",
      "  Downloading altair-4.1.0-py3-none-any.whl (727 kB)\n",
      "Requirement already satisfied: jinja2 in c:\\users\\jeannette\\.conda\\envs\\env_ishango\\lib\\site-packages (from altair) (3.0.1)\n",
      "Requirement already satisfied: toolz in c:\\users\\jeannette\\.conda\\envs\\env_ishango\\lib\\site-packages (from altair) (0.11.1)\n",
      "Requirement already satisfied: jsonschema in c:\\users\\jeannette\\.conda\\envs\\env_ishango\\lib\\site-packages (from altair) (3.2.0)\n",
      "Requirement already satisfied: numpy in c:\\users\\jeannette\\.conda\\envs\\env_ishango\\lib\\site-packages (from altair) (1.21.2)\n",
      "Requirement already satisfied: pandas>=0.18 in c:\\users\\jeannette\\.conda\\envs\\env_ishango\\lib\\site-packages (from altair) (1.3.3)\n",
      "Requirement already satisfied: entrypoints in c:\\users\\jeannette\\.conda\\envs\\env_ishango\\lib\\site-packages (from altair) (0.3)\n",
      "Requirement already satisfied: pytz>=2017.3 in c:\\users\\jeannette\\.conda\\envs\\env_ishango\\lib\\site-packages (from pandas>=0.18->altair) (2021.1)\n",
      "Requirement already satisfied: python-dateutil>=2.7.3 in c:\\users\\jeannette\\.conda\\envs\\env_ishango\\lib\\site-packages (from pandas>=0.18->altair) (2.8.2)\n",
      "Requirement already satisfied: six>=1.5 in c:\\users\\jeannette\\.conda\\envs\\env_ishango\\lib\\site-packages (from python-dateutil>=2.7.3->pandas>=0.18->altair) (1.16.0)\n",
      "Requirement already satisfied: MarkupSafe>=2.0 in c:\\users\\jeannette\\.conda\\envs\\env_ishango\\lib\\site-packages (from jinja2->altair) (2.0.1)\n",
      "Requirement already satisfied: attrs>=17.4.0 in c:\\users\\jeannette\\.conda\\envs\\env_ishango\\lib\\site-packages (from jsonschema->altair) (21.2.0)\n",
      "Requirement already satisfied: pyrsistent>=0.14.0 in c:\\users\\jeannette\\.conda\\envs\\env_ishango\\lib\\site-packages (from jsonschema->altair) (0.17.3)\n",
      "Requirement already satisfied: setuptools in c:\\users\\jeannette\\.conda\\envs\\env_ishango\\lib\\site-packages (from jsonschema->altair) (58.0.4)\n",
      "Installing collected packages: altair\n",
      "Successfully installed altair-4.1.0\n"
     ]
    }
   ],
   "source": [
    "!pip install altair"
   ]
  },
  {
   "cell_type": "code",
   "execution_count": 4,
   "metadata": {
    "id": "gGhfytmZh452"
   },
   "outputs": [],
   "source": [
    "import pandas as pd\n",
    "import altair as alt\n",
    "import numpy as np\n",
    "import folium"
   ]
  },
  {
   "cell_type": "code",
   "execution_count": null,
   "metadata": {
    "id": "dIzT_PPyoWLa"
   },
   "outputs": [],
   "source": []
  },
  {
   "cell_type": "code",
   "execution_count": 5,
   "metadata": {
    "id": "JR0cxCpeIxoY"
   },
   "outputs": [],
   "source": [
    "import matplotlib.pyplot as plt\n",
    "import numpy as np\n",
    "from scipy.stats import norm, gamma, f, chi2\n",
    "import IPython.display as disp\n",
    "%matplotlib inline"
   ]
  },
  {
   "cell_type": "code",
   "execution_count": null,
   "metadata": {
    "id": "y8jh7XWMMuZ1"
   },
   "outputs": [],
   "source": []
  },
  {
   "cell_type": "code",
   "execution_count": 6,
   "metadata": {
    "id": "VIiyf6azf4mU"
   },
   "outputs": [],
   "source": [
    "# Import the Folium library.\n",
    "import folium\n",
    "\n",
    "# Define a method for displaying Earth Engine image tiles to folium map.\n",
    "def add_ee_layer(self, ee_image_object, vis_params, name):\n",
    "  map_id_dict = ee.Image(ee_image_object).getMapId(vis_params)\n",
    "  folium.raster_layers.TileLayer(\n",
    "    tiles = map_id_dict['tile_fetcher'].url_format,\n",
    "    attr = 'Map Data &copy; <a href=\"https://earthengine.google.com/\">Google Earth Engine</a>',\n",
    "    name = name,\n",
    "    overlay = True,\n",
    "    control = True\n",
    "  ).add_to(self)\n",
    "\n",
    "# Add EE drawing method to folium.\n",
    "folium.Map.add_ee_layer = add_ee_layer"
   ]
  },
  {
   "cell_type": "code",
   "execution_count": 7,
   "metadata": {
    "id": "HvY1I0UbNsX3"
   },
   "outputs": [],
   "source": [
    "# creates region of interest by producing coordinates\n",
    "geoJSON ={\n",
    "  \"type\": \"FeatureCollection\",\n",
    "  \"features\": [\n",
    "    {\n",
    "      \"type\": \"Feature\",\n",
    "      \"properties\": {},\n",
    "      \"geometry\": {\n",
    "        \"type\": \"Polygon\",\n",
    "        \"coordinates\": [\n",
    "          [\n",
    "            [\n",
    "              33.20068359375,\n",
    "              -14.072644954380316\n",
    "            ],\n",
    "            [\n",
    "              30.377197265625,\n",
    "              -15.294782590260931\n",
    "            ],\n",
    "            [\n",
    "              33.013916015625,\n",
    "              -16.709862933206566\n",
    "            ],\n",
    "            [\n",
    "              34.43115234375,\n",
    "              -15.262988555023204\n",
    "            ],\n",
    "            [\n",
    "              33.20068359375,\n",
    "              -14.072644954380316\n",
    "            ]\n",
    "          ]\n",
    "        ]\n",
    "      }\n",
    "    }\n",
    "  ]\n",
    "}"
   ]
  },
  {
   "cell_type": "code",
   "execution_count": 8,
   "metadata": {
    "id": "5gXbMbteUMfn"
   },
   "outputs": [],
   "source": [
    "#redion of interest\n",
    "coords = geoJSON['features'][0]['geometry']['coordinates']\n",
    "aoi = ee.Geometry.Polygon(coords)"
   ]
  },
  {
   "cell_type": "markdown",
   "metadata": {
    "id": "ofyRgMcuocmg"
   },
   "source": [
    "\n",
    "This tutorial provides methods for generating time series data in Earth Engine and visualizing it with the Altair library using  vegetation response as an example"
   ]
  },
  {
   "cell_type": "code",
   "execution_count": null,
   "metadata": {
    "id": "HeuEzGpwiHct"
   },
   "outputs": [],
   "source": []
  },
  {
   "cell_type": "code",
   "execution_count": 9,
   "metadata": {
    "id": "0mkEjSrFlkjL"
   },
   "outputs": [],
   "source": [
    "def create_reduce_region_function(geometry,\n",
    "                                  reducer=ee.Reducer.mean(),\n",
    "                                  scale=1000,\n",
    "                                  crs='EPSG:4326',\n",
    "                                  bestEffort=True,\n",
    "                                  maxPixels=1e13,\n",
    "                                  tileScale=4):\n",
    "  \"\"\"Creates a region reduction function.\n",
    "\n",
    "  Creates a region reduction function intended to be used as the input function\n",
    "  to ee.ImageCollection.map() for reducing pixels intersecting a provided region\n",
    "  to a statistic for each image in a collection. See ee.Image.reduceRegion()\n",
    "  documentation for more details.\n",
    "\n",
    "  Args:\n",
    "    geometry:\n",
    "      An ee.Geometry that defines the region over which to reduce data.\n",
    "    reducer:\n",
    "      Optional; An ee.Reducer that defines the reduction method.\n",
    "    scale:\n",
    "      Optional; A number that defines the nominal scale in meters of the\n",
    "      projection to work in.\n",
    "    crs:\n",
    "      Optional; An ee.Projection or EPSG string ('EPSG:5070') that defines\n",
    "      the projection to work in.\n",
    "    bestEffort:\n",
    "      Optional; A Boolean indicator for whether to use a larger scale if the\n",
    "      geometry contains too many pixels at the given scale for the operation\n",
    "      to succeed.\n",
    "    maxPixels:\n",
    "      Optional; A number specifying the maximum number of pixels to reduce.\n",
    "    tileScale:\n",
    "      Optional; A number representing the scaling factor used to reduce\n",
    "      aggregation tile size; using a larger tileScale (e.g. 2 or 4) may enable\n",
    "      computations that run out of memory with the default.\n",
    "\n",
    "  Returns:\n",
    "    A function that accepts an ee.Image and reduces it by region, according to\n",
    "    the provided arguments.\n",
    "  \"\"\"\n",
    "\n",
    "  def reduce_region_function(img):\n",
    "    \"\"\"Applies the ee.Image.reduceRegion() method.\n",
    "\n",
    "    Args:\n",
    "      img:\n",
    "        An ee.Image to reduce to a statistic by region.\n",
    "\n",
    "    Returns:\n",
    "      An ee.Feature that contains properties representing the image region\n",
    "      reduction results per band and the image timestamp formatted as\n",
    "      milliseconds from Unix epoch (included to enable time series plotting).\n",
    "    \"\"\"\n",
    "\n",
    "    stat = img.reduceRegion(\n",
    "        reducer=reducer,\n",
    "        geometry=geometry,\n",
    "        scale=scale,\n",
    "        crs=crs,\n",
    "        bestEffort=bestEffort,\n",
    "        maxPixels=maxPixels,\n",
    "        tileScale=tileScale)\n",
    "\n",
    "    return ee.Feature(geometry, stat).set({'millis': img.date().millis()})\n",
    "  return reduce_region_function"
   ]
  },
  {
   "cell_type": "code",
   "execution_count": null,
   "metadata": {
    "id": "uqVt6inniMTE"
   },
   "outputs": [],
   "source": []
  },
  {
   "cell_type": "code",
   "execution_count": 10,
   "metadata": {
    "id": "MuiFsdRL-qpY"
   },
   "outputs": [],
   "source": [
    "# Define a function to transfer feature properties to a dictionary.\n",
    "def fc_to_dict(fc):\n",
    "  prop_names = fc.first().propertyNames()\n",
    "  prop_lists = fc.reduceColumns(\n",
    "      reducer=ee.Reducer.toList().repeat(prop_names.size()),\n",
    "      selectors=prop_names).get('list')\n",
    "\n",
    "  return ee.Dictionary.fromLists(prop_names, prop_lists)"
   ]
  },
  {
   "cell_type": "code",
   "execution_count": null,
   "metadata": {
    "id": "eCC8FoxZiV1O"
   },
   "outputs": [],
   "source": []
  },
  {
   "cell_type": "markdown",
   "metadata": {
    "id": "gkYUjrsa2Liw"
   },
   "source": [
    "Load the Landsat8, ee.FeatureCollection and filter it to include only the Mozambique, which defines the area of interest (AOI)."
   ]
  },
  {
   "cell_type": "markdown",
   "metadata": {
    "id": "tigBp8Y9IWjC"
   },
   "source": [
    "### Import and reduce\n",
    "\n",
    "1. Load the Landast-8 NDVI data as an `ee.ImageCollection`.\n",
    "1. Create a region reduction function.\n",
    "3. Apply the function to all images in the time series.\n",
    "4. Filter out features with null computed values."
   ]
  },
  {
   "cell_type": "code",
   "execution_count": 11,
   "metadata": {
    "id": "YfTfhCiX8Ew4"
   },
   "outputs": [],
   "source": [
    "\n",
    "ndvi = ee.ImageCollection('LANDSAT/LC08/C01/T1_8DAY_NDVI').filterDate('2019-01-01', '2019-12-31').select('NDVI')\n",
    "\n",
    "reduce_ndvi = create_reduce_region_function(\n",
    "    geometry=aoi, reducer=ee.Reducer.mean(), scale=1000, crs='EPSG:3310')\n",
    "\n",
    "ndvi_stat_fc = ee.FeatureCollection(ndvi.map(reduce_ndvi)).filter(\n",
    "    ee.Filter.notNull(ndvi.first().bandNames()))"
   ]
  },
  {
   "cell_type": "markdown",
   "metadata": {
    "id": "B7TI_Rd9xAqz"
   },
   "source": [
    "### Prepare DataFrame"
   ]
  },
  {
   "cell_type": "markdown",
   "metadata": {
    "id": "aQM61YQFxKeb"
   },
   "source": [
    "1. Transfer data from the server to the client.\n",
    "2. Convert the Python dictionary to a pandas DataFrame.\n",
    "3. Preview the DataFrame and check data types."
   ]
  },
  {
   "cell_type": "code",
   "execution_count": 12,
   "metadata": {
    "colab": {
     "base_uri": "https://localhost:8080/",
     "height": 1000
    },
    "id": "F9pWrANpjzYx",
    "outputId": "c96f0365-7e7d-4f87-e3c0-f13a9d858ffd"
   },
   "outputs": [
    {
     "data": {
      "text/html": [
       "<div>\n",
       "<style scoped>\n",
       "    .dataframe tbody tr th:only-of-type {\n",
       "        vertical-align: middle;\n",
       "    }\n",
       "\n",
       "    .dataframe tbody tr th {\n",
       "        vertical-align: top;\n",
       "    }\n",
       "\n",
       "    .dataframe thead th {\n",
       "        text-align: right;\n",
       "    }\n",
       "</style>\n",
       "<table border=\"1\" class=\"dataframe\">\n",
       "  <thead>\n",
       "    <tr style=\"text-align: right;\">\n",
       "      <th></th>\n",
       "      <th>NDVI</th>\n",
       "      <th>millis</th>\n",
       "      <th>system:index</th>\n",
       "    </tr>\n",
       "  </thead>\n",
       "  <tbody>\n",
       "    <tr>\n",
       "      <th>0</th>\n",
       "      <td>0.373672</td>\n",
       "      <td>1546300800000</td>\n",
       "      <td>20190101</td>\n",
       "    </tr>\n",
       "    <tr>\n",
       "      <th>1</th>\n",
       "      <td>0.366012</td>\n",
       "      <td>1546992000000</td>\n",
       "      <td>20190109</td>\n",
       "    </tr>\n",
       "    <tr>\n",
       "      <th>2</th>\n",
       "      <td>0.087306</td>\n",
       "      <td>1547683200000</td>\n",
       "      <td>20190117</td>\n",
       "    </tr>\n",
       "    <tr>\n",
       "      <th>3</th>\n",
       "      <td>0.446114</td>\n",
       "      <td>1548374400000</td>\n",
       "      <td>20190125</td>\n",
       "    </tr>\n",
       "    <tr>\n",
       "      <th>4</th>\n",
       "      <td>0.226723</td>\n",
       "      <td>1549065600000</td>\n",
       "      <td>20190202</td>\n",
       "    </tr>\n",
       "    <tr>\n",
       "      <th>5</th>\n",
       "      <td>0.487012</td>\n",
       "      <td>1549756800000</td>\n",
       "      <td>20190210</td>\n",
       "    </tr>\n",
       "    <tr>\n",
       "      <th>6</th>\n",
       "      <td>0.651029</td>\n",
       "      <td>1550448000000</td>\n",
       "      <td>20190218</td>\n",
       "    </tr>\n",
       "    <tr>\n",
       "      <th>7</th>\n",
       "      <td>0.497158</td>\n",
       "      <td>1551139200000</td>\n",
       "      <td>20190226</td>\n",
       "    </tr>\n",
       "    <tr>\n",
       "      <th>8</th>\n",
       "      <td>0.468859</td>\n",
       "      <td>1551830400000</td>\n",
       "      <td>20190306</td>\n",
       "    </tr>\n",
       "    <tr>\n",
       "      <th>9</th>\n",
       "      <td>0.404626</td>\n",
       "      <td>1552521600000</td>\n",
       "      <td>20190314</td>\n",
       "    </tr>\n",
       "    <tr>\n",
       "      <th>10</th>\n",
       "      <td>0.357932</td>\n",
       "      <td>1553212800000</td>\n",
       "      <td>20190322</td>\n",
       "    </tr>\n",
       "    <tr>\n",
       "      <th>11</th>\n",
       "      <td>0.429009</td>\n",
       "      <td>1553904000000</td>\n",
       "      <td>20190330</td>\n",
       "    </tr>\n",
       "    <tr>\n",
       "      <th>12</th>\n",
       "      <td>0.223745</td>\n",
       "      <td>1554595200000</td>\n",
       "      <td>20190407</td>\n",
       "    </tr>\n",
       "    <tr>\n",
       "      <th>13</th>\n",
       "      <td>0.406309</td>\n",
       "      <td>1555286400000</td>\n",
       "      <td>20190415</td>\n",
       "    </tr>\n",
       "    <tr>\n",
       "      <th>14</th>\n",
       "      <td>0.312829</td>\n",
       "      <td>1555977600000</td>\n",
       "      <td>20190423</td>\n",
       "    </tr>\n",
       "    <tr>\n",
       "      <th>15</th>\n",
       "      <td>0.249879</td>\n",
       "      <td>1556668800000</td>\n",
       "      <td>20190501</td>\n",
       "    </tr>\n",
       "    <tr>\n",
       "      <th>16</th>\n",
       "      <td>0.282197</td>\n",
       "      <td>1557360000000</td>\n",
       "      <td>20190509</td>\n",
       "    </tr>\n",
       "    <tr>\n",
       "      <th>17</th>\n",
       "      <td>0.423626</td>\n",
       "      <td>1558051200000</td>\n",
       "      <td>20190517</td>\n",
       "    </tr>\n",
       "    <tr>\n",
       "      <th>18</th>\n",
       "      <td>0.434510</td>\n",
       "      <td>1558742400000</td>\n",
       "      <td>20190525</td>\n",
       "    </tr>\n",
       "    <tr>\n",
       "      <th>19</th>\n",
       "      <td>0.365935</td>\n",
       "      <td>1559433600000</td>\n",
       "      <td>20190602</td>\n",
       "    </tr>\n",
       "    <tr>\n",
       "      <th>20</th>\n",
       "      <td>0.333704</td>\n",
       "      <td>1560124800000</td>\n",
       "      <td>20190610</td>\n",
       "    </tr>\n",
       "    <tr>\n",
       "      <th>21</th>\n",
       "      <td>0.412453</td>\n",
       "      <td>1560816000000</td>\n",
       "      <td>20190618</td>\n",
       "    </tr>\n",
       "    <tr>\n",
       "      <th>22</th>\n",
       "      <td>0.324511</td>\n",
       "      <td>1561507200000</td>\n",
       "      <td>20190626</td>\n",
       "    </tr>\n",
       "    <tr>\n",
       "      <th>23</th>\n",
       "      <td>0.387727</td>\n",
       "      <td>1562198400000</td>\n",
       "      <td>20190704</td>\n",
       "    </tr>\n",
       "    <tr>\n",
       "      <th>24</th>\n",
       "      <td>0.326483</td>\n",
       "      <td>1562889600000</td>\n",
       "      <td>20190712</td>\n",
       "    </tr>\n",
       "    <tr>\n",
       "      <th>25</th>\n",
       "      <td>0.247423</td>\n",
       "      <td>1563580800000</td>\n",
       "      <td>20190720</td>\n",
       "    </tr>\n",
       "    <tr>\n",
       "      <th>26</th>\n",
       "      <td>0.165409</td>\n",
       "      <td>1564272000000</td>\n",
       "      <td>20190728</td>\n",
       "    </tr>\n",
       "    <tr>\n",
       "      <th>27</th>\n",
       "      <td>0.235964</td>\n",
       "      <td>1564963200000</td>\n",
       "      <td>20190805</td>\n",
       "    </tr>\n",
       "    <tr>\n",
       "      <th>28</th>\n",
       "      <td>0.197924</td>\n",
       "      <td>1565654400000</td>\n",
       "      <td>20190813</td>\n",
       "    </tr>\n",
       "    <tr>\n",
       "      <th>29</th>\n",
       "      <td>0.286170</td>\n",
       "      <td>1566345600000</td>\n",
       "      <td>20190821</td>\n",
       "    </tr>\n",
       "    <tr>\n",
       "      <th>30</th>\n",
       "      <td>0.249106</td>\n",
       "      <td>1567036800000</td>\n",
       "      <td>20190829</td>\n",
       "    </tr>\n",
       "    <tr>\n",
       "      <th>31</th>\n",
       "      <td>0.229264</td>\n",
       "      <td>1567728000000</td>\n",
       "      <td>20190906</td>\n",
       "    </tr>\n",
       "    <tr>\n",
       "      <th>32</th>\n",
       "      <td>0.154811</td>\n",
       "      <td>1568419200000</td>\n",
       "      <td>20190914</td>\n",
       "    </tr>\n",
       "    <tr>\n",
       "      <th>33</th>\n",
       "      <td>0.237546</td>\n",
       "      <td>1569110400000</td>\n",
       "      <td>20190922</td>\n",
       "    </tr>\n",
       "    <tr>\n",
       "      <th>34</th>\n",
       "      <td>0.223862</td>\n",
       "      <td>1569801600000</td>\n",
       "      <td>20190930</td>\n",
       "    </tr>\n",
       "    <tr>\n",
       "      <th>35</th>\n",
       "      <td>0.162298</td>\n",
       "      <td>1570492800000</td>\n",
       "      <td>20191008</td>\n",
       "    </tr>\n",
       "    <tr>\n",
       "      <th>36</th>\n",
       "      <td>0.284447</td>\n",
       "      <td>1571184000000</td>\n",
       "      <td>20191016</td>\n",
       "    </tr>\n",
       "    <tr>\n",
       "      <th>37</th>\n",
       "      <td>0.280293</td>\n",
       "      <td>1571875200000</td>\n",
       "      <td>20191024</td>\n",
       "    </tr>\n",
       "    <tr>\n",
       "      <th>38</th>\n",
       "      <td>0.276013</td>\n",
       "      <td>1572566400000</td>\n",
       "      <td>20191101</td>\n",
       "    </tr>\n",
       "    <tr>\n",
       "      <th>39</th>\n",
       "      <td>0.146361</td>\n",
       "      <td>1573257600000</td>\n",
       "      <td>20191109</td>\n",
       "    </tr>\n",
       "    <tr>\n",
       "      <th>40</th>\n",
       "      <td>0.263110</td>\n",
       "      <td>1573948800000</td>\n",
       "      <td>20191117</td>\n",
       "    </tr>\n",
       "    <tr>\n",
       "      <th>41</th>\n",
       "      <td>0.385045</td>\n",
       "      <td>1574640000000</td>\n",
       "      <td>20191125</td>\n",
       "    </tr>\n",
       "    <tr>\n",
       "      <th>42</th>\n",
       "      <td>0.278998</td>\n",
       "      <td>1575331200000</td>\n",
       "      <td>20191203</td>\n",
       "    </tr>\n",
       "    <tr>\n",
       "      <th>43</th>\n",
       "      <td>0.389841</td>\n",
       "      <td>1576022400000</td>\n",
       "      <td>20191211</td>\n",
       "    </tr>\n",
       "    <tr>\n",
       "      <th>44</th>\n",
       "      <td>0.354391</td>\n",
       "      <td>1576713600000</td>\n",
       "      <td>20191219</td>\n",
       "    </tr>\n",
       "    <tr>\n",
       "      <th>45</th>\n",
       "      <td>0.257258</td>\n",
       "      <td>1577404800000</td>\n",
       "      <td>20191227</td>\n",
       "    </tr>\n",
       "  </tbody>\n",
       "</table>\n",
       "</div>"
      ],
      "text/plain": [
       "        NDVI         millis system:index\n",
       "0   0.373672  1546300800000     20190101\n",
       "1   0.366012  1546992000000     20190109\n",
       "2   0.087306  1547683200000     20190117\n",
       "3   0.446114  1548374400000     20190125\n",
       "4   0.226723  1549065600000     20190202\n",
       "5   0.487012  1549756800000     20190210\n",
       "6   0.651029  1550448000000     20190218\n",
       "7   0.497158  1551139200000     20190226\n",
       "8   0.468859  1551830400000     20190306\n",
       "9   0.404626  1552521600000     20190314\n",
       "10  0.357932  1553212800000     20190322\n",
       "11  0.429009  1553904000000     20190330\n",
       "12  0.223745  1554595200000     20190407\n",
       "13  0.406309  1555286400000     20190415\n",
       "14  0.312829  1555977600000     20190423\n",
       "15  0.249879  1556668800000     20190501\n",
       "16  0.282197  1557360000000     20190509\n",
       "17  0.423626  1558051200000     20190517\n",
       "18  0.434510  1558742400000     20190525\n",
       "19  0.365935  1559433600000     20190602\n",
       "20  0.333704  1560124800000     20190610\n",
       "21  0.412453  1560816000000     20190618\n",
       "22  0.324511  1561507200000     20190626\n",
       "23  0.387727  1562198400000     20190704\n",
       "24  0.326483  1562889600000     20190712\n",
       "25  0.247423  1563580800000     20190720\n",
       "26  0.165409  1564272000000     20190728\n",
       "27  0.235964  1564963200000     20190805\n",
       "28  0.197924  1565654400000     20190813\n",
       "29  0.286170  1566345600000     20190821\n",
       "30  0.249106  1567036800000     20190829\n",
       "31  0.229264  1567728000000     20190906\n",
       "32  0.154811  1568419200000     20190914\n",
       "33  0.237546  1569110400000     20190922\n",
       "34  0.223862  1569801600000     20190930\n",
       "35  0.162298  1570492800000     20191008\n",
       "36  0.284447  1571184000000     20191016\n",
       "37  0.280293  1571875200000     20191024\n",
       "38  0.276013  1572566400000     20191101\n",
       "39  0.146361  1573257600000     20191109\n",
       "40  0.263110  1573948800000     20191117\n",
       "41  0.385045  1574640000000     20191125\n",
       "42  0.278998  1575331200000     20191203\n",
       "43  0.389841  1576022400000     20191211\n",
       "44  0.354391  1576713600000     20191219\n",
       "45  0.257258  1577404800000     20191227"
      ]
     },
     "metadata": {},
     "output_type": "display_data"
    },
    {
     "name": "stdout",
     "output_type": "stream",
     "text": [
      "NDVI            float64\n",
      "millis            int64\n",
      "system:index     object\n",
      "dtype: object\n"
     ]
    }
   ],
   "source": [
    "ndvi_dict = fc_to_dict(ndvi_stat_fc).getInfo()\n",
    "ndvi_df = pd.DataFrame(ndvi_dict)\n",
    "display(ndvi_df)\n",
    "print(ndvi_df.dtypes)"
   ]
  },
  {
   "cell_type": "code",
   "execution_count": 13,
   "metadata": {
    "id": "kVoTVN7QlImz"
   },
   "outputs": [],
   "source": [
    "# Function to add date variables to DataFrame.\n",
    "def add_date_info(df):\n",
    "  df['Timestamp'] = pd.to_datetime(df['millis'], unit='ms')\n",
    "  df['Year'] = pd.DatetimeIndex(df['Timestamp']).year\n",
    "  df['Month'] = pd.DatetimeIndex(df['Timestamp']).month\n",
    "  df['Day'] = pd.DatetimeIndex(df['Timestamp']).day\n",
    "  df['DOY'] = pd.DatetimeIndex(df['Timestamp']).dayofyear\n",
    "  return df"
   ]
  },
  {
   "cell_type": "code",
   "execution_count": null,
   "metadata": {
    "id": "kzxM-4VxlZ2p"
   },
   "outputs": [],
   "source": []
  },
  {
   "cell_type": "markdown",
   "metadata": {
    "id": "LNP3fhqE2XYn"
   },
   "source": [
    "\n",
    "Add date attribute columns.\n",
    "\n",
    "Preview the DataFrame."
   ]
  },
  {
   "cell_type": "code",
   "execution_count": 14,
   "metadata": {
    "colab": {
     "base_uri": "https://localhost:8080/",
     "height": 204
    },
    "id": "gY-AldT1liLr",
    "outputId": "09f82c12-f447-4a2e-f9cc-dafd3fc29a19"
   },
   "outputs": [
    {
     "data": {
      "text/html": [
       "<div>\n",
       "<style scoped>\n",
       "    .dataframe tbody tr th:only-of-type {\n",
       "        vertical-align: middle;\n",
       "    }\n",
       "\n",
       "    .dataframe tbody tr th {\n",
       "        vertical-align: top;\n",
       "    }\n",
       "\n",
       "    .dataframe thead th {\n",
       "        text-align: right;\n",
       "    }\n",
       "</style>\n",
       "<table border=\"1\" class=\"dataframe\">\n",
       "  <thead>\n",
       "    <tr style=\"text-align: right;\">\n",
       "      <th></th>\n",
       "      <th>NDVI</th>\n",
       "      <th>millis</th>\n",
       "      <th>system:index</th>\n",
       "      <th>Timestamp</th>\n",
       "      <th>Year</th>\n",
       "      <th>Month</th>\n",
       "      <th>Day</th>\n",
       "      <th>DOY</th>\n",
       "    </tr>\n",
       "  </thead>\n",
       "  <tbody>\n",
       "    <tr>\n",
       "      <th>0</th>\n",
       "      <td>0.373672</td>\n",
       "      <td>1546300800000</td>\n",
       "      <td>20190101</td>\n",
       "      <td>2019-01-01</td>\n",
       "      <td>2019</td>\n",
       "      <td>1</td>\n",
       "      <td>1</td>\n",
       "      <td>1</td>\n",
       "    </tr>\n",
       "    <tr>\n",
       "      <th>1</th>\n",
       "      <td>0.366012</td>\n",
       "      <td>1546992000000</td>\n",
       "      <td>20190109</td>\n",
       "      <td>2019-01-09</td>\n",
       "      <td>2019</td>\n",
       "      <td>1</td>\n",
       "      <td>9</td>\n",
       "      <td>9</td>\n",
       "    </tr>\n",
       "    <tr>\n",
       "      <th>2</th>\n",
       "      <td>0.087306</td>\n",
       "      <td>1547683200000</td>\n",
       "      <td>20190117</td>\n",
       "      <td>2019-01-17</td>\n",
       "      <td>2019</td>\n",
       "      <td>1</td>\n",
       "      <td>17</td>\n",
       "      <td>17</td>\n",
       "    </tr>\n",
       "    <tr>\n",
       "      <th>3</th>\n",
       "      <td>0.446114</td>\n",
       "      <td>1548374400000</td>\n",
       "      <td>20190125</td>\n",
       "      <td>2019-01-25</td>\n",
       "      <td>2019</td>\n",
       "      <td>1</td>\n",
       "      <td>25</td>\n",
       "      <td>25</td>\n",
       "    </tr>\n",
       "    <tr>\n",
       "      <th>4</th>\n",
       "      <td>0.226723</td>\n",
       "      <td>1549065600000</td>\n",
       "      <td>20190202</td>\n",
       "      <td>2019-02-02</td>\n",
       "      <td>2019</td>\n",
       "      <td>2</td>\n",
       "      <td>2</td>\n",
       "      <td>33</td>\n",
       "    </tr>\n",
       "  </tbody>\n",
       "</table>\n",
       "</div>"
      ],
      "text/plain": [
       "       NDVI         millis system:index  Timestamp  Year  Month  Day  DOY\n",
       "0  0.373672  1546300800000     20190101 2019-01-01  2019      1    1    1\n",
       "1  0.366012  1546992000000     20190109 2019-01-09  2019      1    9    9\n",
       "2  0.087306  1547683200000     20190117 2019-01-17  2019      1   17   17\n",
       "3  0.446114  1548374400000     20190125 2019-01-25  2019      1   25   25\n",
       "4  0.226723  1549065600000     20190202 2019-02-02  2019      2    2   33"
      ]
     },
     "execution_count": 14,
     "metadata": {},
     "output_type": "execute_result"
    }
   ],
   "source": [
    "#ndvi_df['NDVI'] = ndvi_df['NDVI']\n",
    "ndvi_df = add_date_info(ndvi_df)\n",
    "ndvi_df.head(5)"
   ]
  },
  {
   "cell_type": "code",
   "execution_count": 15,
   "metadata": {
    "colab": {
     "base_uri": "https://localhost:8080/"
    },
    "id": "bQBpDQ19KJr4",
    "outputId": "6a9ca143-2d4c-4eed-da17-e3959e2367fc"
   },
   "outputs": [
    {
     "data": {
      "text/plain": [
       "0.08730591366869442"
      ]
     },
     "execution_count": 15,
     "metadata": {},
     "output_type": "execute_result"
    }
   ],
   "source": [
    "ndvi_df['NDVI'].min()"
   ]
  },
  {
   "cell_type": "code",
   "execution_count": 16,
   "metadata": {
    "colab": {
     "base_uri": "https://localhost:8080/"
    },
    "id": "P8DYwNe_lrZ8",
    "outputId": "db19eaef-f5da-4c0a-b467-eff428e9ff0a"
   },
   "outputs": [
    {
     "data": {
      "text/plain": [
       "0.651029354843719"
      ]
     },
     "execution_count": 16,
     "metadata": {},
     "output_type": "execute_result"
    }
   ],
   "source": [
    "\n",
    "ndvi_df['NDVI'].max()\n"
   ]
  },
  {
   "cell_type": "markdown",
   "metadata": {
    "id": "OnYEVl-d3t63"
   },
   "source": [
    "### DAY line chart"
   ]
  },
  {
   "cell_type": "markdown",
   "metadata": {
    "id": "_uBkZEtyH_wJ"
   },
   "source": [
    "Make a day of Months line chart where each line represents a month of observations. This chart makes it possible to compare the same observation date among months. Use it to compare NDVI values for years during the drought and not.\n",
    "\n",
    "Day of month is represented on the x-axis and NDVI on the y-axis. Each line represents a month and is distinguished by color. Note that this plot includes a tooltip and has been made interactive so that the axes can be zoomed and panned."
   ]
  },
  {
   "cell_type": "code",
   "execution_count": null,
   "metadata": {
    "id": "XAB-4FxzmM2m"
   },
   "outputs": [],
   "source": []
  },
  {
   "cell_type": "code",
   "execution_count": 21,
   "metadata": {
    "colab": {
     "base_uri": "https://localhost:8080/",
     "height": 418
    },
    "id": "p3GeYhrjYBwI",
    "outputId": "e044016d-fb7c-4faf-e3b2-89e8a14f4c41"
   },
   "outputs": [
    {
     "data": {
      "text/html": [
       "\n",
       "<div id=\"altair-viz-5d650e6dcddc4718bafa7b744be4b3f9\"></div>\n",
       "<script type=\"text/javascript\">\n",
       "  (function(spec, embedOpt){\n",
       "    let outputDiv = document.currentScript.previousElementSibling;\n",
       "    if (outputDiv.id !== \"altair-viz-5d650e6dcddc4718bafa7b744be4b3f9\") {\n",
       "      outputDiv = document.getElementById(\"altair-viz-5d650e6dcddc4718bafa7b744be4b3f9\");\n",
       "    }\n",
       "    const paths = {\n",
       "      \"vega\": \"https://cdn.jsdelivr.net/npm//vega@5?noext\",\n",
       "      \"vega-lib\": \"https://cdn.jsdelivr.net/npm//vega-lib?noext\",\n",
       "      \"vega-lite\": \"https://cdn.jsdelivr.net/npm//vega-lite@4.8.1?noext\",\n",
       "      \"vega-embed\": \"https://cdn.jsdelivr.net/npm//vega-embed@6?noext\",\n",
       "    };\n",
       "\n",
       "    function loadScript(lib) {\n",
       "      return new Promise(function(resolve, reject) {\n",
       "        var s = document.createElement('script');\n",
       "        s.src = paths[lib];\n",
       "        s.async = true;\n",
       "        s.onload = () => resolve(paths[lib]);\n",
       "        s.onerror = () => reject(`Error loading script: ${paths[lib]}`);\n",
       "        document.getElementsByTagName(\"head\")[0].appendChild(s);\n",
       "      });\n",
       "    }\n",
       "\n",
       "    function showError(err) {\n",
       "      outputDiv.innerHTML = `<div class=\"error\" style=\"color:red;\">${err}</div>`;\n",
       "      throw err;\n",
       "    }\n",
       "\n",
       "    function displayChart(vegaEmbed) {\n",
       "      vegaEmbed(outputDiv, spec, embedOpt)\n",
       "        .catch(err => showError(`Javascript Error: ${err.message}<br>This usually means there's a typo in your chart specification. See the javascript console for the full traceback.`));\n",
       "    }\n",
       "\n",
       "    if(typeof define === \"function\" && define.amd) {\n",
       "      requirejs.config({paths});\n",
       "      require([\"vega-embed\"], displayChart, err => showError(`Error loading script: ${err.message}`));\n",
       "    } else if (typeof vegaEmbed === \"function\") {\n",
       "      displayChart(vegaEmbed);\n",
       "    } else {\n",
       "      loadScript(\"vega\")\n",
       "        .then(() => loadScript(\"vega-lite\"))\n",
       "        .then(() => loadScript(\"vega-embed\"))\n",
       "        .catch(showError)\n",
       "        .then(() => displayChart(vegaEmbed));\n",
       "    }\n",
       "  })({\"config\": {\"view\": {\"continuousWidth\": 400, \"continuousHeight\": 300}}, \"layer\": [{\"mark\": \"circle\", \"encoding\": {\"color\": {\"type\": \"ordinal\", \"field\": \"Month\", \"scale\": {\"scheme\": \"magma\"}}, \"opacity\": {\"value\": 0}, \"tooltip\": [{\"type\": \"ordinal\", \"field\": \"Month\", \"title\": \"Month\"}, {\"type\": \"quantitative\", \"field\": \"Day\", \"title\": \"Day\"}, {\"type\": \"quantitative\", \"field\": \"NDVI\", \"title\": \"NDVI\"}], \"x\": {\"type\": \"quantitative\", \"field\": \"Day\", \"scale\": {\"clamp\": true, \"domain\": [0, 31]}}, \"y\": {\"type\": \"quantitative\", \"field\": \"NDVI\", \"scale\": {\"domain\": [-1, 1]}}}, \"selection\": {\"selector006\": {\"type\": \"single\", \"on\": \"mouseover\", \"fields\": [\"Month\"], \"nearest\": true}, \"selector007\": {\"type\": \"interval\", \"bind\": \"scales\", \"encodings\": [\"x\", \"y\"]}}}, {\"mark\": \"line\", \"encoding\": {\"color\": {\"type\": \"ordinal\", \"field\": \"Month\", \"scale\": {\"scheme\": \"magma\"}}, \"size\": {\"condition\": {\"value\": 1, \"selection\": {\"not\": \"selector006\"}}, \"value\": 3}, \"x\": {\"type\": \"quantitative\", \"field\": \"Day\", \"scale\": {\"clamp\": true, \"domain\": [0, 31]}}, \"y\": {\"type\": \"quantitative\", \"field\": \"NDVI\", \"scale\": {\"domain\": [-1, 1]}}}}], \"data\": {\"name\": \"data-e4293d2070489b43d2bda240815e303c\"}, \"height\": 350, \"width\": 600, \"$schema\": \"https://vega.github.io/schema/vega-lite/v4.8.1.json\", \"datasets\": {\"data-e4293d2070489b43d2bda240815e303c\": [{\"NDVI\": 0.3736724756243405, \"millis\": 1546300800000, \"system:index\": \"20190101\", \"Timestamp\": \"2019-01-01T00:00:00\", \"Year\": 2019, \"Month\": 1, \"Day\": 1, \"DOY\": 1}, {\"NDVI\": 0.3660117844145796, \"millis\": 1546992000000, \"system:index\": \"20190109\", \"Timestamp\": \"2019-01-09T00:00:00\", \"Year\": 2019, \"Month\": 1, \"Day\": 9, \"DOY\": 9}, {\"NDVI\": 0.08730591366869442, \"millis\": 1547683200000, \"system:index\": \"20190117\", \"Timestamp\": \"2019-01-17T00:00:00\", \"Year\": 2019, \"Month\": 1, \"Day\": 17, \"DOY\": 17}, {\"NDVI\": 0.4461140166823244, \"millis\": 1548374400000, \"system:index\": \"20190125\", \"Timestamp\": \"2019-01-25T00:00:00\", \"Year\": 2019, \"Month\": 1, \"Day\": 25, \"DOY\": 25}, {\"NDVI\": 0.22672263859246966, \"millis\": 1549065600000, \"system:index\": \"20190202\", \"Timestamp\": \"2019-02-02T00:00:00\", \"Year\": 2019, \"Month\": 2, \"Day\": 2, \"DOY\": 33}, {\"NDVI\": 0.48701243796427973, \"millis\": 1549756800000, \"system:index\": \"20190210\", \"Timestamp\": \"2019-02-10T00:00:00\", \"Year\": 2019, \"Month\": 2, \"Day\": 10, \"DOY\": 41}, {\"NDVI\": 0.651029354843719, \"millis\": 1550448000000, \"system:index\": \"20190218\", \"Timestamp\": \"2019-02-18T00:00:00\", \"Year\": 2019, \"Month\": 2, \"Day\": 18, \"DOY\": 49}, {\"NDVI\": 0.4971583791130476, \"millis\": 1551139200000, \"system:index\": \"20190226\", \"Timestamp\": \"2019-02-26T00:00:00\", \"Year\": 2019, \"Month\": 2, \"Day\": 26, \"DOY\": 57}, {\"NDVI\": 0.46885893753943425, \"millis\": 1551830400000, \"system:index\": \"20190306\", \"Timestamp\": \"2019-03-06T00:00:00\", \"Year\": 2019, \"Month\": 3, \"Day\": 6, \"DOY\": 65}, {\"NDVI\": 0.4046259928835443, \"millis\": 1552521600000, \"system:index\": \"20190314\", \"Timestamp\": \"2019-03-14T00:00:00\", \"Year\": 2019, \"Month\": 3, \"Day\": 14, \"DOY\": 73}, {\"NDVI\": 0.357931962510957, \"millis\": 1553212800000, \"system:index\": \"20190322\", \"Timestamp\": \"2019-03-22T00:00:00\", \"Year\": 2019, \"Month\": 3, \"Day\": 22, \"DOY\": 81}, {\"NDVI\": 0.429008687270624, \"millis\": 1553904000000, \"system:index\": \"20190330\", \"Timestamp\": \"2019-03-30T00:00:00\", \"Year\": 2019, \"Month\": 3, \"Day\": 30, \"DOY\": 89}, {\"NDVI\": 0.22374530401284076, \"millis\": 1554595200000, \"system:index\": \"20190407\", \"Timestamp\": \"2019-04-07T00:00:00\", \"Year\": 2019, \"Month\": 4, \"Day\": 7, \"DOY\": 97}, {\"NDVI\": 0.40630934233975563, \"millis\": 1555286400000, \"system:index\": \"20190415\", \"Timestamp\": \"2019-04-15T00:00:00\", \"Year\": 2019, \"Month\": 4, \"Day\": 15, \"DOY\": 105}, {\"NDVI\": 0.31282894710998044, \"millis\": 1555977600000, \"system:index\": \"20190423\", \"Timestamp\": \"2019-04-23T00:00:00\", \"Year\": 2019, \"Month\": 4, \"Day\": 23, \"DOY\": 113}, {\"NDVI\": 0.24987861953382345, \"millis\": 1556668800000, \"system:index\": \"20190501\", \"Timestamp\": \"2019-05-01T00:00:00\", \"Year\": 2019, \"Month\": 5, \"Day\": 1, \"DOY\": 121}, {\"NDVI\": 0.28219656907892654, \"millis\": 1557360000000, \"system:index\": \"20190509\", \"Timestamp\": \"2019-05-09T00:00:00\", \"Year\": 2019, \"Month\": 5, \"Day\": 9, \"DOY\": 129}, {\"NDVI\": 0.42362631379320154, \"millis\": 1558051200000, \"system:index\": \"20190517\", \"Timestamp\": \"2019-05-17T00:00:00\", \"Year\": 2019, \"Month\": 5, \"Day\": 17, \"DOY\": 137}, {\"NDVI\": 0.43451045200803307, \"millis\": 1558742400000, \"system:index\": \"20190525\", \"Timestamp\": \"2019-05-25T00:00:00\", \"Year\": 2019, \"Month\": 5, \"Day\": 25, \"DOY\": 145}, {\"NDVI\": 0.36593522086076624, \"millis\": 1559433600000, \"system:index\": \"20190602\", \"Timestamp\": \"2019-06-02T00:00:00\", \"Year\": 2019, \"Month\": 6, \"Day\": 2, \"DOY\": 153}, {\"NDVI\": 0.3337035263460528, \"millis\": 1560124800000, \"system:index\": \"20190610\", \"Timestamp\": \"2019-06-10T00:00:00\", \"Year\": 2019, \"Month\": 6, \"Day\": 10, \"DOY\": 161}, {\"NDVI\": 0.412453265851098, \"millis\": 1560816000000, \"system:index\": \"20190618\", \"Timestamp\": \"2019-06-18T00:00:00\", \"Year\": 2019, \"Month\": 6, \"Day\": 18, \"DOY\": 169}, {\"NDVI\": 0.32451059168422186, \"millis\": 1561507200000, \"system:index\": \"20190626\", \"Timestamp\": \"2019-06-26T00:00:00\", \"Year\": 2019, \"Month\": 6, \"Day\": 26, \"DOY\": 177}, {\"NDVI\": 0.3877266706742726, \"millis\": 1562198400000, \"system:index\": \"20190704\", \"Timestamp\": \"2019-07-04T00:00:00\", \"Year\": 2019, \"Month\": 7, \"Day\": 4, \"DOY\": 185}, {\"NDVI\": 0.32648261599795403, \"millis\": 1562889600000, \"system:index\": \"20190712\", \"Timestamp\": \"2019-07-12T00:00:00\", \"Year\": 2019, \"Month\": 7, \"Day\": 12, \"DOY\": 193}, {\"NDVI\": 0.2474225076918841, \"millis\": 1563580800000, \"system:index\": \"20190720\", \"Timestamp\": \"2019-07-20T00:00:00\", \"Year\": 2019, \"Month\": 7, \"Day\": 20, \"DOY\": 201}, {\"NDVI\": 0.16540928810076364, \"millis\": 1564272000000, \"system:index\": \"20190728\", \"Timestamp\": \"2019-07-28T00:00:00\", \"Year\": 2019, \"Month\": 7, \"Day\": 28, \"DOY\": 209}, {\"NDVI\": 0.2359641681607471, \"millis\": 1564963200000, \"system:index\": \"20190805\", \"Timestamp\": \"2019-08-05T00:00:00\", \"Year\": 2019, \"Month\": 8, \"Day\": 5, \"DOY\": 217}, {\"NDVI\": 0.19792389806528568, \"millis\": 1565654400000, \"system:index\": \"20190813\", \"Timestamp\": \"2019-08-13T00:00:00\", \"Year\": 2019, \"Month\": 8, \"Day\": 13, \"DOY\": 225}, {\"NDVI\": 0.28616955220466456, \"millis\": 1566345600000, \"system:index\": \"20190821\", \"Timestamp\": \"2019-08-21T00:00:00\", \"Year\": 2019, \"Month\": 8, \"Day\": 21, \"DOY\": 233}, {\"NDVI\": 0.2491061583561728, \"millis\": 1567036800000, \"system:index\": \"20190829\", \"Timestamp\": \"2019-08-29T00:00:00\", \"Year\": 2019, \"Month\": 8, \"Day\": 29, \"DOY\": 241}, {\"NDVI\": 0.22926368111535392, \"millis\": 1567728000000, \"system:index\": \"20190906\", \"Timestamp\": \"2019-09-06T00:00:00\", \"Year\": 2019, \"Month\": 9, \"Day\": 6, \"DOY\": 249}, {\"NDVI\": 0.15481061556070114, \"millis\": 1568419200000, \"system:index\": \"20190914\", \"Timestamp\": \"2019-09-14T00:00:00\", \"Year\": 2019, \"Month\": 9, \"Day\": 14, \"DOY\": 257}, {\"NDVI\": 0.2375463791984986, \"millis\": 1569110400000, \"system:index\": \"20190922\", \"Timestamp\": \"2019-09-22T00:00:00\", \"Year\": 2019, \"Month\": 9, \"Day\": 22, \"DOY\": 265}, {\"NDVI\": 0.22386227443875162, \"millis\": 1569801600000, \"system:index\": \"20190930\", \"Timestamp\": \"2019-09-30T00:00:00\", \"Year\": 2019, \"Month\": 9, \"Day\": 30, \"DOY\": 273}, {\"NDVI\": 0.1622979528278921, \"millis\": 1570492800000, \"system:index\": \"20191008\", \"Timestamp\": \"2019-10-08T00:00:00\", \"Year\": 2019, \"Month\": 10, \"Day\": 8, \"DOY\": 281}, {\"NDVI\": 0.28444736277534516, \"millis\": 1571184000000, \"system:index\": \"20191016\", \"Timestamp\": \"2019-10-16T00:00:00\", \"Year\": 2019, \"Month\": 10, \"Day\": 16, \"DOY\": 289}, {\"NDVI\": 0.2802925315703356, \"millis\": 1571875200000, \"system:index\": \"20191024\", \"Timestamp\": \"2019-10-24T00:00:00\", \"Year\": 2019, \"Month\": 10, \"Day\": 24, \"DOY\": 297}, {\"NDVI\": 0.2760132520150336, \"millis\": 1572566400000, \"system:index\": \"20191101\", \"Timestamp\": \"2019-11-01T00:00:00\", \"Year\": 2019, \"Month\": 11, \"Day\": 1, \"DOY\": 305}, {\"NDVI\": 0.14636112004385038, \"millis\": 1573257600000, \"system:index\": \"20191109\", \"Timestamp\": \"2019-11-09T00:00:00\", \"Year\": 2019, \"Month\": 11, \"Day\": 9, \"DOY\": 313}, {\"NDVI\": 0.26311021009040103, \"millis\": 1573948800000, \"system:index\": \"20191117\", \"Timestamp\": \"2019-11-17T00:00:00\", \"Year\": 2019, \"Month\": 11, \"Day\": 17, \"DOY\": 321}, {\"NDVI\": 0.3850446150429769, \"millis\": 1574640000000, \"system:index\": \"20191125\", \"Timestamp\": \"2019-11-25T00:00:00\", \"Year\": 2019, \"Month\": 11, \"Day\": 25, \"DOY\": 329}, {\"NDVI\": 0.27899829240929, \"millis\": 1575331200000, \"system:index\": \"20191203\", \"Timestamp\": \"2019-12-03T00:00:00\", \"Year\": 2019, \"Month\": 12, \"Day\": 3, \"DOY\": 337}, {\"NDVI\": 0.38984099905694974, \"millis\": 1576022400000, \"system:index\": \"20191211\", \"Timestamp\": \"2019-12-11T00:00:00\", \"Year\": 2019, \"Month\": 12, \"Day\": 11, \"DOY\": 345}, {\"NDVI\": 0.3543907154795023, \"millis\": 1576713600000, \"system:index\": \"20191219\", \"Timestamp\": \"2019-12-19T00:00:00\", \"Year\": 2019, \"Month\": 12, \"Day\": 19, \"DOY\": 353}, {\"NDVI\": 0.25725828972042014, \"millis\": 1577404800000, \"system:index\": \"20191227\", \"Timestamp\": \"2019-12-27T00:00:00\", \"Year\": 2019, \"Month\": 12, \"Day\": 27, \"DOY\": 361}]}}, {\"mode\": \"vega-lite\"});\n",
       "</script>"
      ],
      "text/plain": [
       "alt.LayerChart(...)"
      ]
     },
     "execution_count": 21,
     "metadata": {},
     "output_type": "execute_result"
    }
   ],
   "source": [
    "highlight = alt.selection(\n",
    "    type='single', on='mouseover', fields=['Month'], nearest=True)\n",
    "\n",
    "base = alt.Chart(ndvi_df).encode(\n",
    "    x=alt.X('Day:Q', scale=alt.Scale(domain=[0, 31], clamp=True)),\n",
    "    y=alt.Y('NDVI:Q', scale=alt.Scale(domain=[-1, 1])),\n",
    "    color=alt.Color('Month:O', scale=alt.Scale(scheme='magma')))\n",
    "\n",
    "points = base.mark_circle().encode(\n",
    "    opacity=alt.value(0),\n",
    "    tooltip=[\n",
    "        alt.Tooltip('Month:O', title='Month'),\n",
    "        alt.Tooltip('Day:Q', title='Day'),\n",
    "        alt.Tooltip('NDVI:Q', title='NDVI')\n",
    "    ]).add_selection(highlight)\n",
    "\n",
    "lines = base.mark_line().encode(\n",
    "    size=alt.condition(~highlight, alt.value(1), alt.value(3)))\n",
    "\n",
    "(points + lines).properties(width=600, height=350).interactive()"
   ]
  },
  {
   "cell_type": "code",
   "execution_count": 18,
   "metadata": {
    "id": "MmezKNBDmcdo"
   },
   "outputs": [],
   "source": []
  },
  {
   "cell_type": "code",
   "execution_count": null,
   "metadata": {
    "id": "sQKvZGTem0xt"
   },
   "outputs": [],
   "source": []
  },
  {
   "cell_type": "markdown",
   "metadata": {
    "id": "cAaoCg7fmcPc"
   },
   "source": [
    "Another way to view these data is to plot the distribution of NDVI by DaY represented as an interquartile range envelope and median line. Here, these two charts are defined and then combined in the following snippet.\n",
    "\n",
    "1. Define a base chart.\n",
    "2. Define a line chart for median NDVI (note the use of aggregate median transform grouping by DaY).\n",
    "3. Define a band chart using `'iqr'` (interquartile range) to represent NDVI distribution grouping on DaY.\n",
    "4. Combine the line and band charts."
   ]
  },
  {
   "cell_type": "code",
   "execution_count": 18,
   "metadata": {
    "colab": {
     "base_uri": "https://localhost:8080/"
    },
    "id": "TmCQSIYEm7gY",
    "outputId": "1b5d510d-1bc2-44a1-8192-4dde93111474"
   },
   "outputs": [
    {
     "data": {
      "text/plain": [
       "0.2994992496573225"
      ]
     },
     "execution_count": 18,
     "metadata": {},
     "output_type": "execute_result"
    }
   ],
   "source": [
    "ndvi_df['NDVI'].median()"
   ]
  },
  {
   "cell_type": "code",
   "execution_count": 19,
   "metadata": {
    "colab": {
     "base_uri": "https://localhost:8080/",
     "height": 368
    },
    "id": "G-zFjVyPeK0f",
    "outputId": "f18f5d88-9f7e-469c-c2db-c3b5aea74467"
   },
   "outputs": [
    {
     "data": {
      "text/html": [
       "\n",
       "<div id=\"altair-viz-591a7746fa9c4c75b09bd0873c12dc46\"></div>\n",
       "<script type=\"text/javascript\">\n",
       "  (function(spec, embedOpt){\n",
       "    let outputDiv = document.currentScript.previousElementSibling;\n",
       "    if (outputDiv.id !== \"altair-viz-591a7746fa9c4c75b09bd0873c12dc46\") {\n",
       "      outputDiv = document.getElementById(\"altair-viz-591a7746fa9c4c75b09bd0873c12dc46\");\n",
       "    }\n",
       "    const paths = {\n",
       "      \"vega\": \"https://cdn.jsdelivr.net/npm//vega@5?noext\",\n",
       "      \"vega-lib\": \"https://cdn.jsdelivr.net/npm//vega-lib?noext\",\n",
       "      \"vega-lite\": \"https://cdn.jsdelivr.net/npm//vega-lite@4.8.1?noext\",\n",
       "      \"vega-embed\": \"https://cdn.jsdelivr.net/npm//vega-embed@6?noext\",\n",
       "    };\n",
       "\n",
       "    function loadScript(lib) {\n",
       "      return new Promise(function(resolve, reject) {\n",
       "        var s = document.createElement('script');\n",
       "        s.src = paths[lib];\n",
       "        s.async = true;\n",
       "        s.onload = () => resolve(paths[lib]);\n",
       "        s.onerror = () => reject(`Error loading script: ${paths[lib]}`);\n",
       "        document.getElementsByTagName(\"head\")[0].appendChild(s);\n",
       "      });\n",
       "    }\n",
       "\n",
       "    function showError(err) {\n",
       "      outputDiv.innerHTML = `<div class=\"error\" style=\"color:red;\">${err}</div>`;\n",
       "      throw err;\n",
       "    }\n",
       "\n",
       "    function displayChart(vegaEmbed) {\n",
       "      vegaEmbed(outputDiv, spec, embedOpt)\n",
       "        .catch(err => showError(`Javascript Error: ${err.message}<br>This usually means there's a typo in your chart specification. See the javascript console for the full traceback.`));\n",
       "    }\n",
       "\n",
       "    if(typeof define === \"function\" && define.amd) {\n",
       "      requirejs.config({paths});\n",
       "      require([\"vega-embed\"], displayChart, err => showError(`Error loading script: ${err.message}`));\n",
       "    } else if (typeof vegaEmbed === \"function\") {\n",
       "      displayChart(vegaEmbed);\n",
       "    } else {\n",
       "      loadScript(\"vega\")\n",
       "        .then(() => loadScript(\"vega-lite\"))\n",
       "        .then(() => loadScript(\"vega-embed\"))\n",
       "        .catch(showError)\n",
       "        .then(() => displayChart(vegaEmbed));\n",
       "    }\n",
       "  })({\"config\": {\"view\": {\"continuousWidth\": 400, \"continuousHeight\": 300}}, \"layer\": [{\"mark\": \"line\", \"encoding\": {\"x\": {\"type\": \"quantitative\", \"field\": \"Day\", \"scale\": {\"domain\": [0, 31]}}, \"y\": {\"type\": \"quantitative\", \"aggregate\": \"median\", \"field\": \"NDVI\", \"scale\": {\"domain\": [-1, 1]}}}, \"selection\": {\"selector003\": {\"type\": \"interval\", \"bind\": \"scales\", \"encodings\": [\"x\", \"y\"]}}}, {\"mark\": {\"type\": \"errorband\", \"extent\": \"iqr\"}, \"encoding\": {\"x\": {\"type\": \"quantitative\", \"field\": \"Day\", \"scale\": {\"domain\": [0, 31]}}, \"y\": {\"type\": \"quantitative\", \"field\": \"NDVI\"}}}], \"data\": {\"name\": \"data-e4293d2070489b43d2bda240815e303c\"}, \"height\": 300, \"width\": 600, \"$schema\": \"https://vega.github.io/schema/vega-lite/v4.8.1.json\", \"datasets\": {\"data-e4293d2070489b43d2bda240815e303c\": [{\"NDVI\": 0.3736724756243405, \"millis\": 1546300800000, \"system:index\": \"20190101\", \"Timestamp\": \"2019-01-01T00:00:00\", \"Year\": 2019, \"Month\": 1, \"Day\": 1, \"DOY\": 1}, {\"NDVI\": 0.3660117844145796, \"millis\": 1546992000000, \"system:index\": \"20190109\", \"Timestamp\": \"2019-01-09T00:00:00\", \"Year\": 2019, \"Month\": 1, \"Day\": 9, \"DOY\": 9}, {\"NDVI\": 0.08730591366869442, \"millis\": 1547683200000, \"system:index\": \"20190117\", \"Timestamp\": \"2019-01-17T00:00:00\", \"Year\": 2019, \"Month\": 1, \"Day\": 17, \"DOY\": 17}, {\"NDVI\": 0.4461140166823244, \"millis\": 1548374400000, \"system:index\": \"20190125\", \"Timestamp\": \"2019-01-25T00:00:00\", \"Year\": 2019, \"Month\": 1, \"Day\": 25, \"DOY\": 25}, {\"NDVI\": 0.22672263859246966, \"millis\": 1549065600000, \"system:index\": \"20190202\", \"Timestamp\": \"2019-02-02T00:00:00\", \"Year\": 2019, \"Month\": 2, \"Day\": 2, \"DOY\": 33}, {\"NDVI\": 0.48701243796427973, \"millis\": 1549756800000, \"system:index\": \"20190210\", \"Timestamp\": \"2019-02-10T00:00:00\", \"Year\": 2019, \"Month\": 2, \"Day\": 10, \"DOY\": 41}, {\"NDVI\": 0.651029354843719, \"millis\": 1550448000000, \"system:index\": \"20190218\", \"Timestamp\": \"2019-02-18T00:00:00\", \"Year\": 2019, \"Month\": 2, \"Day\": 18, \"DOY\": 49}, {\"NDVI\": 0.4971583791130476, \"millis\": 1551139200000, \"system:index\": \"20190226\", \"Timestamp\": \"2019-02-26T00:00:00\", \"Year\": 2019, \"Month\": 2, \"Day\": 26, \"DOY\": 57}, {\"NDVI\": 0.46885893753943425, \"millis\": 1551830400000, \"system:index\": \"20190306\", \"Timestamp\": \"2019-03-06T00:00:00\", \"Year\": 2019, \"Month\": 3, \"Day\": 6, \"DOY\": 65}, {\"NDVI\": 0.4046259928835443, \"millis\": 1552521600000, \"system:index\": \"20190314\", \"Timestamp\": \"2019-03-14T00:00:00\", \"Year\": 2019, \"Month\": 3, \"Day\": 14, \"DOY\": 73}, {\"NDVI\": 0.357931962510957, \"millis\": 1553212800000, \"system:index\": \"20190322\", \"Timestamp\": \"2019-03-22T00:00:00\", \"Year\": 2019, \"Month\": 3, \"Day\": 22, \"DOY\": 81}, {\"NDVI\": 0.429008687270624, \"millis\": 1553904000000, \"system:index\": \"20190330\", \"Timestamp\": \"2019-03-30T00:00:00\", \"Year\": 2019, \"Month\": 3, \"Day\": 30, \"DOY\": 89}, {\"NDVI\": 0.22374530401284076, \"millis\": 1554595200000, \"system:index\": \"20190407\", \"Timestamp\": \"2019-04-07T00:00:00\", \"Year\": 2019, \"Month\": 4, \"Day\": 7, \"DOY\": 97}, {\"NDVI\": 0.40630934233975563, \"millis\": 1555286400000, \"system:index\": \"20190415\", \"Timestamp\": \"2019-04-15T00:00:00\", \"Year\": 2019, \"Month\": 4, \"Day\": 15, \"DOY\": 105}, {\"NDVI\": 0.31282894710998044, \"millis\": 1555977600000, \"system:index\": \"20190423\", \"Timestamp\": \"2019-04-23T00:00:00\", \"Year\": 2019, \"Month\": 4, \"Day\": 23, \"DOY\": 113}, {\"NDVI\": 0.24987861953382345, \"millis\": 1556668800000, \"system:index\": \"20190501\", \"Timestamp\": \"2019-05-01T00:00:00\", \"Year\": 2019, \"Month\": 5, \"Day\": 1, \"DOY\": 121}, {\"NDVI\": 0.28219656907892654, \"millis\": 1557360000000, \"system:index\": \"20190509\", \"Timestamp\": \"2019-05-09T00:00:00\", \"Year\": 2019, \"Month\": 5, \"Day\": 9, \"DOY\": 129}, {\"NDVI\": 0.42362631379320154, \"millis\": 1558051200000, \"system:index\": \"20190517\", \"Timestamp\": \"2019-05-17T00:00:00\", \"Year\": 2019, \"Month\": 5, \"Day\": 17, \"DOY\": 137}, {\"NDVI\": 0.43451045200803307, \"millis\": 1558742400000, \"system:index\": \"20190525\", \"Timestamp\": \"2019-05-25T00:00:00\", \"Year\": 2019, \"Month\": 5, \"Day\": 25, \"DOY\": 145}, {\"NDVI\": 0.36593522086076624, \"millis\": 1559433600000, \"system:index\": \"20190602\", \"Timestamp\": \"2019-06-02T00:00:00\", \"Year\": 2019, \"Month\": 6, \"Day\": 2, \"DOY\": 153}, {\"NDVI\": 0.3337035263460528, \"millis\": 1560124800000, \"system:index\": \"20190610\", \"Timestamp\": \"2019-06-10T00:00:00\", \"Year\": 2019, \"Month\": 6, \"Day\": 10, \"DOY\": 161}, {\"NDVI\": 0.412453265851098, \"millis\": 1560816000000, \"system:index\": \"20190618\", \"Timestamp\": \"2019-06-18T00:00:00\", \"Year\": 2019, \"Month\": 6, \"Day\": 18, \"DOY\": 169}, {\"NDVI\": 0.32451059168422186, \"millis\": 1561507200000, \"system:index\": \"20190626\", \"Timestamp\": \"2019-06-26T00:00:00\", \"Year\": 2019, \"Month\": 6, \"Day\": 26, \"DOY\": 177}, {\"NDVI\": 0.3877266706742726, \"millis\": 1562198400000, \"system:index\": \"20190704\", \"Timestamp\": \"2019-07-04T00:00:00\", \"Year\": 2019, \"Month\": 7, \"Day\": 4, \"DOY\": 185}, {\"NDVI\": 0.32648261599795403, \"millis\": 1562889600000, \"system:index\": \"20190712\", \"Timestamp\": \"2019-07-12T00:00:00\", \"Year\": 2019, \"Month\": 7, \"Day\": 12, \"DOY\": 193}, {\"NDVI\": 0.2474225076918841, \"millis\": 1563580800000, \"system:index\": \"20190720\", \"Timestamp\": \"2019-07-20T00:00:00\", \"Year\": 2019, \"Month\": 7, \"Day\": 20, \"DOY\": 201}, {\"NDVI\": 0.16540928810076364, \"millis\": 1564272000000, \"system:index\": \"20190728\", \"Timestamp\": \"2019-07-28T00:00:00\", \"Year\": 2019, \"Month\": 7, \"Day\": 28, \"DOY\": 209}, {\"NDVI\": 0.2359641681607471, \"millis\": 1564963200000, \"system:index\": \"20190805\", \"Timestamp\": \"2019-08-05T00:00:00\", \"Year\": 2019, \"Month\": 8, \"Day\": 5, \"DOY\": 217}, {\"NDVI\": 0.19792389806528568, \"millis\": 1565654400000, \"system:index\": \"20190813\", \"Timestamp\": \"2019-08-13T00:00:00\", \"Year\": 2019, \"Month\": 8, \"Day\": 13, \"DOY\": 225}, {\"NDVI\": 0.28616955220466456, \"millis\": 1566345600000, \"system:index\": \"20190821\", \"Timestamp\": \"2019-08-21T00:00:00\", \"Year\": 2019, \"Month\": 8, \"Day\": 21, \"DOY\": 233}, {\"NDVI\": 0.2491061583561728, \"millis\": 1567036800000, \"system:index\": \"20190829\", \"Timestamp\": \"2019-08-29T00:00:00\", \"Year\": 2019, \"Month\": 8, \"Day\": 29, \"DOY\": 241}, {\"NDVI\": 0.22926368111535392, \"millis\": 1567728000000, \"system:index\": \"20190906\", \"Timestamp\": \"2019-09-06T00:00:00\", \"Year\": 2019, \"Month\": 9, \"Day\": 6, \"DOY\": 249}, {\"NDVI\": 0.15481061556070114, \"millis\": 1568419200000, \"system:index\": \"20190914\", \"Timestamp\": \"2019-09-14T00:00:00\", \"Year\": 2019, \"Month\": 9, \"Day\": 14, \"DOY\": 257}, {\"NDVI\": 0.2375463791984986, \"millis\": 1569110400000, \"system:index\": \"20190922\", \"Timestamp\": \"2019-09-22T00:00:00\", \"Year\": 2019, \"Month\": 9, \"Day\": 22, \"DOY\": 265}, {\"NDVI\": 0.22386227443875162, \"millis\": 1569801600000, \"system:index\": \"20190930\", \"Timestamp\": \"2019-09-30T00:00:00\", \"Year\": 2019, \"Month\": 9, \"Day\": 30, \"DOY\": 273}, {\"NDVI\": 0.1622979528278921, \"millis\": 1570492800000, \"system:index\": \"20191008\", \"Timestamp\": \"2019-10-08T00:00:00\", \"Year\": 2019, \"Month\": 10, \"Day\": 8, \"DOY\": 281}, {\"NDVI\": 0.28444736277534516, \"millis\": 1571184000000, \"system:index\": \"20191016\", \"Timestamp\": \"2019-10-16T00:00:00\", \"Year\": 2019, \"Month\": 10, \"Day\": 16, \"DOY\": 289}, {\"NDVI\": 0.2802925315703356, \"millis\": 1571875200000, \"system:index\": \"20191024\", \"Timestamp\": \"2019-10-24T00:00:00\", \"Year\": 2019, \"Month\": 10, \"Day\": 24, \"DOY\": 297}, {\"NDVI\": 0.2760132520150336, \"millis\": 1572566400000, \"system:index\": \"20191101\", \"Timestamp\": \"2019-11-01T00:00:00\", \"Year\": 2019, \"Month\": 11, \"Day\": 1, \"DOY\": 305}, {\"NDVI\": 0.14636112004385038, \"millis\": 1573257600000, \"system:index\": \"20191109\", \"Timestamp\": \"2019-11-09T00:00:00\", \"Year\": 2019, \"Month\": 11, \"Day\": 9, \"DOY\": 313}, {\"NDVI\": 0.26311021009040103, \"millis\": 1573948800000, \"system:index\": \"20191117\", \"Timestamp\": \"2019-11-17T00:00:00\", \"Year\": 2019, \"Month\": 11, \"Day\": 17, \"DOY\": 321}, {\"NDVI\": 0.3850446150429769, \"millis\": 1574640000000, \"system:index\": \"20191125\", \"Timestamp\": \"2019-11-25T00:00:00\", \"Year\": 2019, \"Month\": 11, \"Day\": 25, \"DOY\": 329}, {\"NDVI\": 0.27899829240929, \"millis\": 1575331200000, \"system:index\": \"20191203\", \"Timestamp\": \"2019-12-03T00:00:00\", \"Year\": 2019, \"Month\": 12, \"Day\": 3, \"DOY\": 337}, {\"NDVI\": 0.38984099905694974, \"millis\": 1576022400000, \"system:index\": \"20191211\", \"Timestamp\": \"2019-12-11T00:00:00\", \"Year\": 2019, \"Month\": 12, \"Day\": 11, \"DOY\": 345}, {\"NDVI\": 0.3543907154795023, \"millis\": 1576713600000, \"system:index\": \"20191219\", \"Timestamp\": \"2019-12-19T00:00:00\", \"Year\": 2019, \"Month\": 12, \"Day\": 19, \"DOY\": 353}, {\"NDVI\": 0.25725828972042014, \"millis\": 1577404800000, \"system:index\": \"20191227\", \"Timestamp\": \"2019-12-27T00:00:00\", \"Year\": 2019, \"Month\": 12, \"Day\": 27, \"DOY\": 361}]}}, {\"mode\": \"vega-lite\"});\n",
       "</script>"
      ],
      "text/plain": [
       "alt.LayerChart(...)"
      ]
     },
     "execution_count": 19,
     "metadata": {},
     "output_type": "execute_result"
    }
   ],
   "source": [
    "base = alt.Chart(ndvi_df).encode(\n",
    "    x=alt.X('Day:Q', scale=alt.Scale(domain=(0, 31))))\n",
    "\n",
    "line = base.mark_line().encode(\n",
    "    y=alt.Y('median(NDVI):Q', scale=alt.Scale(domain=(-1, 1))))\n",
    "\n",
    "band = base.mark_errorband(extent='iqr').encode(\n",
    "    y='NDVI:Q')\n",
    "\n",
    "(line + band).properties(width=600, height=300).interactive()"
   ]
  },
  {
   "cell_type": "code",
   "execution_count": null,
   "metadata": {
    "id": "UHmPmimDnEQk"
   },
   "outputs": [],
   "source": []
  },
  {
   "cell_type": "code",
   "execution_count": null,
   "metadata": {},
   "outputs": [],
   "source": []
  }
 ],
 "metadata": {
  "colab": {
   "name": "landsat_8_timesereis_with_Altair.ipynb",
   "provenance": []
  },
  "kernelspec": {
   "display_name": "Python 3 (ipykernel)",
   "language": "python",
   "name": "python3"
  },
  "language_info": {
   "codemirror_mode": {
    "name": "ipython",
    "version": 3
   },
   "file_extension": ".py",
   "mimetype": "text/x-python",
   "name": "python",
   "nbconvert_exporter": "python",
   "pygments_lexer": "ipython3",
   "version": "3.9.7"
  }
 },
 "nbformat": 4,
 "nbformat_minor": 1
}
