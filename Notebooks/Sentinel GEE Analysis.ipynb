{
 "cells": [
  {
   "cell_type": "code",
   "execution_count": 6,
   "id": "8359fef7",
   "metadata": {},
   "outputs": [],
   "source": []
  },
  {
   "cell_type": "code",
   "execution_count": 7,
   "id": "01858bb1",
   "metadata": {},
   "outputs": [],
   "source": []
  },
  {
   "cell_type": "code",
   "execution_count": 19,
   "id": "be6e1b8f",
   "metadata": {},
   "outputs": [
    {
     "name": "stdout",
     "output_type": "stream",
     "text": [
      "Enter_start_date_yy-mm-dd2018-10-10\n",
      "Enter_end_date_yy-mm-dd2019-05-10\n",
      "Enter_longitude34.3015278\n",
      "Enter_latitude-13.2512161\n"
     ]
    },
    {
     "data": {
      "text/html": [
       "<p>To authorize access needed by Earth Engine, open the following\n",
       "        URL in a web browser and follow the instructions:</p>\n",
       "        <p><a href=https://accounts.google.com/o/oauth2/auth?client_id=517222506229-vsmmajv00ul0bs7p89v5m89qs8eb9359.apps.googleusercontent.com&scope=https%3A%2F%2Fwww.googleapis.com%2Fauth%2Fearthengine+https%3A%2F%2Fwww.googleapis.com%2Fauth%2Fdevstorage.full_control&redirect_uri=urn%3Aietf%3Awg%3Aoauth%3A2.0%3Aoob&response_type=code&code_challenge=OY-agUg5XDr-mXRXWpGDKcADIqkI86p7ZEEfNlAyV1A&code_challenge_method=S256>https://accounts.google.com/o/oauth2/auth?client_id=517222506229-vsmmajv00ul0bs7p89v5m89qs8eb9359.apps.googleusercontent.com&scope=https%3A%2F%2Fwww.googleapis.com%2Fauth%2Fearthengine+https%3A%2F%2Fwww.googleapis.com%2Fauth%2Fdevstorage.full_control&redirect_uri=urn%3Aietf%3Awg%3Aoauth%3A2.0%3Aoob&response_type=code&code_challenge=OY-agUg5XDr-mXRXWpGDKcADIqkI86p7ZEEfNlAyV1A&code_challenge_method=S256</a></p>\n",
       "        <p>The authorization workflow will generate a code, which you\n",
       "        should paste in the box below</p>\n",
       "        "
      ],
      "text/plain": [
       "<IPython.core.display.HTML object>"
      ]
     },
     "metadata": {},
     "output_type": "display_data"
    },
    {
     "name": "stdout",
     "output_type": "stream",
     "text": [
      "Enter verification code: 4/1AX4XfWjdc-saRKfJAJyLIm7YdaIU-s-O7ktBDipFhYwLltjmm2-u0UrIzJM\n",
      "\n",
      "Successfully saved authorization token.\n"
     ]
    },
    {
     "data": {
      "application/vnd.jupyter.widget-view+json": {
       "model_id": "db6089ed1fcb4594bd8402a80de17e2f",
       "version_major": 2,
       "version_minor": 0
      },
      "text/plain": [
       "Map(center=[-13.2512161, 34.3015278], controls=(WidgetControl(options=['position', 'transparent_bg'], widget=H…"
      ]
     },
     "metadata": {},
     "output_type": "display_data"
    }
   ],
   "source": [
    "#We import the necessary packages\n",
    "import geemap\n",
    "import ee\n",
    "def sentinel_data():\n",
    "    # We define our inputs\n",
    "    start_date= str(input('Enter_start_date_yy-mm-dd'))\n",
    "    end_date=str(input('Enter_end_date_yy-mm-dd'))\n",
    "    lon= float(input('Enter_longitude'))\n",
    "    lat= float(input('Enter_latitude'))\n",
    "    #Earth engine authentication\n",
    "    ee.Authenticate()\n",
    "    ee.Initialize()\n",
    "    #We generate a map and center it on our lat and lon\n",
    "    Map = geemap.Map(center=[lat,lon], zoom=9)\n",
    "    #We enter the lat and loin of the point of interest\n",
    "    point=ee.Geometry.Point(33.78725,-13.96692)\n",
    "    Mapoint=ee.Geometry.Point(lat,lon)\n",
    "    #We import dataset from sentinel 2 using earth engine api and we clip our poi, filter by date and sort according to cloud coverage\n",
    "    data= ee.ImageCollection(\"COPERNICUS/S2\").filterBounds(point);\n",
    "    image1=ee.Image(data.filterDate(start_date, end_date).sort(\"CLOUD_COVERAGE_ASSESSMENT\").first());\n",
    "    #From the first data we selects the bands to generate the ndvi\n",
    "    ndvi=image1.expression(\"(NIR - RED) / (NIR + RED)\",\n",
    "    {\"NIR\":image1.select(\"B8\"),\n",
    "    \"RED\":image1.select(\"B4\")});\n",
    "    display={\n",
    "    \"min\":0,\n",
    "    \"max\":1,\n",
    "    \"palette\":[ 'blue', 'yellow', 'green', 'darkgreen','black']}\n",
    "    #We display the ndvi\n",
    "    Map.addLayer(ndvi,display);\n",
    "    #Map\n",
    "    \n",
    "    #We now select the bands to compute the true colour map\n",
    "    image2= ee.ImageCollection(\"COPERNICUS/S2\").filterBounds(point).filterDate('2016-01-01', '2019-04-30').sort('CLOUDY_PIXEL_PERCENTAGE', False).mosaic()\n",
    "    truecolor= {'Bands':['B8', 'B4', 'B3'], 'min':0, 'max':3000}\n",
    "    Map.addLayer(image2, truecolor, 'True Color Composite')\n",
    "    #We display the true color map on the same map with a layer control\n",
    "    Map.addLayerControl()\n",
    "\n",
    "    #Map\n",
    "    return Map\n",
    "\n",
    "sentinel_data()\n"
   ]
  },
  {
   "cell_type": "code",
   "execution_count": null,
   "id": "b7beac01",
   "metadata": {},
   "outputs": [],
   "source": []
  },
  {
   "cell_type": "code",
   "execution_count": null,
   "id": "b9109921",
   "metadata": {},
   "outputs": [],
   "source": []
  },
  {
   "cell_type": "code",
   "execution_count": null,
   "id": "e80454d1",
   "metadata": {},
   "outputs": [],
   "source": []
  },
  {
   "cell_type": "code",
   "execution_count": null,
   "id": "66409ae2",
   "metadata": {},
   "outputs": [],
   "source": []
  },
  {
   "cell_type": "code",
   "execution_count": null,
   "id": "3554eb13",
   "metadata": {},
   "outputs": [],
   "source": []
  },
  {
   "cell_type": "code",
   "execution_count": null,
   "id": "2b9fc7e1",
   "metadata": {},
   "outputs": [],
   "source": []
  },
  {
   "cell_type": "code",
   "execution_count": null,
   "id": "a320a088",
   "metadata": {},
   "outputs": [],
   "source": []
  },
  {
   "cell_type": "code",
   "execution_count": null,
   "id": "2d765566",
   "metadata": {},
   "outputs": [],
   "source": []
  },
  {
   "cell_type": "code",
   "execution_count": null,
   "id": "960b0e6e",
   "metadata": {},
   "outputs": [],
   "source": []
  },
  {
   "cell_type": "code",
   "execution_count": null,
   "id": "992f8dba",
   "metadata": {},
   "outputs": [],
   "source": []
  },
  {
   "cell_type": "code",
   "execution_count": null,
   "id": "a5e4d1d8",
   "metadata": {},
   "outputs": [],
   "source": []
  },
  {
   "cell_type": "code",
   "execution_count": null,
   "id": "ac27c4f5",
   "metadata": {},
   "outputs": [],
   "source": []
  },
  {
   "cell_type": "code",
   "execution_count": null,
   "id": "8fddef7f",
   "metadata": {},
   "outputs": [],
   "source": []
  },
  {
   "cell_type": "code",
   "execution_count": null,
   "id": "7ee85eeb",
   "metadata": {},
   "outputs": [],
   "source": []
  },
  {
   "cell_type": "code",
   "execution_count": null,
   "id": "b5aa6947",
   "metadata": {},
   "outputs": [],
   "source": []
  },
  {
   "cell_type": "code",
   "execution_count": null,
   "id": "1cda9cf3",
   "metadata": {},
   "outputs": [],
   "source": []
  },
  {
   "cell_type": "code",
   "execution_count": null,
   "id": "813472ad",
   "metadata": {},
   "outputs": [],
   "source": []
  },
  {
   "cell_type": "code",
   "execution_count": null,
   "id": "dc651f85",
   "metadata": {},
   "outputs": [],
   "source": []
  },
  {
   "cell_type": "code",
   "execution_count": null,
   "id": "620fdfa3",
   "metadata": {},
   "outputs": [],
   "source": []
  },
  {
   "cell_type": "code",
   "execution_count": null,
   "id": "b9f5521b",
   "metadata": {},
   "outputs": [],
   "source": []
  },
  {
   "cell_type": "code",
   "execution_count": null,
   "id": "5d1c8f02",
   "metadata": {},
   "outputs": [],
   "source": []
  },
  {
   "cell_type": "code",
   "execution_count": null,
   "id": "03375833",
   "metadata": {},
   "outputs": [],
   "source": []
  },
  {
   "cell_type": "code",
   "execution_count": null,
   "id": "b5b20732",
   "metadata": {},
   "outputs": [],
   "source": []
  },
  {
   "cell_type": "code",
   "execution_count": null,
   "id": "e47ea1f7",
   "metadata": {},
   "outputs": [],
   "source": []
  },
  {
   "cell_type": "code",
   "execution_count": null,
   "id": "45a17890",
   "metadata": {},
   "outputs": [],
   "source": []
  },
  {
   "cell_type": "code",
   "execution_count": null,
   "id": "05dbcc13",
   "metadata": {},
   "outputs": [],
   "source": []
  },
  {
   "cell_type": "code",
   "execution_count": null,
   "id": "62f47f3d",
   "metadata": {},
   "outputs": [],
   "source": []
  },
  {
   "cell_type": "code",
   "execution_count": null,
   "id": "e688820e",
   "metadata": {},
   "outputs": [],
   "source": []
  },
  {
   "cell_type": "code",
   "execution_count": null,
   "id": "2a08174b",
   "metadata": {},
   "outputs": [],
   "source": []
  },
  {
   "cell_type": "code",
   "execution_count": null,
   "id": "6212916c",
   "metadata": {},
   "outputs": [],
   "source": []
  }
 ],
 "metadata": {
  "kernelspec": {
   "display_name": "Python 3 (ipykernel)",
   "language": "python",
   "name": "python3"
  },
  "language_info": {
   "codemirror_mode": {
    "name": "ipython",
    "version": 3
   },
   "file_extension": ".py",
   "mimetype": "text/x-python",
   "name": "python",
   "nbconvert_exporter": "python",
   "pygments_lexer": "ipython3",
   "version": "3.9.7"
  }
 },
 "nbformat": 4,
 "nbformat_minor": 5
}
