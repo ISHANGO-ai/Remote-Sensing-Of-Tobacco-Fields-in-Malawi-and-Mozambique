{
 "cells": [
  {
   "cell_type": "code",
   "execution_count": null,
   "id": "8cc8b2d9",
   "metadata": {},
   "outputs": [],
   "source": [
    "import glob\n",
    "import numpy as np\n",
    "from osgeo import gdal # If GDAL doesn't recognize jp2 format, check version</pre>\n",
    "from glob import glob\n",
    "import earthpy as et\n",
    "import earthpy.spatial as es\n",
    "import earthpy.plot as ep\n",
    "import rasterio as rio\n",
    "import matplotlib.pyplot as plt\n",
    "from matplotlib.colors import ListedColormap\n",
    "import plotly.graph_objects as go\n",
    "\n",
    "np.seterr(divide='ignore', invalid='ignore')\n",
    "# Set input directory\n",
    "input_dir = input('Enter path')\n",
    "S_sentinel_bands = glob(input_dir)\n",
    "\n",
    "S_sentinel_bands.sort()\n",
    "\n",
    "l = []\n",
    "\n",
    "for i in S_sentinel_bands:\n",
    "\n",
    "    with rio.open(i, 'r') as f:\n",
    "        l.append(f.read(1))\n",
    "\n",
    "arr_st = np.stack(l)\n",
    "def ndvi_sentinel(arr_st):\n",
    "\n",
    "    ndvi = (arr_st[3] - arr_st[2])/(arr_st[3]+arr_st[2])\n",
    "    \n",
    "    return ndvi\n",
    "\n",
    "\n",
    "\n",
    "\n",
    "\n",
    "\n",
    "\n",
    "NDVI =ndvi_sentinel(arr_st)\n",
    "\n",
    "ep.plot_bands(NDVI, cmap=\"RdYlGn\", cols=1, vmin=-1, vmax=1, figsize=(10, 14),title = 'Sentinel2A - Normalized Difference Vegetation Index (NDVI)') \n",
    "\n",
    "plt.show()\n",
    "\n"
   ]
  },
  {
   "cell_type": "code",
   "execution_count": null,
   "id": "e9d41251",
   "metadata": {},
   "outputs": [],
   "source": []
  }
 ],
 "metadata": {
  "kernelspec": {
   "display_name": "Python 3 (ipykernel)",
   "language": "python",
   "name": "python3"
  },
  "language_info": {
   "codemirror_mode": {
    "name": "ipython",
    "version": 3
   },
   "file_extension": ".py",
   "mimetype": "text/x-python",
   "name": "python",
   "nbconvert_exporter": "python",
   "pygments_lexer": "ipython3",
   "version": "3.9.7"
  }
 },
 "nbformat": 4,
 "nbformat_minor": 5
}
