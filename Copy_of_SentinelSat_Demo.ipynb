{
  "nbformat": 4,
  "nbformat_minor": 0,
  "metadata": {
    "kernelspec": {
      "display_name": "Python 3",
      "language": "python",
      "name": "python3"
    },
    "language_info": {
      "codemirror_mode": {
        "name": "ipython",
        "version": 3
      },
      "file_extension": ".py",
      "mimetype": "text/x-python",
      "name": "python",
      "nbconvert_exporter": "python",
      "pygments_lexer": "ipython3",
      "version": "3.6.5"
    },
    "colab": {
      "name": "Copy of SentinelSat_Demo.ipynb",
      "provenance": [],
      "collapsed_sections": []
    },
    "widgets": {
      "application/vnd.jupyter.widget-state+json": {
        "dda4271d4d06442ca0d7143b667597e5": {
          "model_module": "@jupyter-widgets/controls",
          "model_name": "HBoxModel",
          "model_module_version": "1.5.0",
          "state": {
            "_view_name": "HBoxView",
            "_dom_classes": [],
            "_model_name": "HBoxModel",
            "_view_module": "@jupyter-widgets/controls",
            "_model_module_version": "1.5.0",
            "_view_count": null,
            "_view_module_version": "1.5.0",
            "box_style": "",
            "layout": "IPY_MODEL_d89e9194932a4273972af1de63026344",
            "_model_module": "@jupyter-widgets/controls",
            "children": [
              "IPY_MODEL_15f823870cc94b829bf1f588ec00ffc3",
              "IPY_MODEL_4671c8f20f4142feb04676995307814b",
              "IPY_MODEL_6ffdad105e5849be8b75144b2adef9e3"
            ]
          }
        },
        "d89e9194932a4273972af1de63026344": {
          "model_module": "@jupyter-widgets/base",
          "model_name": "LayoutModel",
          "model_module_version": "1.2.0",
          "state": {
            "_view_name": "LayoutView",
            "grid_template_rows": null,
            "right": null,
            "justify_content": null,
            "_view_module": "@jupyter-widgets/base",
            "overflow": null,
            "_model_module_version": "1.2.0",
            "_view_count": null,
            "flex_flow": null,
            "width": null,
            "min_width": null,
            "border": null,
            "align_items": null,
            "bottom": null,
            "_model_module": "@jupyter-widgets/base",
            "top": null,
            "grid_column": null,
            "overflow_y": null,
            "overflow_x": null,
            "grid_auto_flow": null,
            "grid_area": null,
            "grid_template_columns": null,
            "flex": null,
            "_model_name": "LayoutModel",
            "justify_items": null,
            "grid_row": null,
            "max_height": null,
            "align_content": null,
            "visibility": null,
            "align_self": null,
            "height": null,
            "min_height": null,
            "padding": null,
            "grid_auto_rows": null,
            "grid_gap": null,
            "max_width": null,
            "order": null,
            "_view_module_version": "1.2.0",
            "grid_template_areas": null,
            "object_position": null,
            "object_fit": null,
            "grid_auto_columns": null,
            "margin": null,
            "display": null,
            "left": null
          }
        },
        "15f823870cc94b829bf1f588ec00ffc3": {
          "model_module": "@jupyter-widgets/controls",
          "model_name": "HTMLModel",
          "model_module_version": "1.5.0",
          "state": {
            "_view_name": "HTMLView",
            "style": "IPY_MODEL_0bed21566b1844a0ac2cb0d0b77d3551",
            "_dom_classes": [],
            "description": "",
            "_model_name": "HTMLModel",
            "placeholder": "​",
            "_view_module": "@jupyter-widgets/controls",
            "_model_module_version": "1.5.0",
            "value": "Downloading S2A_MSIL2A_20200127T075201_N0213_R135_T36LVH_20200127T101244.zip: 100%",
            "_view_count": null,
            "_view_module_version": "1.5.0",
            "description_tooltip": null,
            "_model_module": "@jupyter-widgets/controls",
            "layout": "IPY_MODEL_cfd8a3a4f4da462ba65f8997ee318965"
          }
        },
        "4671c8f20f4142feb04676995307814b": {
          "model_module": "@jupyter-widgets/controls",
          "model_name": "FloatProgressModel",
          "model_module_version": "1.5.0",
          "state": {
            "_view_name": "ProgressView",
            "style": "IPY_MODEL_7d620a7b503b4b01a4f468e9366e19d4",
            "_dom_classes": [],
            "description": "",
            "_model_name": "FloatProgressModel",
            "bar_style": "success",
            "max": 972388663,
            "_view_module": "@jupyter-widgets/controls",
            "_model_module_version": "1.5.0",
            "value": 972388663,
            "_view_count": null,
            "_view_module_version": "1.5.0",
            "orientation": "horizontal",
            "min": 0,
            "description_tooltip": null,
            "_model_module": "@jupyter-widgets/controls",
            "layout": "IPY_MODEL_ce43cb40e89341aabfa4cbe8d0e84b01"
          }
        },
        "6ffdad105e5849be8b75144b2adef9e3": {
          "model_module": "@jupyter-widgets/controls",
          "model_name": "HTMLModel",
          "model_module_version": "1.5.0",
          "state": {
            "_view_name": "HTMLView",
            "style": "IPY_MODEL_be7508754bd842d9bfe0aa747c298e1a",
            "_dom_classes": [],
            "description": "",
            "_model_name": "HTMLModel",
            "placeholder": "​",
            "_view_module": "@jupyter-widgets/controls",
            "_model_module_version": "1.5.0",
            "value": " 972M/972M [16:06&lt;00:00, 996kB/s]",
            "_view_count": null,
            "_view_module_version": "1.5.0",
            "description_tooltip": null,
            "_model_module": "@jupyter-widgets/controls",
            "layout": "IPY_MODEL_2ebeb76232e44bbda924c3e2b7752095"
          }
        },
        "0bed21566b1844a0ac2cb0d0b77d3551": {
          "model_module": "@jupyter-widgets/controls",
          "model_name": "DescriptionStyleModel",
          "model_module_version": "1.5.0",
          "state": {
            "_view_name": "StyleView",
            "_model_name": "DescriptionStyleModel",
            "description_width": "",
            "_view_module": "@jupyter-widgets/base",
            "_model_module_version": "1.5.0",
            "_view_count": null,
            "_view_module_version": "1.2.0",
            "_model_module": "@jupyter-widgets/controls"
          }
        },
        "cfd8a3a4f4da462ba65f8997ee318965": {
          "model_module": "@jupyter-widgets/base",
          "model_name": "LayoutModel",
          "model_module_version": "1.2.0",
          "state": {
            "_view_name": "LayoutView",
            "grid_template_rows": null,
            "right": null,
            "justify_content": null,
            "_view_module": "@jupyter-widgets/base",
            "overflow": null,
            "_model_module_version": "1.2.0",
            "_view_count": null,
            "flex_flow": null,
            "width": null,
            "min_width": null,
            "border": null,
            "align_items": null,
            "bottom": null,
            "_model_module": "@jupyter-widgets/base",
            "top": null,
            "grid_column": null,
            "overflow_y": null,
            "overflow_x": null,
            "grid_auto_flow": null,
            "grid_area": null,
            "grid_template_columns": null,
            "flex": null,
            "_model_name": "LayoutModel",
            "justify_items": null,
            "grid_row": null,
            "max_height": null,
            "align_content": null,
            "visibility": null,
            "align_self": null,
            "height": null,
            "min_height": null,
            "padding": null,
            "grid_auto_rows": null,
            "grid_gap": null,
            "max_width": null,
            "order": null,
            "_view_module_version": "1.2.0",
            "grid_template_areas": null,
            "object_position": null,
            "object_fit": null,
            "grid_auto_columns": null,
            "margin": null,
            "display": null,
            "left": null
          }
        },
        "7d620a7b503b4b01a4f468e9366e19d4": {
          "model_module": "@jupyter-widgets/controls",
          "model_name": "ProgressStyleModel",
          "model_module_version": "1.5.0",
          "state": {
            "_view_name": "StyleView",
            "_model_name": "ProgressStyleModel",
            "description_width": "",
            "_view_module": "@jupyter-widgets/base",
            "_model_module_version": "1.5.0",
            "_view_count": null,
            "_view_module_version": "1.2.0",
            "bar_color": null,
            "_model_module": "@jupyter-widgets/controls"
          }
        },
        "ce43cb40e89341aabfa4cbe8d0e84b01": {
          "model_module": "@jupyter-widgets/base",
          "model_name": "LayoutModel",
          "model_module_version": "1.2.0",
          "state": {
            "_view_name": "LayoutView",
            "grid_template_rows": null,
            "right": null,
            "justify_content": null,
            "_view_module": "@jupyter-widgets/base",
            "overflow": null,
            "_model_module_version": "1.2.0",
            "_view_count": null,
            "flex_flow": null,
            "width": null,
            "min_width": null,
            "border": null,
            "align_items": null,
            "bottom": null,
            "_model_module": "@jupyter-widgets/base",
            "top": null,
            "grid_column": null,
            "overflow_y": null,
            "overflow_x": null,
            "grid_auto_flow": null,
            "grid_area": null,
            "grid_template_columns": null,
            "flex": null,
            "_model_name": "LayoutModel",
            "justify_items": null,
            "grid_row": null,
            "max_height": null,
            "align_content": null,
            "visibility": null,
            "align_self": null,
            "height": null,
            "min_height": null,
            "padding": null,
            "grid_auto_rows": null,
            "grid_gap": null,
            "max_width": null,
            "order": null,
            "_view_module_version": "1.2.0",
            "grid_template_areas": null,
            "object_position": null,
            "object_fit": null,
            "grid_auto_columns": null,
            "margin": null,
            "display": null,
            "left": null
          }
        },
        "be7508754bd842d9bfe0aa747c298e1a": {
          "model_module": "@jupyter-widgets/controls",
          "model_name": "DescriptionStyleModel",
          "model_module_version": "1.5.0",
          "state": {
            "_view_name": "StyleView",
            "_model_name": "DescriptionStyleModel",
            "description_width": "",
            "_view_module": "@jupyter-widgets/base",
            "_model_module_version": "1.5.0",
            "_view_count": null,
            "_view_module_version": "1.2.0",
            "_model_module": "@jupyter-widgets/controls"
          }
        },
        "2ebeb76232e44bbda924c3e2b7752095": {
          "model_module": "@jupyter-widgets/base",
          "model_name": "LayoutModel",
          "model_module_version": "1.2.0",
          "state": {
            "_view_name": "LayoutView",
            "grid_template_rows": null,
            "right": null,
            "justify_content": null,
            "_view_module": "@jupyter-widgets/base",
            "overflow": null,
            "_model_module_version": "1.2.0",
            "_view_count": null,
            "flex_flow": null,
            "width": null,
            "min_width": null,
            "border": null,
            "align_items": null,
            "bottom": null,
            "_model_module": "@jupyter-widgets/base",
            "top": null,
            "grid_column": null,
            "overflow_y": null,
            "overflow_x": null,
            "grid_auto_flow": null,
            "grid_area": null,
            "grid_template_columns": null,
            "flex": null,
            "_model_name": "LayoutModel",
            "justify_items": null,
            "grid_row": null,
            "max_height": null,
            "align_content": null,
            "visibility": null,
            "align_self": null,
            "height": null,
            "min_height": null,
            "padding": null,
            "grid_auto_rows": null,
            "grid_gap": null,
            "max_width": null,
            "order": null,
            "_view_module_version": "1.2.0",
            "grid_template_areas": null,
            "object_position": null,
            "object_fit": null,
            "grid_auto_columns": null,
            "margin": null,
            "display": null,
            "left": null
          }
        },
        "67d0c5c53a114de5ba8ed35c28e414bf": {
          "model_module": "@jupyter-widgets/controls",
          "model_name": "HBoxModel",
          "model_module_version": "1.5.0",
          "state": {
            "_view_name": "HBoxView",
            "_dom_classes": [],
            "_model_name": "HBoxModel",
            "_view_module": "@jupyter-widgets/controls",
            "_model_module_version": "1.5.0",
            "_view_count": null,
            "_view_module_version": "1.5.0",
            "box_style": "",
            "layout": "IPY_MODEL_b623ab0c3de340e784e298a39ddd72bc",
            "_model_module": "@jupyter-widgets/controls",
            "children": [
              "IPY_MODEL_87651f5b4b35448aba1442f69662230b",
              "IPY_MODEL_afcfb09f816e49edbed1c87a1e9ef8c9",
              "IPY_MODEL_0bd34eb24a2244efa2fddda319fda362"
            ]
          }
        },
        "b623ab0c3de340e784e298a39ddd72bc": {
          "model_module": "@jupyter-widgets/base",
          "model_name": "LayoutModel",
          "model_module_version": "1.2.0",
          "state": {
            "_view_name": "LayoutView",
            "grid_template_rows": null,
            "right": null,
            "justify_content": null,
            "_view_module": "@jupyter-widgets/base",
            "overflow": null,
            "_model_module_version": "1.2.0",
            "_view_count": null,
            "flex_flow": null,
            "width": null,
            "min_width": null,
            "border": null,
            "align_items": null,
            "bottom": null,
            "_model_module": "@jupyter-widgets/base",
            "top": null,
            "grid_column": null,
            "overflow_y": null,
            "overflow_x": null,
            "grid_auto_flow": null,
            "grid_area": null,
            "grid_template_columns": null,
            "flex": null,
            "_model_name": "LayoutModel",
            "justify_items": null,
            "grid_row": null,
            "max_height": null,
            "align_content": null,
            "visibility": null,
            "align_self": null,
            "height": null,
            "min_height": null,
            "padding": null,
            "grid_auto_rows": null,
            "grid_gap": null,
            "max_width": null,
            "order": null,
            "_view_module_version": "1.2.0",
            "grid_template_areas": null,
            "object_position": null,
            "object_fit": null,
            "grid_auto_columns": null,
            "margin": null,
            "display": null,
            "left": null
          }
        },
        "87651f5b4b35448aba1442f69662230b": {
          "model_module": "@jupyter-widgets/controls",
          "model_name": "HTMLModel",
          "model_module_version": "1.5.0",
          "state": {
            "_view_name": "HTMLView",
            "style": "IPY_MODEL_1196efe06951422bb17807cc64f8781f",
            "_dom_classes": [],
            "description": "",
            "_model_name": "HTMLModel",
            "placeholder": "​",
            "_view_module": "@jupyter-widgets/controls",
            "_model_module_version": "1.5.0",
            "value": "MD5 checksumming: 100%",
            "_view_count": null,
            "_view_module_version": "1.5.0",
            "description_tooltip": null,
            "_model_module": "@jupyter-widgets/controls",
            "layout": "IPY_MODEL_729295051afc4c8daf27f0b27625d404"
          }
        },
        "afcfb09f816e49edbed1c87a1e9ef8c9": {
          "model_module": "@jupyter-widgets/controls",
          "model_name": "FloatProgressModel",
          "model_module_version": "1.5.0",
          "state": {
            "_view_name": "ProgressView",
            "style": "IPY_MODEL_7906107909ed4f15b11562dc4cf8bbb3",
            "_dom_classes": [],
            "description": "",
            "_model_name": "FloatProgressModel",
            "bar_style": "",
            "max": 972388663,
            "_view_module": "@jupyter-widgets/controls",
            "_model_module_version": "1.5.0",
            "value": 972388663,
            "_view_count": null,
            "_view_module_version": "1.5.0",
            "orientation": "horizontal",
            "min": 0,
            "description_tooltip": null,
            "_model_module": "@jupyter-widgets/controls",
            "layout": "IPY_MODEL_dfce0d9904b84d5b8e5aaee2419dbea1"
          }
        },
        "0bd34eb24a2244efa2fddda319fda362": {
          "model_module": "@jupyter-widgets/controls",
          "model_name": "HTMLModel",
          "model_module_version": "1.5.0",
          "state": {
            "_view_name": "HTMLView",
            "style": "IPY_MODEL_fdef82a85faf46e7854e21a8655426b6",
            "_dom_classes": [],
            "description": "",
            "_model_name": "HTMLModel",
            "placeholder": "​",
            "_view_module": "@jupyter-widgets/controls",
            "_model_module_version": "1.5.0",
            "value": " 969M/972M [00:02&lt;00:00, 390MB/s]",
            "_view_count": null,
            "_view_module_version": "1.5.0",
            "description_tooltip": null,
            "_model_module": "@jupyter-widgets/controls",
            "layout": "IPY_MODEL_a76114d33b1849a2a52638dd0e3ad459"
          }
        },
        "1196efe06951422bb17807cc64f8781f": {
          "model_module": "@jupyter-widgets/controls",
          "model_name": "DescriptionStyleModel",
          "model_module_version": "1.5.0",
          "state": {
            "_view_name": "StyleView",
            "_model_name": "DescriptionStyleModel",
            "description_width": "",
            "_view_module": "@jupyter-widgets/base",
            "_model_module_version": "1.5.0",
            "_view_count": null,
            "_view_module_version": "1.2.0",
            "_model_module": "@jupyter-widgets/controls"
          }
        },
        "729295051afc4c8daf27f0b27625d404": {
          "model_module": "@jupyter-widgets/base",
          "model_name": "LayoutModel",
          "model_module_version": "1.2.0",
          "state": {
            "_view_name": "LayoutView",
            "grid_template_rows": null,
            "right": null,
            "justify_content": null,
            "_view_module": "@jupyter-widgets/base",
            "overflow": null,
            "_model_module_version": "1.2.0",
            "_view_count": null,
            "flex_flow": null,
            "width": null,
            "min_width": null,
            "border": null,
            "align_items": null,
            "bottom": null,
            "_model_module": "@jupyter-widgets/base",
            "top": null,
            "grid_column": null,
            "overflow_y": null,
            "overflow_x": null,
            "grid_auto_flow": null,
            "grid_area": null,
            "grid_template_columns": null,
            "flex": null,
            "_model_name": "LayoutModel",
            "justify_items": null,
            "grid_row": null,
            "max_height": null,
            "align_content": null,
            "visibility": null,
            "align_self": null,
            "height": null,
            "min_height": null,
            "padding": null,
            "grid_auto_rows": null,
            "grid_gap": null,
            "max_width": null,
            "order": null,
            "_view_module_version": "1.2.0",
            "grid_template_areas": null,
            "object_position": null,
            "object_fit": null,
            "grid_auto_columns": null,
            "margin": null,
            "display": null,
            "left": null
          }
        },
        "7906107909ed4f15b11562dc4cf8bbb3": {
          "model_module": "@jupyter-widgets/controls",
          "model_name": "ProgressStyleModel",
          "model_module_version": "1.5.0",
          "state": {
            "_view_name": "StyleView",
            "_model_name": "ProgressStyleModel",
            "description_width": "",
            "_view_module": "@jupyter-widgets/base",
            "_model_module_version": "1.5.0",
            "_view_count": null,
            "_view_module_version": "1.2.0",
            "bar_color": null,
            "_model_module": "@jupyter-widgets/controls"
          }
        },
        "dfce0d9904b84d5b8e5aaee2419dbea1": {
          "model_module": "@jupyter-widgets/base",
          "model_name": "LayoutModel",
          "model_module_version": "1.2.0",
          "state": {
            "_view_name": "LayoutView",
            "grid_template_rows": null,
            "right": null,
            "justify_content": null,
            "_view_module": "@jupyter-widgets/base",
            "overflow": null,
            "_model_module_version": "1.2.0",
            "_view_count": null,
            "flex_flow": null,
            "width": null,
            "min_width": null,
            "border": null,
            "align_items": null,
            "bottom": null,
            "_model_module": "@jupyter-widgets/base",
            "top": null,
            "grid_column": null,
            "overflow_y": null,
            "overflow_x": null,
            "grid_auto_flow": null,
            "grid_area": null,
            "grid_template_columns": null,
            "flex": null,
            "_model_name": "LayoutModel",
            "justify_items": null,
            "grid_row": null,
            "max_height": null,
            "align_content": null,
            "visibility": null,
            "align_self": null,
            "height": null,
            "min_height": null,
            "padding": null,
            "grid_auto_rows": null,
            "grid_gap": null,
            "max_width": null,
            "order": null,
            "_view_module_version": "1.2.0",
            "grid_template_areas": null,
            "object_position": null,
            "object_fit": null,
            "grid_auto_columns": null,
            "margin": null,
            "display": null,
            "left": null
          }
        },
        "fdef82a85faf46e7854e21a8655426b6": {
          "model_module": "@jupyter-widgets/controls",
          "model_name": "DescriptionStyleModel",
          "model_module_version": "1.5.0",
          "state": {
            "_view_name": "StyleView",
            "_model_name": "DescriptionStyleModel",
            "description_width": "",
            "_view_module": "@jupyter-widgets/base",
            "_model_module_version": "1.5.0",
            "_view_count": null,
            "_view_module_version": "1.2.0",
            "_model_module": "@jupyter-widgets/controls"
          }
        },
        "a76114d33b1849a2a52638dd0e3ad459": {
          "model_module": "@jupyter-widgets/base",
          "model_name": "LayoutModel",
          "model_module_version": "1.2.0",
          "state": {
            "_view_name": "LayoutView",
            "grid_template_rows": null,
            "right": null,
            "justify_content": null,
            "_view_module": "@jupyter-widgets/base",
            "overflow": null,
            "_model_module_version": "1.2.0",
            "_view_count": null,
            "flex_flow": null,
            "width": null,
            "min_width": null,
            "border": null,
            "align_items": null,
            "bottom": null,
            "_model_module": "@jupyter-widgets/base",
            "top": null,
            "grid_column": null,
            "overflow_y": null,
            "overflow_x": null,
            "grid_auto_flow": null,
            "grid_area": null,
            "grid_template_columns": null,
            "flex": null,
            "_model_name": "LayoutModel",
            "justify_items": null,
            "grid_row": null,
            "max_height": null,
            "align_content": null,
            "visibility": null,
            "align_self": null,
            "height": null,
            "min_height": null,
            "padding": null,
            "grid_auto_rows": null,
            "grid_gap": null,
            "max_width": null,
            "order": null,
            "_view_module_version": "1.2.0",
            "grid_template_areas": null,
            "object_position": null,
            "object_fit": null,
            "grid_auto_columns": null,
            "margin": null,
            "display": null,
            "left": null
          }
        }
      }
    }
  },
  "cells": [
    {
      "cell_type": "markdown",
      "metadata": {
        "id": "8nJvg-udKBAQ"
      },
      "source": [
        "# Search and Download Sentinel 2 imagery using Sentinelsat API"
      ]
    },
    {
      "cell_type": "markdown",
      "metadata": {
        "id": "5X12I_-iKBAW"
      },
      "source": [
        "### Import libraries"
      ]
    },
    {
      "cell_type": "code",
      "metadata": {
        "colab": {
          "base_uri": "https://localhost:8080/"
        },
        "id": "5uUydFRgKMT0",
        "outputId": "d8dc13d1-048c-4e2a-9065-f6e86df45294"
      },
      "source": [
        "!pip install geopandas\n",
        "!pip install sentinelsat"
      ],
      "execution_count": null,
      "outputs": [
        {
          "output_type": "stream",
          "name": "stdout",
          "text": [
            "Collecting geopandas\n",
            "  Downloading geopandas-0.9.0-py2.py3-none-any.whl (994 kB)\n",
            "\u001b[?25l\r\u001b[K     |▎                               | 10 kB 24.5 MB/s eta 0:00:01\r\u001b[K     |▋                               | 20 kB 28.9 MB/s eta 0:00:01\r\u001b[K     |█                               | 30 kB 17.8 MB/s eta 0:00:01\r\u001b[K     |█▎                              | 40 kB 12.5 MB/s eta 0:00:01\r\u001b[K     |█▋                              | 51 kB 5.6 MB/s eta 0:00:01\r\u001b[K     |██                              | 61 kB 5.9 MB/s eta 0:00:01\r\u001b[K     |██▎                             | 71 kB 5.3 MB/s eta 0:00:01\r\u001b[K     |██▋                             | 81 kB 6.0 MB/s eta 0:00:01\r\u001b[K     |███                             | 92 kB 6.0 MB/s eta 0:00:01\r\u001b[K     |███▎                            | 102 kB 5.2 MB/s eta 0:00:01\r\u001b[K     |███▋                            | 112 kB 5.2 MB/s eta 0:00:01\r\u001b[K     |████                            | 122 kB 5.2 MB/s eta 0:00:01\r\u001b[K     |████▎                           | 133 kB 5.2 MB/s eta 0:00:01\r\u001b[K     |████▋                           | 143 kB 5.2 MB/s eta 0:00:01\r\u001b[K     |█████                           | 153 kB 5.2 MB/s eta 0:00:01\r\u001b[K     |█████▎                          | 163 kB 5.2 MB/s eta 0:00:01\r\u001b[K     |█████▋                          | 174 kB 5.2 MB/s eta 0:00:01\r\u001b[K     |██████                          | 184 kB 5.2 MB/s eta 0:00:01\r\u001b[K     |██████▎                         | 194 kB 5.2 MB/s eta 0:00:01\r\u001b[K     |██████▋                         | 204 kB 5.2 MB/s eta 0:00:01\r\u001b[K     |███████                         | 215 kB 5.2 MB/s eta 0:00:01\r\u001b[K     |███████▎                        | 225 kB 5.2 MB/s eta 0:00:01\r\u001b[K     |███████▋                        | 235 kB 5.2 MB/s eta 0:00:01\r\u001b[K     |████████                        | 245 kB 5.2 MB/s eta 0:00:01\r\u001b[K     |████████▎                       | 256 kB 5.2 MB/s eta 0:00:01\r\u001b[K     |████████▋                       | 266 kB 5.2 MB/s eta 0:00:01\r\u001b[K     |█████████                       | 276 kB 5.2 MB/s eta 0:00:01\r\u001b[K     |█████████▎                      | 286 kB 5.2 MB/s eta 0:00:01\r\u001b[K     |█████████▌                      | 296 kB 5.2 MB/s eta 0:00:01\r\u001b[K     |█████████▉                      | 307 kB 5.2 MB/s eta 0:00:01\r\u001b[K     |██████████▏                     | 317 kB 5.2 MB/s eta 0:00:01\r\u001b[K     |██████████▌                     | 327 kB 5.2 MB/s eta 0:00:01\r\u001b[K     |██████████▉                     | 337 kB 5.2 MB/s eta 0:00:01\r\u001b[K     |███████████▏                    | 348 kB 5.2 MB/s eta 0:00:01\r\u001b[K     |███████████▌                    | 358 kB 5.2 MB/s eta 0:00:01\r\u001b[K     |███████████▉                    | 368 kB 5.2 MB/s eta 0:00:01\r\u001b[K     |████████████▏                   | 378 kB 5.2 MB/s eta 0:00:01\r\u001b[K     |████████████▌                   | 389 kB 5.2 MB/s eta 0:00:01\r\u001b[K     |████████████▉                   | 399 kB 5.2 MB/s eta 0:00:01\r\u001b[K     |█████████████▏                  | 409 kB 5.2 MB/s eta 0:00:01\r\u001b[K     |█████████████▌                  | 419 kB 5.2 MB/s eta 0:00:01\r\u001b[K     |█████████████▉                  | 430 kB 5.2 MB/s eta 0:00:01\r\u001b[K     |██████████████▏                 | 440 kB 5.2 MB/s eta 0:00:01\r\u001b[K     |██████████████▌                 | 450 kB 5.2 MB/s eta 0:00:01\r\u001b[K     |██████████████▉                 | 460 kB 5.2 MB/s eta 0:00:01\r\u001b[K     |███████████████▏                | 471 kB 5.2 MB/s eta 0:00:01\r\u001b[K     |███████████████▌                | 481 kB 5.2 MB/s eta 0:00:01\r\u001b[K     |███████████████▉                | 491 kB 5.2 MB/s eta 0:00:01\r\u001b[K     |████████████████▏               | 501 kB 5.2 MB/s eta 0:00:01\r\u001b[K     |████████████████▌               | 512 kB 5.2 MB/s eta 0:00:01\r\u001b[K     |████████████████▉               | 522 kB 5.2 MB/s eta 0:00:01\r\u001b[K     |█████████████████▏              | 532 kB 5.2 MB/s eta 0:00:01\r\u001b[K     |█████████████████▌              | 542 kB 5.2 MB/s eta 0:00:01\r\u001b[K     |█████████████████▉              | 552 kB 5.2 MB/s eta 0:00:01\r\u001b[K     |██████████████████▏             | 563 kB 5.2 MB/s eta 0:00:01\r\u001b[K     |██████████████████▌             | 573 kB 5.2 MB/s eta 0:00:01\r\u001b[K     |██████████████████▊             | 583 kB 5.2 MB/s eta 0:00:01\r\u001b[K     |███████████████████             | 593 kB 5.2 MB/s eta 0:00:01\r\u001b[K     |███████████████████▍            | 604 kB 5.2 MB/s eta 0:00:01\r\u001b[K     |███████████████████▊            | 614 kB 5.2 MB/s eta 0:00:01\r\u001b[K     |████████████████████            | 624 kB 5.2 MB/s eta 0:00:01\r\u001b[K     |████████████████████▍           | 634 kB 5.2 MB/s eta 0:00:01\r\u001b[K     |████████████████████▊           | 645 kB 5.2 MB/s eta 0:00:01\r\u001b[K     |█████████████████████           | 655 kB 5.2 MB/s eta 0:00:01\r\u001b[K     |█████████████████████▍          | 665 kB 5.2 MB/s eta 0:00:01\r\u001b[K     |█████████████████████▊          | 675 kB 5.2 MB/s eta 0:00:01\r\u001b[K     |██████████████████████          | 686 kB 5.2 MB/s eta 0:00:01\r\u001b[K     |██████████████████████▍         | 696 kB 5.2 MB/s eta 0:00:01\r\u001b[K     |██████████████████████▊         | 706 kB 5.2 MB/s eta 0:00:01\r\u001b[K     |███████████████████████         | 716 kB 5.2 MB/s eta 0:00:01\r\u001b[K     |███████████████████████▍        | 727 kB 5.2 MB/s eta 0:00:01\r\u001b[K     |███████████████████████▊        | 737 kB 5.2 MB/s eta 0:00:01\r\u001b[K     |████████████████████████        | 747 kB 5.2 MB/s eta 0:00:01\r\u001b[K     |████████████████████████▍       | 757 kB 5.2 MB/s eta 0:00:01\r\u001b[K     |████████████████████████▊       | 768 kB 5.2 MB/s eta 0:00:01\r\u001b[K     |█████████████████████████       | 778 kB 5.2 MB/s eta 0:00:01\r\u001b[K     |█████████████████████████▍      | 788 kB 5.2 MB/s eta 0:00:01\r\u001b[K     |█████████████████████████▊      | 798 kB 5.2 MB/s eta 0:00:01\r\u001b[K     |██████████████████████████      | 808 kB 5.2 MB/s eta 0:00:01\r\u001b[K     |██████████████████████████▍     | 819 kB 5.2 MB/s eta 0:00:01\r\u001b[K     |██████████████████████████▊     | 829 kB 5.2 MB/s eta 0:00:01\r\u001b[K     |███████████████████████████     | 839 kB 5.2 MB/s eta 0:00:01\r\u001b[K     |███████████████████████████▍    | 849 kB 5.2 MB/s eta 0:00:01\r\u001b[K     |███████████████████████████▊    | 860 kB 5.2 MB/s eta 0:00:01\r\u001b[K     |████████████████████████████    | 870 kB 5.2 MB/s eta 0:00:01\r\u001b[K     |████████████████████████████▎   | 880 kB 5.2 MB/s eta 0:00:01\r\u001b[K     |████████████████████████████▋   | 890 kB 5.2 MB/s eta 0:00:01\r\u001b[K     |█████████████████████████████   | 901 kB 5.2 MB/s eta 0:00:01\r\u001b[K     |█████████████████████████████▎  | 911 kB 5.2 MB/s eta 0:00:01\r\u001b[K     |█████████████████████████████▋  | 921 kB 5.2 MB/s eta 0:00:01\r\u001b[K     |██████████████████████████████  | 931 kB 5.2 MB/s eta 0:00:01\r\u001b[K     |██████████████████████████████▎ | 942 kB 5.2 MB/s eta 0:00:01\r\u001b[K     |██████████████████████████████▋ | 952 kB 5.2 MB/s eta 0:00:01\r\u001b[K     |███████████████████████████████ | 962 kB 5.2 MB/s eta 0:00:01\r\u001b[K     |███████████████████████████████▎| 972 kB 5.2 MB/s eta 0:00:01\r\u001b[K     |███████████████████████████████▋| 983 kB 5.2 MB/s eta 0:00:01\r\u001b[K     |████████████████████████████████| 993 kB 5.2 MB/s eta 0:00:01\r\u001b[K     |████████████████████████████████| 994 kB 5.2 MB/s \n",
            "\u001b[?25hRequirement already satisfied: pandas>=0.24.0 in /usr/local/lib/python3.7/dist-packages (from geopandas) (1.1.5)\n",
            "Collecting fiona>=1.8\n",
            "  Downloading Fiona-1.8.20-cp37-cp37m-manylinux1_x86_64.whl (15.4 MB)\n",
            "\u001b[K     |████████████████████████████████| 15.4 MB 38 kB/s \n",
            "\u001b[?25hCollecting pyproj>=2.2.0\n",
            "  Downloading pyproj-3.2.1-cp37-cp37m-manylinux2010_x86_64.whl (6.3 MB)\n",
            "\u001b[K     |████████████████████████████████| 6.3 MB 51.2 MB/s \n",
            "\u001b[?25hRequirement already satisfied: shapely>=1.6 in /usr/local/lib/python3.7/dist-packages (from geopandas) (1.7.1)\n",
            "Requirement already satisfied: setuptools in /usr/local/lib/python3.7/dist-packages (from fiona>=1.8->geopandas) (57.4.0)\n",
            "Collecting munch\n",
            "  Downloading munch-2.5.0-py2.py3-none-any.whl (10 kB)\n",
            "Requirement already satisfied: attrs>=17 in /usr/local/lib/python3.7/dist-packages (from fiona>=1.8->geopandas) (21.2.0)\n",
            "Requirement already satisfied: certifi in /usr/local/lib/python3.7/dist-packages (from fiona>=1.8->geopandas) (2021.5.30)\n",
            "Requirement already satisfied: six>=1.7 in /usr/local/lib/python3.7/dist-packages (from fiona>=1.8->geopandas) (1.15.0)\n",
            "Collecting cligj>=0.5\n",
            "  Downloading cligj-0.7.2-py3-none-any.whl (7.1 kB)\n",
            "Requirement already satisfied: click>=4.0 in /usr/local/lib/python3.7/dist-packages (from fiona>=1.8->geopandas) (7.1.2)\n",
            "Collecting click-plugins>=1.0\n",
            "  Downloading click_plugins-1.1.1-py2.py3-none-any.whl (7.5 kB)\n",
            "Requirement already satisfied: numpy>=1.15.4 in /usr/local/lib/python3.7/dist-packages (from pandas>=0.24.0->geopandas) (1.19.5)\n",
            "Requirement already satisfied: pytz>=2017.2 in /usr/local/lib/python3.7/dist-packages (from pandas>=0.24.0->geopandas) (2018.9)\n",
            "Requirement already satisfied: python-dateutil>=2.7.3 in /usr/local/lib/python3.7/dist-packages (from pandas>=0.24.0->geopandas) (2.8.2)\n",
            "Installing collected packages: munch, cligj, click-plugins, pyproj, fiona, geopandas\n",
            "Successfully installed click-plugins-1.1.1 cligj-0.7.2 fiona-1.8.20 geopandas-0.9.0 munch-2.5.0 pyproj-3.2.1\n",
            "Collecting sentinelsat\n",
            "  Downloading sentinelsat-1.1.0-py3-none-any.whl (48 kB)\n",
            "\u001b[K     |████████████████████████████████| 48 kB 2.6 MB/s \n",
            "\u001b[?25hCollecting geojson>=2\n",
            "  Downloading geojson-2.5.0-py2.py3-none-any.whl (14 kB)\n",
            "Collecting geomet\n",
            "  Downloading geomet-0.3.0-py3-none-any.whl (28 kB)\n",
            "Requirement already satisfied: requests in /usr/local/lib/python3.7/dist-packages (from sentinelsat) (2.23.0)\n",
            "Collecting html2text\n",
            "  Downloading html2text-2020.1.16-py3-none-any.whl (32 kB)\n",
            "Requirement already satisfied: click in /usr/local/lib/python3.7/dist-packages (from sentinelsat) (7.1.2)\n",
            "Requirement already satisfied: tqdm>=4.27 in /usr/local/lib/python3.7/dist-packages (from sentinelsat) (4.62.2)\n",
            "Requirement already satisfied: six in /usr/local/lib/python3.7/dist-packages (from geomet->sentinelsat) (1.15.0)\n",
            "Requirement already satisfied: urllib3!=1.25.0,!=1.25.1,<1.26,>=1.21.1 in /usr/local/lib/python3.7/dist-packages (from requests->sentinelsat) (1.24.3)\n",
            "Requirement already satisfied: chardet<4,>=3.0.2 in /usr/local/lib/python3.7/dist-packages (from requests->sentinelsat) (3.0.4)\n",
            "Requirement already satisfied: certifi>=2017.4.17 in /usr/local/lib/python3.7/dist-packages (from requests->sentinelsat) (2021.5.30)\n",
            "Requirement already satisfied: idna<3,>=2.5 in /usr/local/lib/python3.7/dist-packages (from requests->sentinelsat) (2.10)\n",
            "Installing collected packages: html2text, geomet, geojson, sentinelsat\n",
            "Successfully installed geojson-2.5.0 geomet-0.3.0 html2text-2020.1.16 sentinelsat-1.1.0\n"
          ]
        }
      ]
    },
    {
      "cell_type": "code",
      "metadata": {
        "id": "ys4dfl5gKBAX"
      },
      "source": [
        "import numpy as np\n",
        "import geopandas as gpd\n",
        "import folium\n",
        "from sentinelsat.sentinel import SentinelAPI, read_geojson, geojson_to_wkt\n",
        "import matplotlib.pyplot as plt"
      ],
      "execution_count": null,
      "outputs": []
    },
    {
      "cell_type": "markdown",
      "metadata": {
        "id": "DYgMxrL2KBAY"
      },
      "source": [
        "### Plot a boundary in WGS 84 EPSG code 4326 on a folium slipping map"
      ]
    },
    {
      "cell_type": "code",
      "metadata": {
        "id": "3ATZtYp8KBAZ",
        "colab": {
          "base_uri": "https://localhost:8080/",
          "height": 583
        },
        "outputId": "1c510314-7524-4e9f-e9a7-7416870d016c"
      },
      "source": [
        "m = folium.Map([-13.2512161, 34.3015278], zoom_start=10)\n",
        "boundsdata = '/content/map (5).geojson'\n",
        "folium.GeoJson(boundsdata).add_to(m)\n",
        "m"
      ],
      "execution_count": null,
      "outputs": [
        {
          "output_type": "execute_result",
          "data": {
            "text/html": [
              "<div style=\"width:100%;\"><div style=\"position:relative;width:100%;height:0;padding-bottom:60%;\"><span style=\"color:#565656\">Make this Notebook Trusted to load map: File -> Trust Notebook</span><iframe src=\"about:blank\" style=\"position:absolute;width:100%;height:100%;left:0;top:0;border:none !important;\" data-html=%3C%21DOCTYPE%20html%3E%0A%3Chead%3E%20%20%20%20%0A%20%20%20%20%3Cmeta%20http-equiv%3D%22content-type%22%20content%3D%22text/html%3B%20charset%3DUTF-8%22%20/%3E%0A%20%20%20%20%3Cscript%3EL_PREFER_CANVAS%3Dfalse%3B%20L_NO_TOUCH%3Dfalse%3B%20L_DISABLE_3D%3Dfalse%3B%3C/script%3E%0A%20%20%20%20%3Cscript%20src%3D%22https%3A//cdn.jsdelivr.net/npm/leaflet%401.4.0/dist/leaflet.js%22%3E%3C/script%3E%0A%20%20%20%20%3Cscript%20src%3D%22https%3A//code.jquery.com/jquery-1.12.4.min.js%22%3E%3C/script%3E%0A%20%20%20%20%3Cscript%20src%3D%22https%3A//maxcdn.bootstrapcdn.com/bootstrap/3.2.0/js/bootstrap.min.js%22%3E%3C/script%3E%0A%20%20%20%20%3Cscript%20src%3D%22https%3A//cdnjs.cloudflare.com/ajax/libs/Leaflet.awesome-markers/2.0.2/leaflet.awesome-markers.js%22%3E%3C/script%3E%0A%20%20%20%20%3Clink%20rel%3D%22stylesheet%22%20href%3D%22https%3A//cdn.jsdelivr.net/npm/leaflet%401.4.0/dist/leaflet.css%22/%3E%0A%20%20%20%20%3Clink%20rel%3D%22stylesheet%22%20href%3D%22https%3A//maxcdn.bootstrapcdn.com/bootstrap/3.2.0/css/bootstrap.min.css%22/%3E%0A%20%20%20%20%3Clink%20rel%3D%22stylesheet%22%20href%3D%22https%3A//maxcdn.bootstrapcdn.com/bootstrap/3.2.0/css/bootstrap-theme.min.css%22/%3E%0A%20%20%20%20%3Clink%20rel%3D%22stylesheet%22%20href%3D%22https%3A//maxcdn.bootstrapcdn.com/font-awesome/4.6.3/css/font-awesome.min.css%22/%3E%0A%20%20%20%20%3Clink%20rel%3D%22stylesheet%22%20href%3D%22https%3A//cdnjs.cloudflare.com/ajax/libs/Leaflet.awesome-markers/2.0.2/leaflet.awesome-markers.css%22/%3E%0A%20%20%20%20%3Clink%20rel%3D%22stylesheet%22%20href%3D%22https%3A//rawcdn.githack.com/python-visualization/folium/master/folium/templates/leaflet.awesome.rotate.css%22/%3E%0A%20%20%20%20%3Cstyle%3Ehtml%2C%20body%20%7Bwidth%3A%20100%25%3Bheight%3A%20100%25%3Bmargin%3A%200%3Bpadding%3A%200%3B%7D%3C/style%3E%0A%20%20%20%20%3Cstyle%3E%23map%20%7Bposition%3Aabsolute%3Btop%3A0%3Bbottom%3A0%3Bright%3A0%3Bleft%3A0%3B%7D%3C/style%3E%0A%20%20%20%20%0A%20%20%20%20%3Cmeta%20name%3D%22viewport%22%20content%3D%22width%3Ddevice-width%2C%0A%20%20%20%20%20%20%20%20initial-scale%3D1.0%2C%20maximum-scale%3D1.0%2C%20user-scalable%3Dno%22%20/%3E%0A%20%20%20%20%3Cstyle%3E%23map_99b40711c70545309672620ae6e6da16%20%7B%0A%20%20%20%20%20%20%20%20position%3A%20relative%3B%0A%20%20%20%20%20%20%20%20width%3A%20100.0%25%3B%0A%20%20%20%20%20%20%20%20height%3A%20100.0%25%3B%0A%20%20%20%20%20%20%20%20left%3A%200.0%25%3B%0A%20%20%20%20%20%20%20%20top%3A%200.0%25%3B%0A%20%20%20%20%20%20%20%20%7D%0A%20%20%20%20%3C/style%3E%0A%3C/head%3E%0A%3Cbody%3E%20%20%20%20%0A%20%20%20%20%0A%20%20%20%20%3Cdiv%20class%3D%22folium-map%22%20id%3D%22map_99b40711c70545309672620ae6e6da16%22%20%3E%3C/div%3E%0A%3C/body%3E%0A%3Cscript%3E%20%20%20%20%0A%20%20%20%20%0A%20%20%20%20%0A%20%20%20%20%20%20%20%20var%20bounds%20%3D%20null%3B%0A%20%20%20%20%0A%0A%20%20%20%20var%20map_99b40711c70545309672620ae6e6da16%20%3D%20L.map%28%0A%20%20%20%20%20%20%20%20%27map_99b40711c70545309672620ae6e6da16%27%2C%20%7B%0A%20%20%20%20%20%20%20%20center%3A%20%5B-13.2512161%2C%2034.3015278%5D%2C%0A%20%20%20%20%20%20%20%20zoom%3A%2010%2C%0A%20%20%20%20%20%20%20%20maxBounds%3A%20bounds%2C%0A%20%20%20%20%20%20%20%20layers%3A%20%5B%5D%2C%0A%20%20%20%20%20%20%20%20worldCopyJump%3A%20false%2C%0A%20%20%20%20%20%20%20%20crs%3A%20L.CRS.EPSG3857%2C%0A%20%20%20%20%20%20%20%20zoomControl%3A%20true%2C%0A%20%20%20%20%20%20%20%20%7D%29%3B%0A%0A%0A%20%20%20%20%0A%20%20%20%20var%20tile_layer_173e2ea18eb14578a8f303e7f7e06331%20%3D%20L.tileLayer%28%0A%20%20%20%20%20%20%20%20%27https%3A//%7Bs%7D.tile.openstreetmap.org/%7Bz%7D/%7Bx%7D/%7By%7D.png%27%2C%0A%20%20%20%20%20%20%20%20%7B%0A%20%20%20%20%20%20%20%20%22attribution%22%3A%20null%2C%0A%20%20%20%20%20%20%20%20%22detectRetina%22%3A%20false%2C%0A%20%20%20%20%20%20%20%20%22maxNativeZoom%22%3A%2018%2C%0A%20%20%20%20%20%20%20%20%22maxZoom%22%3A%2018%2C%0A%20%20%20%20%20%20%20%20%22minZoom%22%3A%200%2C%0A%20%20%20%20%20%20%20%20%22noWrap%22%3A%20false%2C%0A%20%20%20%20%20%20%20%20%22opacity%22%3A%201%2C%0A%20%20%20%20%20%20%20%20%22subdomains%22%3A%20%22abc%22%2C%0A%20%20%20%20%20%20%20%20%22tms%22%3A%20false%0A%7D%29.addTo%28map_99b40711c70545309672620ae6e6da16%29%3B%0A%20%20%20%20%0A%20%20%20%20%20%20%20%20var%20geo_json_bd720a0d26ba45109f6a5605e3ef72bc%20%3D%20L.geoJson%28%0A%20%20%20%20%20%20%20%20%20%20%20%20%7B%22features%22%3A%20%5B%7B%22geometry%22%3A%20%7B%22coordinates%22%3A%20%5B%5B%5B32.2998046875%2C%20-17.308687886770024%5D%2C%20%5B36.3427734375%2C%20-17.308687886770024%5D%2C%20%5B36.3427734375%2C%20-8.928487062665504%5D%2C%20%5B32.2998046875%2C%20-8.928487062665504%5D%2C%20%5B32.2998046875%2C%20-17.308687886770024%5D%5D%5D%2C%20%22type%22%3A%20%22Polygon%22%7D%2C%20%22properties%22%3A%20%7B%22highlight%22%3A%20%7B%7D%2C%20%22style%22%3A%20%7B%7D%7D%2C%20%22type%22%3A%20%22Feature%22%7D%5D%2C%20%22type%22%3A%20%22FeatureCollection%22%7D%2C%0A%20%20%20%20%20%20%20%20%20%20%20%20%7B%0A%20%20%20%20%20%20%20%20%20%20%20%20%7D%0A%20%20%20%20%20%20%20%20%29.addTo%28map_99b40711c70545309672620ae6e6da16%20%29%3B%0A%20%20%20%20%20%20%20%20geo_json_bd720a0d26ba45109f6a5605e3ef72bc.setStyle%28function%28feature%29%20%7Breturn%20feature.properties.style%3B%7D%29%3B%0A%20%20%20%20%20%20%20%20%0A%3C/script%3E onload=\"this.contentDocument.open();this.contentDocument.write(    decodeURIComponent(this.getAttribute('data-html')));this.contentDocument.close();\" allowfullscreen webkitallowfullscreen mozallowfullscreen></iframe></div></div>"
            ],
            "text/plain": [
              "<folium.folium.Map at 0x7fe2dacb87d0>"
            ]
          },
          "metadata": {},
          "execution_count": 3
        }
      ]
    },
    {
      "cell_type": "markdown",
      "metadata": {
        "id": "ZaPpH_ppKBAa"
      },
      "source": [
        "### Connect to the API using a username and password - if you don't have these set one up on scihub"
      ]
    },
    {
      "cell_type": "code",
      "metadata": {
        "id": "3TCpFuuoKBAb"
      },
      "source": [
        "# connect to the API\n",
        "user = 'muhammadnassermoul' ## change this!\n",
        "password = 'Casedepart1994' ## change this!\n",
        "\n",
        "api = SentinelAPI(user, password, 'https://scihub.copernicus.eu/dhus')"
      ],
      "execution_count": null,
      "outputs": []
    },
    {
      "cell_type": "code",
      "metadata": {
        "id": "BqjTjCDKKBAc",
        "colab": {
          "base_uri": "https://localhost:8080/"
        },
        "outputId": "22439144-606d-4373-c62a-ff08f5da1e99"
      },
      "source": [
        "# search by polygon\n",
        "footprint = geojson_to_wkt(read_geojson(boundsdata))\n",
        "\n",
        "print (footprint)"
      ],
      "execution_count": null,
      "outputs": [
        {
          "output_type": "stream",
          "name": "stdout",
          "text": [
            "GEOMETRYCOLLECTION(POLYGON((32.2998 -17.3087,36.3428 -17.3087,36.3428 -8.9285,32.2998 -8.9285,32.2998 -17.3087)))\n"
          ]
        }
      ]
    },
    {
      "cell_type": "markdown",
      "metadata": {
        "id": "LZ4yFXGMKBAd"
      },
      "source": [
        "### Search\n",
        "Search for images that fall with the date range 21st Nov 2019 - 3rd Nov 2019, we want sentinel 2 level2A and cloud cover of 0-20%"
      ]
    },
    {
      "cell_type": "code",
      "metadata": {
        "id": "lSpFFYtyKBAd"
      },
      "source": [
        "products = api.query(footprint,\n",
        "                     date = ('20191101', '20191103'),\n",
        "                     platformname = 'Sentinel-2',\n",
        "                     processinglevel = 'Level-2A',\n",
        "                     cloudcoverpercentage = (0, 20))"
      ],
      "execution_count": null,
      "outputs": []
    },
    {
      "cell_type": "code",
      "metadata": {
        "scrolled": true,
        "id": "MCQHY6UpKBAe",
        "colab": {
          "base_uri": "https://localhost:8080/"
        },
        "outputId": "60b09421-f029-4674-f8c0-600c86dd28a8"
      },
      "source": [
        "print(len(products))"
      ],
      "execution_count": null,
      "outputs": [
        {
          "output_type": "stream",
          "name": "stdout",
          "text": [
            "7\n"
          ]
        }
      ]
    },
    {
      "cell_type": "markdown",
      "metadata": {
        "id": "b0qOaIUVKBAf"
      },
      "source": [
        "Show results in a table"
      ]
    },
    {
      "cell_type": "code",
      "metadata": {
        "scrolled": true,
        "id": "A28RXQ6iKBAf",
        "colab": {
          "base_uri": "https://localhost:8080/",
          "height": 653
        },
        "outputId": "e39a6778-ada0-4e47-ede0-70c9d75ccdb9"
      },
      "source": [
        "api.to_geodataframe(products)"
      ],
      "execution_count": null,
      "outputs": [
        {
          "output_type": "execute_result",
          "data": {
            "text/html": [
              "<div>\n",
              "<style scoped>\n",
              "    .dataframe tbody tr th:only-of-type {\n",
              "        vertical-align: middle;\n",
              "    }\n",
              "\n",
              "    .dataframe tbody tr th {\n",
              "        vertical-align: top;\n",
              "    }\n",
              "\n",
              "    .dataframe thead th {\n",
              "        text-align: right;\n",
              "    }\n",
              "</style>\n",
              "<table border=\"1\" class=\"dataframe\">\n",
              "  <thead>\n",
              "    <tr style=\"text-align: right;\">\n",
              "      <th></th>\n",
              "      <th>title</th>\n",
              "      <th>link</th>\n",
              "      <th>link_alternative</th>\n",
              "      <th>link_icon</th>\n",
              "      <th>summary</th>\n",
              "      <th>ondemand</th>\n",
              "      <th>beginposition</th>\n",
              "      <th>endposition</th>\n",
              "      <th>ingestiondate</th>\n",
              "      <th>orbitnumber</th>\n",
              "      <th>relativeorbitnumber</th>\n",
              "      <th>cloudcoverpercentage</th>\n",
              "      <th>highprobacloudspercentage</th>\n",
              "      <th>mediumprobacloudspercentage</th>\n",
              "      <th>snowicepercentage</th>\n",
              "      <th>vegetationpercentage</th>\n",
              "      <th>waterpercentage</th>\n",
              "      <th>notvegetatedpercentage</th>\n",
              "      <th>unclassifiedpercentage</th>\n",
              "      <th>format</th>\n",
              "      <th>instrumentshortname</th>\n",
              "      <th>instrumentname</th>\n",
              "      <th>s2datatakeid</th>\n",
              "      <th>platformidentifier</th>\n",
              "      <th>orbitdirection</th>\n",
              "      <th>platformserialidentifier</th>\n",
              "      <th>processingbaseline</th>\n",
              "      <th>processinglevel</th>\n",
              "      <th>producttype</th>\n",
              "      <th>platformname</th>\n",
              "      <th>size</th>\n",
              "      <th>filename</th>\n",
              "      <th>level1cpdiidentifier</th>\n",
              "      <th>identifier</th>\n",
              "      <th>uuid</th>\n",
              "      <th>geometry</th>\n",
              "    </tr>\n",
              "  </thead>\n",
              "  <tbody>\n",
              "    <tr>\n",
              "      <th>2f349d34-2f3e-44fa-9301-b03521b18e49</th>\n",
              "      <td>S2A_MSIL2A_20191102T073051_N0213_R049_T37LBD_2...</td>\n",
              "      <td>https://scihub.copernicus.eu/dhus/odata/v1/Pro...</td>\n",
              "      <td>https://scihub.copernicus.eu/dhus/odata/v1/Pro...</td>\n",
              "      <td>https://scihub.copernicus.eu/dhus/odata/v1/Pro...</td>\n",
              "      <td>Date: 2019-11-02T07:30:51.024Z, Instrument: MS...</td>\n",
              "      <td>false</td>\n",
              "      <td>2019-11-02 07:30:51.024</td>\n",
              "      <td>2019-11-02 07:30:51.024</td>\n",
              "      <td>2019-11-02 13:41:05.870</td>\n",
              "      <td>22783</td>\n",
              "      <td>49</td>\n",
              "      <td>1.762791</td>\n",
              "      <td>1.318383</td>\n",
              "      <td>0.443947</td>\n",
              "      <td>0.0</td>\n",
              "      <td>12.509152</td>\n",
              "      <td>0.001019</td>\n",
              "      <td>84.752095</td>\n",
              "      <td>0.595064</td>\n",
              "      <td>SAFE</td>\n",
              "      <td>MSI</td>\n",
              "      <td>Multi-Spectral Instrument</td>\n",
              "      <td>GS2A_20191102T073051_022783_N02.13</td>\n",
              "      <td>2015-028A</td>\n",
              "      <td>DESCENDING</td>\n",
              "      <td>Sentinel-2A</td>\n",
              "      <td>02.13</td>\n",
              "      <td>Level-2A</td>\n",
              "      <td>S2MSI2A</td>\n",
              "      <td>Sentinel-2</td>\n",
              "      <td>1.09 GB</td>\n",
              "      <td>S2A_MSIL2A_20191102T073051_N0213_R049_T37LBD_2...</td>\n",
              "      <td>S2A_OPER_MSI_L1C_TL_SGS__20191102T092933_A0227...</td>\n",
              "      <td>S2A_MSIL2A_20191102T073051_N0213_R049_T37LBD_2...</td>\n",
              "      <td>2f349d34-2f3e-44fa-9301-b03521b18e49</td>\n",
              "      <td>MULTIPOLYGON (((37.22705 -15.45792, 37.23519 -...</td>\n",
              "    </tr>\n",
              "    <tr>\n",
              "      <th>35dcc450-7953-4663-b572-fb48676f8e6c</th>\n",
              "      <td>S2A_MSIL2A_20191102T073051_N0213_R049_T37LBE_2...</td>\n",
              "      <td>https://scihub.copernicus.eu/dhus/odata/v1/Pro...</td>\n",
              "      <td>https://scihub.copernicus.eu/dhus/odata/v1/Pro...</td>\n",
              "      <td>https://scihub.copernicus.eu/dhus/odata/v1/Pro...</td>\n",
              "      <td>Date: 2019-11-02T07:30:51.024Z, Instrument: MS...</td>\n",
              "      <td>false</td>\n",
              "      <td>2019-11-02 07:30:51.024</td>\n",
              "      <td>2019-11-02 07:30:51.024</td>\n",
              "      <td>2019-11-02 13:41:05.385</td>\n",
              "      <td>22783</td>\n",
              "      <td>49</td>\n",
              "      <td>0.552337</td>\n",
              "      <td>0.301323</td>\n",
              "      <td>0.250474</td>\n",
              "      <td>0.0</td>\n",
              "      <td>39.714083</td>\n",
              "      <td>0.000607</td>\n",
              "      <td>58.291382</td>\n",
              "      <td>0.722516</td>\n",
              "      <td>SAFE</td>\n",
              "      <td>MSI</td>\n",
              "      <td>Multi-Spectral Instrument</td>\n",
              "      <td>GS2A_20191102T073051_022783_N02.13</td>\n",
              "      <td>2015-028A</td>\n",
              "      <td>DESCENDING</td>\n",
              "      <td>Sentinel-2A</td>\n",
              "      <td>02.13</td>\n",
              "      <td>Level-2A</td>\n",
              "      <td>S2MSI2A</td>\n",
              "      <td>Sentinel-2</td>\n",
              "      <td>1.10 GB</td>\n",
              "      <td>S2A_MSIL2A_20191102T073051_N0213_R049_T37LBE_2...</td>\n",
              "      <td>S2A_OPER_MSI_L1C_TL_SGS__20191102T092933_A0227...</td>\n",
              "      <td>S2A_MSIL2A_20191102T073051_N0213_R049_T37LBE_2...</td>\n",
              "      <td>35dcc450-7953-4663-b572-fb48676f8e6c</td>\n",
              "      <td>MULTIPOLYGON (((37.23448 -14.55460, 37.24208 -...</td>\n",
              "    </tr>\n",
              "    <tr>\n",
              "      <th>7d26572f-2ec9-4d9f-a591-e308f104c6c1</th>\n",
              "      <td>S2A_MSIL2A_20191102T073051_N0213_R049_T36LZJ_2...</td>\n",
              "      <td>https://scihub.copernicus.eu/dhus/odata/v1/Pro...</td>\n",
              "      <td>https://scihub.copernicus.eu/dhus/odata/v1/Pro...</td>\n",
              "      <td>https://scihub.copernicus.eu/dhus/odata/v1/Pro...</td>\n",
              "      <td>Date: 2019-11-02T07:30:51.024Z, Instrument: MS...</td>\n",
              "      <td>false</td>\n",
              "      <td>2019-11-02 07:30:51.024</td>\n",
              "      <td>2019-11-02 07:30:51.024</td>\n",
              "      <td>2019-11-02 13:37:16.711</td>\n",
              "      <td>22783</td>\n",
              "      <td>49</td>\n",
              "      <td>0.096947</td>\n",
              "      <td>0.048560</td>\n",
              "      <td>0.047767</td>\n",
              "      <td>0.0</td>\n",
              "      <td>12.787436</td>\n",
              "      <td>1.854354</td>\n",
              "      <td>84.204769</td>\n",
              "      <td>0.422341</td>\n",
              "      <td>SAFE</td>\n",
              "      <td>MSI</td>\n",
              "      <td>Multi-Spectral Instrument</td>\n",
              "      <td>GS2A_20191102T073051_022783_N02.13</td>\n",
              "      <td>2015-028A</td>\n",
              "      <td>DESCENDING</td>\n",
              "      <td>Sentinel-2A</td>\n",
              "      <td>02.13</td>\n",
              "      <td>Level-2A</td>\n",
              "      <td>S2MSI2A</td>\n",
              "      <td>Sentinel-2</td>\n",
              "      <td>1.08 GB</td>\n",
              "      <td>S2A_MSIL2A_20191102T073051_N0213_R049_T36LZJ_2...</td>\n",
              "      <td>S2A_OPER_MSI_L1C_TL_SGS__20191102T092933_A0227...</td>\n",
              "      <td>S2A_MSIL2A_20191102T073051_N0213_R049_T36LZJ_2...</td>\n",
              "      <td>7d26572f-2ec9-4d9f-a591-e308f104c6c1</td>\n",
              "      <td>MULTIPOLYGON (((35.79526 -15.44739, 36.81698 -...</td>\n",
              "    </tr>\n",
              "    <tr>\n",
              "      <th>24488501-29cc-44d2-bf1c-99d4fde96d52</th>\n",
              "      <td>S2A_MSIL2A_20191102T073051_N0213_R049_T36LZK_2...</td>\n",
              "      <td>https://scihub.copernicus.eu/dhus/odata/v1/Pro...</td>\n",
              "      <td>https://scihub.copernicus.eu/dhus/odata/v1/Pro...</td>\n",
              "      <td>https://scihub.copernicus.eu/dhus/odata/v1/Pro...</td>\n",
              "      <td>Date: 2019-11-02T07:30:51.024Z, Instrument: MS...</td>\n",
              "      <td>false</td>\n",
              "      <td>2019-11-02 07:30:51.024</td>\n",
              "      <td>2019-11-02 07:30:51.024</td>\n",
              "      <td>2019-11-02 13:37:09.918</td>\n",
              "      <td>22783</td>\n",
              "      <td>49</td>\n",
              "      <td>0.654308</td>\n",
              "      <td>0.351396</td>\n",
              "      <td>0.302391</td>\n",
              "      <td>0.0</td>\n",
              "      <td>38.693711</td>\n",
              "      <td>0.305510</td>\n",
              "      <td>58.398849</td>\n",
              "      <td>0.987608</td>\n",
              "      <td>SAFE</td>\n",
              "      <td>MSI</td>\n",
              "      <td>Multi-Spectral Instrument</td>\n",
              "      <td>GS2A_20191102T073051_022783_N02.13</td>\n",
              "      <td>2015-028A</td>\n",
              "      <td>DESCENDING</td>\n",
              "      <td>Sentinel-2A</td>\n",
              "      <td>02.13</td>\n",
              "      <td>Level-2A</td>\n",
              "      <td>S2MSI2A</td>\n",
              "      <td>Sentinel-2</td>\n",
              "      <td>1.07 GB</td>\n",
              "      <td>S2A_MSIL2A_20191102T073051_N0213_R049_T36LZK_2...</td>\n",
              "      <td>S2A_OPER_MSI_L1C_TL_SGS__20191102T092933_A0227...</td>\n",
              "      <td>S2A_MSIL2A_20191102T073051_N0213_R049_T36LZK_2...</td>\n",
              "      <td>24488501-29cc-44d2-bf1c-99d4fde96d52</td>\n",
              "      <td>MULTIPOLYGON (((35.78355 -14.54470, 36.80101 -...</td>\n",
              "    </tr>\n",
              "    <tr>\n",
              "      <th>977a65fe-c104-4c43-aaa4-fba967bc7258</th>\n",
              "      <td>S2A_MSIL2A_20191102T073051_N0213_R049_T36LYH_2...</td>\n",
              "      <td>https://scihub.copernicus.eu/dhus/odata/v1/Pro...</td>\n",
              "      <td>https://scihub.copernicus.eu/dhus/odata/v1/Pro...</td>\n",
              "      <td>https://scihub.copernicus.eu/dhus/odata/v1/Pro...</td>\n",
              "      <td>Date: 2019-11-02T07:30:51.024Z, Instrument: MS...</td>\n",
              "      <td>false</td>\n",
              "      <td>2019-11-02 07:30:51.024</td>\n",
              "      <td>2019-11-02 07:30:51.024</td>\n",
              "      <td>2019-11-02 13:37:09.110</td>\n",
              "      <td>22783</td>\n",
              "      <td>49</td>\n",
              "      <td>18.627002</td>\n",
              "      <td>11.385141</td>\n",
              "      <td>7.241101</td>\n",
              "      <td>0.0</td>\n",
              "      <td>4.685021</td>\n",
              "      <td>3.635176</td>\n",
              "      <td>60.114330</td>\n",
              "      <td>12.157250</td>\n",
              "      <td>SAFE</td>\n",
              "      <td>MSI</td>\n",
              "      <td>Multi-Spectral Instrument</td>\n",
              "      <td>GS2A_20191102T073051_022783_N02.13</td>\n",
              "      <td>2015-028A</td>\n",
              "      <td>DESCENDING</td>\n",
              "      <td>Sentinel-2A</td>\n",
              "      <td>02.13</td>\n",
              "      <td>Level-2A</td>\n",
              "      <td>S2MSI2A</td>\n",
              "      <td>Sentinel-2</td>\n",
              "      <td>962.72 MB</td>\n",
              "      <td>S2A_MSIL2A_20191102T073051_N0213_R049_T36LYH_2...</td>\n",
              "      <td>S2A_OPER_MSI_L1C_TL_SGS__20191102T092933_A0227...</td>\n",
              "      <td>S2A_MSIL2A_20191102T073051_N0213_R049_T36LYH_2...</td>\n",
              "      <td>977a65fe-c104-4c43-aaa4-fba967bc7258</td>\n",
              "      <td>MULTIPOLYGON (((34.94839 -16.36006, 35.89922 -...</td>\n",
              "    </tr>\n",
              "    <tr>\n",
              "      <th>e81daff2-6708-4118-ba39-015e7dd47bb3</th>\n",
              "      <td>S2A_MSIL2A_20191102T073051_N0213_R049_T36LYJ_2...</td>\n",
              "      <td>https://scihub.copernicus.eu/dhus/odata/v1/Pro...</td>\n",
              "      <td>https://scihub.copernicus.eu/dhus/odata/v1/Pro...</td>\n",
              "      <td>https://scihub.copernicus.eu/dhus/odata/v1/Pro...</td>\n",
              "      <td>Date: 2019-11-02T07:30:51.024Z, Instrument: MS...</td>\n",
              "      <td>false</td>\n",
              "      <td>2019-11-02 07:30:51.024</td>\n",
              "      <td>2019-11-02 07:30:51.024</td>\n",
              "      <td>2019-11-02 13:36:47.091</td>\n",
              "      <td>22783</td>\n",
              "      <td>49</td>\n",
              "      <td>2.724848</td>\n",
              "      <td>1.643897</td>\n",
              "      <td>1.080831</td>\n",
              "      <td>0.0</td>\n",
              "      <td>9.945710</td>\n",
              "      <td>14.380437</td>\n",
              "      <td>70.146525</td>\n",
              "      <td>2.230488</td>\n",
              "      <td>SAFE</td>\n",
              "      <td>MSI</td>\n",
              "      <td>Multi-Spectral Instrument</td>\n",
              "      <td>GS2A_20191102T073051_022783_N02.13</td>\n",
              "      <td>2015-028A</td>\n",
              "      <td>DESCENDING</td>\n",
              "      <td>Sentinel-2A</td>\n",
              "      <td>02.13</td>\n",
              "      <td>Level-2A</td>\n",
              "      <td>S2MSI2A</td>\n",
              "      <td>Sentinel-2</td>\n",
              "      <td>680.68 MB</td>\n",
              "      <td>S2A_MSIL2A_20191102T073051_N0213_R049_T36LYJ_2...</td>\n",
              "      <td>S2A_OPER_MSI_L1C_TL_SGS__20191102T092933_A0227...</td>\n",
              "      <td>S2A_MSIL2A_20191102T073051_N0213_R049_T36LYJ_2...</td>\n",
              "      <td>e81daff2-6708-4118-ba39-015e7dd47bb3</td>\n",
              "      <td>MULTIPOLYGON (((35.16785 -15.45392, 35.88631 -...</td>\n",
              "    </tr>\n",
              "    <tr>\n",
              "      <th>9667f52c-707f-4b7a-88ec-3b2798cfcc05</th>\n",
              "      <td>S2A_MSIL2A_20191102T073051_N0213_R049_T36LYK_2...</td>\n",
              "      <td>https://scihub.copernicus.eu/dhus/odata/v1/Pro...</td>\n",
              "      <td>https://scihub.copernicus.eu/dhus/odata/v1/Pro...</td>\n",
              "      <td>https://scihub.copernicus.eu/dhus/odata/v1/Pro...</td>\n",
              "      <td>Date: 2019-11-02T07:30:51.024Z, Instrument: MS...</td>\n",
              "      <td>false</td>\n",
              "      <td>2019-11-02 07:30:51.024</td>\n",
              "      <td>2019-11-02 07:30:51.024</td>\n",
              "      <td>2019-11-02 13:36:36.806</td>\n",
              "      <td>22783</td>\n",
              "      <td>49</td>\n",
              "      <td>0.104683</td>\n",
              "      <td>0.019542</td>\n",
              "      <td>0.085141</td>\n",
              "      <td>0.0</td>\n",
              "      <td>27.076769</td>\n",
              "      <td>0.000110</td>\n",
              "      <td>72.387439</td>\n",
              "      <td>0.220897</td>\n",
              "      <td>SAFE</td>\n",
              "      <td>MSI</td>\n",
              "      <td>Multi-Spectral Instrument</td>\n",
              "      <td>GS2A_20191102T073051_022783_N02.13</td>\n",
              "      <td>2015-028A</td>\n",
              "      <td>DESCENDING</td>\n",
              "      <td>Sentinel-2A</td>\n",
              "      <td>02.13</td>\n",
              "      <td>Level-2A</td>\n",
              "      <td>S2MSI2A</td>\n",
              "      <td>Sentinel-2</td>\n",
              "      <td>442.10 MB</td>\n",
              "      <td>S2A_MSIL2A_20191102T073051_N0213_R049_T36LYK_2...</td>\n",
              "      <td>S2A_OPER_MSI_L1C_TL_SGS__20191102T092933_A0227...</td>\n",
              "      <td>S2A_MSIL2A_20191102T073051_N0213_R049_T36LYK_2...</td>\n",
              "      <td>9667f52c-707f-4b7a-88ec-3b2798cfcc05</td>\n",
              "      <td>MULTIPOLYGON (((35.38282 -14.54857, 35.87422 -...</td>\n",
              "    </tr>\n",
              "  </tbody>\n",
              "</table>\n",
              "</div>"
            ],
            "text/plain": [
              "                                                                                  title  ...                                           geometry\n",
              "2f349d34-2f3e-44fa-9301-b03521b18e49  S2A_MSIL2A_20191102T073051_N0213_R049_T37LBD_2...  ...  MULTIPOLYGON (((37.22705 -15.45792, 37.23519 -...\n",
              "35dcc450-7953-4663-b572-fb48676f8e6c  S2A_MSIL2A_20191102T073051_N0213_R049_T37LBE_2...  ...  MULTIPOLYGON (((37.23448 -14.55460, 37.24208 -...\n",
              "7d26572f-2ec9-4d9f-a591-e308f104c6c1  S2A_MSIL2A_20191102T073051_N0213_R049_T36LZJ_2...  ...  MULTIPOLYGON (((35.79526 -15.44739, 36.81698 -...\n",
              "24488501-29cc-44d2-bf1c-99d4fde96d52  S2A_MSIL2A_20191102T073051_N0213_R049_T36LZK_2...  ...  MULTIPOLYGON (((35.78355 -14.54470, 36.80101 -...\n",
              "977a65fe-c104-4c43-aaa4-fba967bc7258  S2A_MSIL2A_20191102T073051_N0213_R049_T36LYH_2...  ...  MULTIPOLYGON (((34.94839 -16.36006, 35.89922 -...\n",
              "e81daff2-6708-4118-ba39-015e7dd47bb3  S2A_MSIL2A_20191102T073051_N0213_R049_T36LYJ_2...  ...  MULTIPOLYGON (((35.16785 -15.45392, 35.88631 -...\n",
              "9667f52c-707f-4b7a-88ec-3b2798cfcc05  S2A_MSIL2A_20191102T073051_N0213_R049_T36LYK_2...  ...  MULTIPOLYGON (((35.38282 -14.54857, 35.87422 -...\n",
              "\n",
              "[7 rows x 36 columns]"
            ]
          },
          "metadata": {},
          "execution_count": 17
        }
      ]
    },
    {
      "cell_type": "markdown",
      "metadata": {
        "id": "bZL1eFRjjo9x"
      },
      "source": [
        " **We get a dictionary of all products available in this period with the query specification. In this case, we receive only 6 images taken but you can tweak the query for your use case example expanding the time period or increasing the cloud coverage percentage.\n",
        "From here we can create a GeodataFrame or Dataframe from the product dictionary and sort them according to cloud coverage percentage. I prefer GeodataFrame instead of plain dataframe as the first holds the geometry of each satellite image tile. Once we create the GeodataFrame and sort it. As we do not have many products here we call directly products_gdf_sorted table to see the attributes off all 6 rows.**"
      ]
    },
    {
      "cell_type": "code",
      "metadata": {
        "colab": {
          "base_uri": "https://localhost:8080/",
          "height": 653
        },
        "id": "5wn1PWidjXZk",
        "outputId": "1622d51a-9b1c-46f6-ac72-41e67d90859d"
      },
      "source": [
        "products_gdf = api.to_geodataframe(products)\n",
        "products_gdf_sorted = products_gdf.sort_values(['cloudcoverpercentage'], ascending=[True])\n",
        "products_gdf_sorted"
      ],
      "execution_count": null,
      "outputs": [
        {
          "output_type": "execute_result",
          "data": {
            "text/html": [
              "<div>\n",
              "<style scoped>\n",
              "    .dataframe tbody tr th:only-of-type {\n",
              "        vertical-align: middle;\n",
              "    }\n",
              "\n",
              "    .dataframe tbody tr th {\n",
              "        vertical-align: top;\n",
              "    }\n",
              "\n",
              "    .dataframe thead th {\n",
              "        text-align: right;\n",
              "    }\n",
              "</style>\n",
              "<table border=\"1\" class=\"dataframe\">\n",
              "  <thead>\n",
              "    <tr style=\"text-align: right;\">\n",
              "      <th></th>\n",
              "      <th>title</th>\n",
              "      <th>link</th>\n",
              "      <th>link_alternative</th>\n",
              "      <th>link_icon</th>\n",
              "      <th>summary</th>\n",
              "      <th>ondemand</th>\n",
              "      <th>beginposition</th>\n",
              "      <th>endposition</th>\n",
              "      <th>ingestiondate</th>\n",
              "      <th>orbitnumber</th>\n",
              "      <th>relativeorbitnumber</th>\n",
              "      <th>cloudcoverpercentage</th>\n",
              "      <th>highprobacloudspercentage</th>\n",
              "      <th>mediumprobacloudspercentage</th>\n",
              "      <th>snowicepercentage</th>\n",
              "      <th>vegetationpercentage</th>\n",
              "      <th>waterpercentage</th>\n",
              "      <th>notvegetatedpercentage</th>\n",
              "      <th>unclassifiedpercentage</th>\n",
              "      <th>format</th>\n",
              "      <th>instrumentshortname</th>\n",
              "      <th>instrumentname</th>\n",
              "      <th>s2datatakeid</th>\n",
              "      <th>platformidentifier</th>\n",
              "      <th>orbitdirection</th>\n",
              "      <th>platformserialidentifier</th>\n",
              "      <th>processingbaseline</th>\n",
              "      <th>processinglevel</th>\n",
              "      <th>producttype</th>\n",
              "      <th>platformname</th>\n",
              "      <th>size</th>\n",
              "      <th>filename</th>\n",
              "      <th>level1cpdiidentifier</th>\n",
              "      <th>identifier</th>\n",
              "      <th>uuid</th>\n",
              "      <th>geometry</th>\n",
              "    </tr>\n",
              "  </thead>\n",
              "  <tbody>\n",
              "    <tr>\n",
              "      <th>7d26572f-2ec9-4d9f-a591-e308f104c6c1</th>\n",
              "      <td>S2A_MSIL2A_20191102T073051_N0213_R049_T36LZJ_2...</td>\n",
              "      <td>https://scihub.copernicus.eu/dhus/odata/v1/Pro...</td>\n",
              "      <td>https://scihub.copernicus.eu/dhus/odata/v1/Pro...</td>\n",
              "      <td>https://scihub.copernicus.eu/dhus/odata/v1/Pro...</td>\n",
              "      <td>Date: 2019-11-02T07:30:51.024Z, Instrument: MS...</td>\n",
              "      <td>false</td>\n",
              "      <td>2019-11-02 07:30:51.024</td>\n",
              "      <td>2019-11-02 07:30:51.024</td>\n",
              "      <td>2019-11-02 13:37:16.711</td>\n",
              "      <td>22783</td>\n",
              "      <td>49</td>\n",
              "      <td>0.096947</td>\n",
              "      <td>0.048560</td>\n",
              "      <td>0.047767</td>\n",
              "      <td>0.0</td>\n",
              "      <td>12.787436</td>\n",
              "      <td>1.854354</td>\n",
              "      <td>84.204769</td>\n",
              "      <td>0.422341</td>\n",
              "      <td>SAFE</td>\n",
              "      <td>MSI</td>\n",
              "      <td>Multi-Spectral Instrument</td>\n",
              "      <td>GS2A_20191102T073051_022783_N02.13</td>\n",
              "      <td>2015-028A</td>\n",
              "      <td>DESCENDING</td>\n",
              "      <td>Sentinel-2A</td>\n",
              "      <td>02.13</td>\n",
              "      <td>Level-2A</td>\n",
              "      <td>S2MSI2A</td>\n",
              "      <td>Sentinel-2</td>\n",
              "      <td>1.08 GB</td>\n",
              "      <td>S2A_MSIL2A_20191102T073051_N0213_R049_T36LZJ_2...</td>\n",
              "      <td>S2A_OPER_MSI_L1C_TL_SGS__20191102T092933_A0227...</td>\n",
              "      <td>S2A_MSIL2A_20191102T073051_N0213_R049_T36LZJ_2...</td>\n",
              "      <td>7d26572f-2ec9-4d9f-a591-e308f104c6c1</td>\n",
              "      <td>MULTIPOLYGON (((35.79526 -15.44739, 36.81698 -...</td>\n",
              "    </tr>\n",
              "    <tr>\n",
              "      <th>9667f52c-707f-4b7a-88ec-3b2798cfcc05</th>\n",
              "      <td>S2A_MSIL2A_20191102T073051_N0213_R049_T36LYK_2...</td>\n",
              "      <td>https://scihub.copernicus.eu/dhus/odata/v1/Pro...</td>\n",
              "      <td>https://scihub.copernicus.eu/dhus/odata/v1/Pro...</td>\n",
              "      <td>https://scihub.copernicus.eu/dhus/odata/v1/Pro...</td>\n",
              "      <td>Date: 2019-11-02T07:30:51.024Z, Instrument: MS...</td>\n",
              "      <td>false</td>\n",
              "      <td>2019-11-02 07:30:51.024</td>\n",
              "      <td>2019-11-02 07:30:51.024</td>\n",
              "      <td>2019-11-02 13:36:36.806</td>\n",
              "      <td>22783</td>\n",
              "      <td>49</td>\n",
              "      <td>0.104683</td>\n",
              "      <td>0.019542</td>\n",
              "      <td>0.085141</td>\n",
              "      <td>0.0</td>\n",
              "      <td>27.076769</td>\n",
              "      <td>0.000110</td>\n",
              "      <td>72.387439</td>\n",
              "      <td>0.220897</td>\n",
              "      <td>SAFE</td>\n",
              "      <td>MSI</td>\n",
              "      <td>Multi-Spectral Instrument</td>\n",
              "      <td>GS2A_20191102T073051_022783_N02.13</td>\n",
              "      <td>2015-028A</td>\n",
              "      <td>DESCENDING</td>\n",
              "      <td>Sentinel-2A</td>\n",
              "      <td>02.13</td>\n",
              "      <td>Level-2A</td>\n",
              "      <td>S2MSI2A</td>\n",
              "      <td>Sentinel-2</td>\n",
              "      <td>442.10 MB</td>\n",
              "      <td>S2A_MSIL2A_20191102T073051_N0213_R049_T36LYK_2...</td>\n",
              "      <td>S2A_OPER_MSI_L1C_TL_SGS__20191102T092933_A0227...</td>\n",
              "      <td>S2A_MSIL2A_20191102T073051_N0213_R049_T36LYK_2...</td>\n",
              "      <td>9667f52c-707f-4b7a-88ec-3b2798cfcc05</td>\n",
              "      <td>MULTIPOLYGON (((35.38282 -14.54857, 35.87422 -...</td>\n",
              "    </tr>\n",
              "    <tr>\n",
              "      <th>35dcc450-7953-4663-b572-fb48676f8e6c</th>\n",
              "      <td>S2A_MSIL2A_20191102T073051_N0213_R049_T37LBE_2...</td>\n",
              "      <td>https://scihub.copernicus.eu/dhus/odata/v1/Pro...</td>\n",
              "      <td>https://scihub.copernicus.eu/dhus/odata/v1/Pro...</td>\n",
              "      <td>https://scihub.copernicus.eu/dhus/odata/v1/Pro...</td>\n",
              "      <td>Date: 2019-11-02T07:30:51.024Z, Instrument: MS...</td>\n",
              "      <td>false</td>\n",
              "      <td>2019-11-02 07:30:51.024</td>\n",
              "      <td>2019-11-02 07:30:51.024</td>\n",
              "      <td>2019-11-02 13:41:05.385</td>\n",
              "      <td>22783</td>\n",
              "      <td>49</td>\n",
              "      <td>0.552337</td>\n",
              "      <td>0.301323</td>\n",
              "      <td>0.250474</td>\n",
              "      <td>0.0</td>\n",
              "      <td>39.714083</td>\n",
              "      <td>0.000607</td>\n",
              "      <td>58.291382</td>\n",
              "      <td>0.722516</td>\n",
              "      <td>SAFE</td>\n",
              "      <td>MSI</td>\n",
              "      <td>Multi-Spectral Instrument</td>\n",
              "      <td>GS2A_20191102T073051_022783_N02.13</td>\n",
              "      <td>2015-028A</td>\n",
              "      <td>DESCENDING</td>\n",
              "      <td>Sentinel-2A</td>\n",
              "      <td>02.13</td>\n",
              "      <td>Level-2A</td>\n",
              "      <td>S2MSI2A</td>\n",
              "      <td>Sentinel-2</td>\n",
              "      <td>1.10 GB</td>\n",
              "      <td>S2A_MSIL2A_20191102T073051_N0213_R049_T37LBE_2...</td>\n",
              "      <td>S2A_OPER_MSI_L1C_TL_SGS__20191102T092933_A0227...</td>\n",
              "      <td>S2A_MSIL2A_20191102T073051_N0213_R049_T37LBE_2...</td>\n",
              "      <td>35dcc450-7953-4663-b572-fb48676f8e6c</td>\n",
              "      <td>MULTIPOLYGON (((37.23448 -14.55460, 37.24208 -...</td>\n",
              "    </tr>\n",
              "    <tr>\n",
              "      <th>24488501-29cc-44d2-bf1c-99d4fde96d52</th>\n",
              "      <td>S2A_MSIL2A_20191102T073051_N0213_R049_T36LZK_2...</td>\n",
              "      <td>https://scihub.copernicus.eu/dhus/odata/v1/Pro...</td>\n",
              "      <td>https://scihub.copernicus.eu/dhus/odata/v1/Pro...</td>\n",
              "      <td>https://scihub.copernicus.eu/dhus/odata/v1/Pro...</td>\n",
              "      <td>Date: 2019-11-02T07:30:51.024Z, Instrument: MS...</td>\n",
              "      <td>false</td>\n",
              "      <td>2019-11-02 07:30:51.024</td>\n",
              "      <td>2019-11-02 07:30:51.024</td>\n",
              "      <td>2019-11-02 13:37:09.918</td>\n",
              "      <td>22783</td>\n",
              "      <td>49</td>\n",
              "      <td>0.654308</td>\n",
              "      <td>0.351396</td>\n",
              "      <td>0.302391</td>\n",
              "      <td>0.0</td>\n",
              "      <td>38.693711</td>\n",
              "      <td>0.305510</td>\n",
              "      <td>58.398849</td>\n",
              "      <td>0.987608</td>\n",
              "      <td>SAFE</td>\n",
              "      <td>MSI</td>\n",
              "      <td>Multi-Spectral Instrument</td>\n",
              "      <td>GS2A_20191102T073051_022783_N02.13</td>\n",
              "      <td>2015-028A</td>\n",
              "      <td>DESCENDING</td>\n",
              "      <td>Sentinel-2A</td>\n",
              "      <td>02.13</td>\n",
              "      <td>Level-2A</td>\n",
              "      <td>S2MSI2A</td>\n",
              "      <td>Sentinel-2</td>\n",
              "      <td>1.07 GB</td>\n",
              "      <td>S2A_MSIL2A_20191102T073051_N0213_R049_T36LZK_2...</td>\n",
              "      <td>S2A_OPER_MSI_L1C_TL_SGS__20191102T092933_A0227...</td>\n",
              "      <td>S2A_MSIL2A_20191102T073051_N0213_R049_T36LZK_2...</td>\n",
              "      <td>24488501-29cc-44d2-bf1c-99d4fde96d52</td>\n",
              "      <td>MULTIPOLYGON (((35.78355 -14.54470, 36.80101 -...</td>\n",
              "    </tr>\n",
              "    <tr>\n",
              "      <th>2f349d34-2f3e-44fa-9301-b03521b18e49</th>\n",
              "      <td>S2A_MSIL2A_20191102T073051_N0213_R049_T37LBD_2...</td>\n",
              "      <td>https://scihub.copernicus.eu/dhus/odata/v1/Pro...</td>\n",
              "      <td>https://scihub.copernicus.eu/dhus/odata/v1/Pro...</td>\n",
              "      <td>https://scihub.copernicus.eu/dhus/odata/v1/Pro...</td>\n",
              "      <td>Date: 2019-11-02T07:30:51.024Z, Instrument: MS...</td>\n",
              "      <td>false</td>\n",
              "      <td>2019-11-02 07:30:51.024</td>\n",
              "      <td>2019-11-02 07:30:51.024</td>\n",
              "      <td>2019-11-02 13:41:05.870</td>\n",
              "      <td>22783</td>\n",
              "      <td>49</td>\n",
              "      <td>1.762791</td>\n",
              "      <td>1.318383</td>\n",
              "      <td>0.443947</td>\n",
              "      <td>0.0</td>\n",
              "      <td>12.509152</td>\n",
              "      <td>0.001019</td>\n",
              "      <td>84.752095</td>\n",
              "      <td>0.595064</td>\n",
              "      <td>SAFE</td>\n",
              "      <td>MSI</td>\n",
              "      <td>Multi-Spectral Instrument</td>\n",
              "      <td>GS2A_20191102T073051_022783_N02.13</td>\n",
              "      <td>2015-028A</td>\n",
              "      <td>DESCENDING</td>\n",
              "      <td>Sentinel-2A</td>\n",
              "      <td>02.13</td>\n",
              "      <td>Level-2A</td>\n",
              "      <td>S2MSI2A</td>\n",
              "      <td>Sentinel-2</td>\n",
              "      <td>1.09 GB</td>\n",
              "      <td>S2A_MSIL2A_20191102T073051_N0213_R049_T37LBD_2...</td>\n",
              "      <td>S2A_OPER_MSI_L1C_TL_SGS__20191102T092933_A0227...</td>\n",
              "      <td>S2A_MSIL2A_20191102T073051_N0213_R049_T37LBD_2...</td>\n",
              "      <td>2f349d34-2f3e-44fa-9301-b03521b18e49</td>\n",
              "      <td>MULTIPOLYGON (((37.22705 -15.45792, 37.23519 -...</td>\n",
              "    </tr>\n",
              "    <tr>\n",
              "      <th>e81daff2-6708-4118-ba39-015e7dd47bb3</th>\n",
              "      <td>S2A_MSIL2A_20191102T073051_N0213_R049_T36LYJ_2...</td>\n",
              "      <td>https://scihub.copernicus.eu/dhus/odata/v1/Pro...</td>\n",
              "      <td>https://scihub.copernicus.eu/dhus/odata/v1/Pro...</td>\n",
              "      <td>https://scihub.copernicus.eu/dhus/odata/v1/Pro...</td>\n",
              "      <td>Date: 2019-11-02T07:30:51.024Z, Instrument: MS...</td>\n",
              "      <td>false</td>\n",
              "      <td>2019-11-02 07:30:51.024</td>\n",
              "      <td>2019-11-02 07:30:51.024</td>\n",
              "      <td>2019-11-02 13:36:47.091</td>\n",
              "      <td>22783</td>\n",
              "      <td>49</td>\n",
              "      <td>2.724848</td>\n",
              "      <td>1.643897</td>\n",
              "      <td>1.080831</td>\n",
              "      <td>0.0</td>\n",
              "      <td>9.945710</td>\n",
              "      <td>14.380437</td>\n",
              "      <td>70.146525</td>\n",
              "      <td>2.230488</td>\n",
              "      <td>SAFE</td>\n",
              "      <td>MSI</td>\n",
              "      <td>Multi-Spectral Instrument</td>\n",
              "      <td>GS2A_20191102T073051_022783_N02.13</td>\n",
              "      <td>2015-028A</td>\n",
              "      <td>DESCENDING</td>\n",
              "      <td>Sentinel-2A</td>\n",
              "      <td>02.13</td>\n",
              "      <td>Level-2A</td>\n",
              "      <td>S2MSI2A</td>\n",
              "      <td>Sentinel-2</td>\n",
              "      <td>680.68 MB</td>\n",
              "      <td>S2A_MSIL2A_20191102T073051_N0213_R049_T36LYJ_2...</td>\n",
              "      <td>S2A_OPER_MSI_L1C_TL_SGS__20191102T092933_A0227...</td>\n",
              "      <td>S2A_MSIL2A_20191102T073051_N0213_R049_T36LYJ_2...</td>\n",
              "      <td>e81daff2-6708-4118-ba39-015e7dd47bb3</td>\n",
              "      <td>MULTIPOLYGON (((35.16785 -15.45392, 35.88631 -...</td>\n",
              "    </tr>\n",
              "    <tr>\n",
              "      <th>977a65fe-c104-4c43-aaa4-fba967bc7258</th>\n",
              "      <td>S2A_MSIL2A_20191102T073051_N0213_R049_T36LYH_2...</td>\n",
              "      <td>https://scihub.copernicus.eu/dhus/odata/v1/Pro...</td>\n",
              "      <td>https://scihub.copernicus.eu/dhus/odata/v1/Pro...</td>\n",
              "      <td>https://scihub.copernicus.eu/dhus/odata/v1/Pro...</td>\n",
              "      <td>Date: 2019-11-02T07:30:51.024Z, Instrument: MS...</td>\n",
              "      <td>false</td>\n",
              "      <td>2019-11-02 07:30:51.024</td>\n",
              "      <td>2019-11-02 07:30:51.024</td>\n",
              "      <td>2019-11-02 13:37:09.110</td>\n",
              "      <td>22783</td>\n",
              "      <td>49</td>\n",
              "      <td>18.627002</td>\n",
              "      <td>11.385141</td>\n",
              "      <td>7.241101</td>\n",
              "      <td>0.0</td>\n",
              "      <td>4.685021</td>\n",
              "      <td>3.635176</td>\n",
              "      <td>60.114330</td>\n",
              "      <td>12.157250</td>\n",
              "      <td>SAFE</td>\n",
              "      <td>MSI</td>\n",
              "      <td>Multi-Spectral Instrument</td>\n",
              "      <td>GS2A_20191102T073051_022783_N02.13</td>\n",
              "      <td>2015-028A</td>\n",
              "      <td>DESCENDING</td>\n",
              "      <td>Sentinel-2A</td>\n",
              "      <td>02.13</td>\n",
              "      <td>Level-2A</td>\n",
              "      <td>S2MSI2A</td>\n",
              "      <td>Sentinel-2</td>\n",
              "      <td>962.72 MB</td>\n",
              "      <td>S2A_MSIL2A_20191102T073051_N0213_R049_T36LYH_2...</td>\n",
              "      <td>S2A_OPER_MSI_L1C_TL_SGS__20191102T092933_A0227...</td>\n",
              "      <td>S2A_MSIL2A_20191102T073051_N0213_R049_T36LYH_2...</td>\n",
              "      <td>977a65fe-c104-4c43-aaa4-fba967bc7258</td>\n",
              "      <td>MULTIPOLYGON (((34.94839 -16.36006, 35.89922 -...</td>\n",
              "    </tr>\n",
              "  </tbody>\n",
              "</table>\n",
              "</div>"
            ],
            "text/plain": [
              "                                                                                  title  ...                                           geometry\n",
              "7d26572f-2ec9-4d9f-a591-e308f104c6c1  S2A_MSIL2A_20191102T073051_N0213_R049_T36LZJ_2...  ...  MULTIPOLYGON (((35.79526 -15.44739, 36.81698 -...\n",
              "9667f52c-707f-4b7a-88ec-3b2798cfcc05  S2A_MSIL2A_20191102T073051_N0213_R049_T36LYK_2...  ...  MULTIPOLYGON (((35.38282 -14.54857, 35.87422 -...\n",
              "35dcc450-7953-4663-b572-fb48676f8e6c  S2A_MSIL2A_20191102T073051_N0213_R049_T37LBE_2...  ...  MULTIPOLYGON (((37.23448 -14.55460, 37.24208 -...\n",
              "24488501-29cc-44d2-bf1c-99d4fde96d52  S2A_MSIL2A_20191102T073051_N0213_R049_T36LZK_2...  ...  MULTIPOLYGON (((35.78355 -14.54470, 36.80101 -...\n",
              "2f349d34-2f3e-44fa-9301-b03521b18e49  S2A_MSIL2A_20191102T073051_N0213_R049_T37LBD_2...  ...  MULTIPOLYGON (((37.22705 -15.45792, 37.23519 -...\n",
              "e81daff2-6708-4118-ba39-015e7dd47bb3  S2A_MSIL2A_20191102T073051_N0213_R049_T36LYJ_2...  ...  MULTIPOLYGON (((35.16785 -15.45392, 35.88631 -...\n",
              "977a65fe-c104-4c43-aaa4-fba967bc7258  S2A_MSIL2A_20191102T073051_N0213_R049_T36LYH_2...  ...  MULTIPOLYGON (((34.94839 -16.36006, 35.89922 -...\n",
              "\n",
              "[7 rows x 36 columns]"
            ]
          },
          "metadata": {},
          "execution_count": 18
        }
      ]
    },
    {
      "cell_type": "markdown",
      "metadata": {
        "id": "0SKaiJXikQGR"
      },
      "source": [
        "**Let us say we are interested in the first satellite image since this has the least cloud coverage of all available images. we can simply call download and provide the product name (Note that you can download all images at once with api.download_all() function).**"
      ]
    },
    {
      "cell_type": "markdown",
      "metadata": {
        "id": "LQROoxxEKBAg"
      },
      "source": [
        "Plot the table as a GeoPandas dataframe, based on the uuid field"
      ]
    },
    {
      "cell_type": "code",
      "metadata": {
        "id": "0pmNS40PKBAg",
        "colab": {
          "base_uri": "https://localhost:8080/",
          "height": 282
        },
        "outputId": "9b71f8f3-45e6-4158-83e7-493f613c1fbb"
      },
      "source": [
        "areas = api.to_geodataframe(products)\n",
        "areas.plot(column='uuid', cmap=None)"
      ],
      "execution_count": null,
      "outputs": [
        {
          "output_type": "execute_result",
          "data": {
            "text/plain": [
              "<matplotlib.axes._subplots.AxesSubplot at 0x7fe2d220d450>"
            ]
          },
          "metadata": {},
          "execution_count": 19
        },
        {
          "output_type": "display_data",
          "data": {
            "image/png": "[encoded data removed]",
            "text/plain": [
              "<Figure size 432x288 with 1 Axes>"
            ]
          },
          "metadata": {
            "needs_background": "light"
          }
        }
      ]
    },
    {
      "cell_type": "code",
      "metadata": {
        "colab": {
          "base_uri": "https://localhost:8080/"
        },
        "id": "C5DNvy3Lz2wv",
        "outputId": "731b1aa2-a2d7-458e-a805-47644ea1dea7"
      },
      "source": [
        "areas.uuid"
      ],
      "execution_count": null,
      "outputs": [
        {
          "output_type": "execute_result",
          "data": {
            "text/plain": [
              "2f349d34-2f3e-44fa-9301-b03521b18e49    2f349d34-2f3e-44fa-9301-b03521b18e49\n",
              "35dcc450-7953-4663-b572-fb48676f8e6c    35dcc450-7953-4663-b572-fb48676f8e6c\n",
              "7d26572f-2ec9-4d9f-a591-e308f104c6c1    7d26572f-2ec9-4d9f-a591-e308f104c6c1\n",
              "24488501-29cc-44d2-bf1c-99d4fde96d52    24488501-29cc-44d2-bf1c-99d4fde96d52\n",
              "977a65fe-c104-4c43-aaa4-fba967bc7258    977a65fe-c104-4c43-aaa4-fba967bc7258\n",
              "e81daff2-6708-4118-ba39-015e7dd47bb3    e81daff2-6708-4118-ba39-015e7dd47bb3\n",
              "9667f52c-707f-4b7a-88ec-3b2798cfcc05    9667f52c-707f-4b7a-88ec-3b2798cfcc05\n",
              "Name: uuid, dtype: object"
            ]
          },
          "metadata": {},
          "execution_count": 20
        }
      ]
    },
    {
      "cell_type": "markdown",
      "metadata": {
        "id": "3XupEXSxKBAg"
      },
      "source": [
        "Label these polygons"
      ]
    },
    {
      "cell_type": "code",
      "metadata": {
        "id": "GFbV5QfdKBAh",
        "colab": {
          "base_uri": "https://localhost:8080/",
          "height": 1000
        },
        "outputId": "f9bc3736-5842-49d9-b252-5e929b0adac1"
      },
      "source": [
        "ax = areas.plot(column='uuid', cmap=None, figsize=(20, 20))\n",
        "areas.apply(lambda x: ax.annotate(s=x.uuid, xy=x.geometry.centroid.coords[0], ha='center'),axis=1)"
      ],
      "execution_count": null,
      "outputs": [
        {
          "output_type": "execute_result",
          "data": {
            "text/plain": [
              "2f349d34-2f3e-44fa-9301-b03521b18e49    Annotation(36.721, -14.9571, '2f349d34-2f3e-44...\n",
              "35dcc450-7953-4663-b572-fb48676f8e6c    Annotation(36.7302, -14.054, '35dcc450-7953-46...\n",
              "7d26572f-2ec9-4d9f-a591-e308f104c6c1    Annotation(36.2985, -14.9446, '7d26572f-2ec9-4...\n",
              "24488501-29cc-44d2-bf1c-99d4fde96d52    Annotation(36.2851, -14.0423, '24488501-29cc-4...\n",
              "977a65fe-c104-4c43-aaa4-fba967bc7258    Annotation(35.4779, -15.8838, '977a65fe-c104-4...\n",
              "e81daff2-6708-4118-ba39-015e7dd47bb3    Annotation(35.5789, -14.9884, 'e81daff2-6708-4...\n",
              "9667f52c-707f-4b7a-88ec-3b2798cfcc05    Annotation(35.6783, -14.1055, '9667f52c-707f-4...\n",
              "dtype: object"
            ]
          },
          "metadata": {},
          "execution_count": 21
        },
        {
          "output_type": "display_data",
          "data": {
            "image/png": "[encoded data removed]",
            "text/plain": [
              "<Figure size 1440x1440 with 1 Axes>"
            ]
          },
          "metadata": {
            "needs_background": "light"
          }
        }
      ]
    },
    {
      "cell_type": "markdown",
      "metadata": {
        "id": "m6S4zmf1KBAh"
      },
      "source": [
        "### Inspect vs our bounds\n",
        "use geopandas to check which scene to download"
      ]
    },
    {
      "cell_type": "code",
      "metadata": {
        "id": "0HMaV1OZKBAh",
        "colab": {
          "base_uri": "https://localhost:8080/",
          "height": 265
        },
        "outputId": "8f056fe0-e4c3-4e1b-aa58-edf85856d403"
      },
      "source": [
        "gdf2 = gpd.read_file(boundsdata)\n",
        "f, ax = plt.subplots(1)\n",
        "areas.plot(ax=ax,column='uuid',cmap=None,)\n",
        "gdf2.plot(ax=ax)\n",
        "plt.show()"
      ],
      "execution_count": null,
      "outputs": [
        {
          "output_type": "display_data",
          "data": {
            "image/png": "[encoded data removed]",
            "text/plain": [
              "<Figure size 432x288 with 1 Axes>"
            ]
          },
          "metadata": {
            "needs_background": "light"
          }
        }
      ]
    },
    {
      "cell_type": "markdown",
      "metadata": {
        "id": "yITyCR94KBAi"
      },
      "source": [
        "### Get the uuid and inspect produuct data"
      ]
    },
    {
      "cell_type": "code",
      "metadata": {
        "id": "4_LQzrwCKBAi",
        "colab": {
          "base_uri": "https://localhost:8080/"
        },
        "outputId": "af181c5d-0d2a-4fc4-e5a0-4656dee7500b"
      },
      "source": [
        "#api.get_product_odata('bc60b9bf-3ca2-47d8-a2ba-ed4b6de3c44d\t') The ids are rarely online\n",
        "api.get_product_odata('bc60b9bf-3ca2-47d8-a2ba-ed4b6de3c44d')"
      ],
      "execution_count": null,
      "outputs": [
        {
          "output_type": "execute_result",
          "data": {
            "text/plain": [
              "{'Creation Date': datetime.datetime(2020, 1, 27, 12, 34, 13, 588000),\n",
              " 'Ingestion Date': datetime.datetime(2020, 1, 27, 12, 33, 48, 814000),\n",
              " 'Online': True,\n",
              " 'date': datetime.datetime(2020, 1, 27, 7, 52, 1, 24000),\n",
              " 'footprint': 'POLYGON((32.98702468105238 -15.376382299503966,32.96236353886404 -15.486374867425326,32.92844013341987 -15.634527051011018,32.89569702743394 -15.783139840325292,32.86210827042246 -15.931558548127036,32.82872516143443 -16.080058359718635,32.7953585371122 -16.228584530283236,32.76400555711949 -16.368568936406664,32.06327862993578 -16.367162517865648,32.06785271555545 -15.374646369465262,32.98702468105238 -15.376382299503966))',\n",
              " 'id': 'bc60b9bf-3ca2-47d8-a2ba-ed4b6de3c44d',\n",
              " 'md5': 'f1c018d8db46d70c76a4abda694888fe',\n",
              " 'quicklook_url': \"https://scihub.copernicus.eu/dhus/odata/v1/Products('bc60b9bf-3ca2-47d8-a2ba-ed4b6de3c44d')/Products('Quicklook')/$value\",\n",
              " 'size': 972388663,\n",
              " 'title': 'S2A_MSIL2A_20200127T075201_N0213_R135_T36LVH_20200127T101244',\n",
              " 'url': \"https://scihub.copernicus.eu/dhus/odata/v1/Products('bc60b9bf-3ca2-47d8-a2ba-ed4b6de3c44d')/$value\"}"
            ]
          },
          "metadata": {},
          "execution_count": 25
        }
      ]
    },
    {
      "cell_type": "markdown",
      "metadata": {
        "id": "Es4fM-CfKBAi"
      },
      "source": [
        "## Download the data"
      ]
    },
    {
      "cell_type": "code",
      "metadata": {
        "id": "cnOSYP58KBAj",
        "colab": {
          "base_uri": "https://localhost:8080/",
          "height": 351,
          "referenced_widgets": [
            "dda4271d4d06442ca0d7143b667597e5",
            "d89e9194932a4273972af1de63026344",
            "15f823870cc94b829bf1f588ec00ffc3",
            "4671c8f20f4142feb04676995307814b",
            "6ffdad105e5849be8b75144b2adef9e3",
            "0bed21566b1844a0ac2cb0d0b77d3551",
            "cfd8a3a4f4da462ba65f8997ee318965",
            "7d620a7b503b4b01a4f468e9366e19d4",
            "ce43cb40e89341aabfa4cbe8d0e84b01",
            "be7508754bd842d9bfe0aa747c298e1a",
            "2ebeb76232e44bbda924c3e2b7752095",
            "67d0c5c53a114de5ba8ed35c28e414bf",
            "b623ab0c3de340e784e298a39ddd72bc",
            "87651f5b4b35448aba1442f69662230b",
            "afcfb09f816e49edbed1c87a1e9ef8c9",
            "0bd34eb24a2244efa2fddda319fda362",
            "1196efe06951422bb17807cc64f8781f",
            "729295051afc4c8daf27f0b27625d404",
            "7906107909ed4f15b11562dc4cf8bbb3",
            "dfce0d9904b84d5b8e5aaee2419dbea1",
            "fdef82a85faf46e7854e21a8655426b6",
            "a76114d33b1849a2a52638dd0e3ad459"
          ]
        },
        "outputId": "107a6074-13ea-478c-ba14-f84b410cb713"
      },
      "source": [
        "api.download(\"bc60b9bf-3ca2-47d8-a2ba-ed4b6de3c44d\")"
      ],
      "execution_count": null,
      "outputs": [
        {
          "output_type": "display_data",
          "data": {
            "application/vnd.jupyter.widget-view+json": {
              "model_id": "dda4271d4d06442ca0d7143b667597e5",
              "version_minor": 0,
              "version_major": 2
            },
            "text/plain": [
              "Downloading S2A_MSIL2A_20200127T075201_N0213_R135_T36LVH_20200127T101244.zip:   0%|          | 0.00/972M [00:0…"
            ]
          },
          "metadata": {}
        },
        {
          "output_type": "display_data",
          "data": {
            "application/vnd.jupyter.widget-view+json": {
              "model_id": "67d0c5c53a114de5ba8ed35c28e414bf",
              "version_minor": 0,
              "version_major": 2
            },
            "text/plain": [
              "MD5 checksumming:   0%|          | 0.00/972M [00:00<?, ?B/s]"
            ]
          },
          "metadata": {}
        },
        {
          "output_type": "execute_result",
          "data": {
            "text/plain": [
              "{'Creation Date': datetime.datetime(2020, 1, 27, 12, 34, 13, 588000),\n",
              " 'Ingestion Date': datetime.datetime(2020, 1, 27, 12, 33, 48, 814000),\n",
              " 'Online': True,\n",
              " 'date': datetime.datetime(2020, 1, 27, 7, 52, 1, 24000),\n",
              " 'downloaded_bytes': 972388663,\n",
              " 'footprint': 'POLYGON((32.98702468105238 -15.376382299503966,32.96236353886404 -15.486374867425326,32.92844013341987 -15.634527051011018,32.89569702743394 -15.783139840325292,32.86210827042246 -15.931558548127036,32.82872516143443 -16.080058359718635,32.7953585371122 -16.228584530283236,32.76400555711949 -16.368568936406664,32.06327862993578 -16.367162517865648,32.06785271555545 -15.374646369465262,32.98702468105238 -15.376382299503966))',\n",
              " 'id': 'bc60b9bf-3ca2-47d8-a2ba-ed4b6de3c44d',\n",
              " 'md5': 'f1c018d8db46d70c76a4abda694888fe',\n",
              " 'path': 'S2A_MSIL2A_20200127T075201_N0213_R135_T36LVH_20200127T101244.zip',\n",
              " 'quicklook_url': \"https://scihub.copernicus.eu/dhus/odata/v1/Products('bc60b9bf-3ca2-47d8-a2ba-ed4b6de3c44d')/Products('Quicklook')/$value\",\n",
              " 'size': 972388663,\n",
              " 'title': 'S2A_MSIL2A_20200127T075201_N0213_R135_T36LVH_20200127T101244',\n",
              " 'url': \"https://scihub.copernicus.eu/dhus/odata/v1/Products('bc60b9bf-3ca2-47d8-a2ba-ed4b6de3c44d')/$value\"}"
            ]
          },
          "metadata": {},
          "execution_count": 26
        }
      ]
    },
    {
      "cell_type": "code",
      "metadata": {
        "colab": {
          "base_uri": "https://localhost:8080/"
        },
        "id": "EadvQkoto4um",
        "outputId": "5d3bd2d2-01c8-4e32-fb72-b55548f2621c"
      },
      "source": [
        "   pip install rasterio"
      ],
      "execution_count": null,
      "outputs": [
        {
          "output_type": "stream",
          "name": "stdout",
          "text": [
            "Collecting rasterio\n",
            "  Downloading rasterio-1.2.8-cp37-cp37m-manylinux1_x86_64.whl (19.3 MB)\n",
            "\u001b[K     |████████████████████████████████| 19.3 MB 1.2 MB/s \n",
            "\u001b[?25hRequirement already satisfied: click>=4.0 in /usr/local/lib/python3.7/dist-packages (from rasterio) (7.1.2)\n",
            "Requirement already satisfied: numpy in /usr/local/lib/python3.7/dist-packages (from rasterio) (1.19.5)\n",
            "Requirement already satisfied: setuptools in /usr/local/lib/python3.7/dist-packages (from rasterio) (57.4.0)\n",
            "Requirement already satisfied: certifi in /usr/local/lib/python3.7/dist-packages (from rasterio) (2021.5.30)\n",
            "Requirement already satisfied: cligj>=0.5 in /usr/local/lib/python3.7/dist-packages (from rasterio) (0.7.2)\n",
            "Collecting snuggs>=1.4.1\n",
            "  Downloading snuggs-1.4.7-py3-none-any.whl (5.4 kB)\n",
            "Requirement already satisfied: click-plugins in /usr/local/lib/python3.7/dist-packages (from rasterio) (1.1.1)\n",
            "Requirement already satisfied: attrs in /usr/local/lib/python3.7/dist-packages (from rasterio) (21.2.0)\n",
            "Collecting affine\n",
            "  Downloading affine-2.3.0-py2.py3-none-any.whl (15 kB)\n",
            "Requirement already satisfied: pyparsing>=2.1.6 in /usr/local/lib/python3.7/dist-packages (from snuggs>=1.4.1->rasterio) (2.4.7)\n",
            "Installing collected packages: snuggs, affine, rasterio\n",
            "Successfully installed affine-2.3.0 rasterio-1.2.8 snuggs-1.4.7\n"
          ]
        }
      ]
    },
    {
      "cell_type": "code",
      "metadata": {
        "id": "P8bFsbDnqA3j"
      },
      "source": [
        "import rasterio as rio\n",
        "import zipfile"
      ],
      "execution_count": null,
      "outputs": []
    },
    {
      "cell_type": "code",
      "metadata": {
        "id": "NTXf9dDguG1c"
      },
      "source": [
        ""
      ],
      "execution_count": null,
      "outputs": []
    },
    {
      "cell_type": "code",
      "metadata": {
        "colab": {
          "base_uri": "https://localhost:8080/"
        },
        "id": "vkqVK00cLDld",
        "outputId": "6cacf720-a576-43c2-ae50-50be6f4aa4e3"
      },
      "source": [
        "!pwd\n",
        "!ls"
      ],
      "execution_count": null,
      "outputs": [
        {
          "output_type": "stream",
          "name": "stdout",
          "text": [
            "/content\n",
            "'map (5).geojson'\t\t\t\t\t\t    sample_data\n",
            " S2A_MSIL2A_20200127T075201_N0213_R135_T36KVG_20200127T101244.zip\n"
          ]
        }
      ]
    },
    {
      "cell_type": "code",
      "metadata": {
        "colab": {
          "base_uri": "https://localhost:8080/"
        },
        "id": "CmD8TVMLukQC",
        "outputId": "76d393c8-7c14-403f-c34b-81cf4fd66a6e"
      },
      "source": [
        "!unzip \"/content/S2A_MSIL2A_20200127T075201_N0213_R135_T36LVH_20200127T101244.zip\" -d \"/content\""
      ],
      "execution_count": null,
      "outputs": [
        {
          "output_type": "stream",
          "name": "stdout",
          "text": [
            "Archive:  /content/S2A_MSIL2A_20200127T075201_N0213_R135_T36LVH_20200127T101244.zip\n",
            "   creating: /content/S2A_MSIL2A_20200127T075201_N0213_R135_T36LVH_20200127T101244.SAFE/\n",
            " extracting: /content/S2A_MSIL2A_20200127T075201_N0213_R135_T36LVH_20200127T101244.SAFE/INSPIRE.xml  \n",
            "   creating: /content/S2A_MSIL2A_20200127T075201_N0213_R135_T36LVH_20200127T101244.SAFE/rep_info/\n",
            " extracting: /content/S2A_MSIL2A_20200127T075201_N0213_R135_T36LVH_20200127T101244.SAFE/rep_info/S2_PDI_Level-2A_Tile_Metadata.xsd  \n",
            " extracting: /content/S2A_MSIL2A_20200127T075201_N0213_R135_T36LVH_20200127T101244.SAFE/rep_info/S2_PDI_Level-2A_Datastrip_Metadata.xsd  \n",
            " extracting: /content/S2A_MSIL2A_20200127T075201_N0213_R135_T36LVH_20200127T101244.SAFE/rep_info/S2_User_Product_Level-2A_Metadata.xsd  \n",
            "   creating: /content/S2A_MSIL2A_20200127T075201_N0213_R135_T36LVH_20200127T101244.SAFE/HTML/\n",
            " extracting: /content/S2A_MSIL2A_20200127T075201_N0213_R135_T36LVH_20200127T101244.SAFE/HTML/star_bg.jpg  \n",
            " extracting: /content/S2A_MSIL2A_20200127T075201_N0213_R135_T36LVH_20200127T101244.SAFE/HTML/banner_1.png  \n",
            " extracting: /content/S2A_MSIL2A_20200127T075201_N0213_R135_T36LVH_20200127T101244.SAFE/HTML/banner_2.png  \n",
            " extracting: /content/S2A_MSIL2A_20200127T075201_N0213_R135_T36LVH_20200127T101244.SAFE/HTML/UserProduct_index.html  \n",
            " extracting: /content/S2A_MSIL2A_20200127T075201_N0213_R135_T36LVH_20200127T101244.SAFE/HTML/UserProduct_index.xsl  \n",
            " extracting: /content/S2A_MSIL2A_20200127T075201_N0213_R135_T36LVH_20200127T101244.SAFE/HTML/banner_3.png  \n",
            " extracting: /content/S2A_MSIL2A_20200127T075201_N0213_R135_T36LVH_20200127T101244.SAFE/MTD_MSIL2A.xml  \n",
            "   creating: /content/S2A_MSIL2A_20200127T075201_N0213_R135_T36LVH_20200127T101244.SAFE/GRANULE/\n",
            "   creating: /content/S2A_MSIL2A_20200127T075201_N0213_R135_T36LVH_20200127T101244.SAFE/GRANULE/L2A_T36LVH_A024013_20200127T081349/\n",
            " extracting: /content/S2A_MSIL2A_20200127T075201_N0213_R135_T36LVH_20200127T101244.SAFE/GRANULE/L2A_T36LVH_A024013_20200127T081349/MTD_TL.xml  \n",
            "   creating: /content/S2A_MSIL2A_20200127T075201_N0213_R135_T36LVH_20200127T101244.SAFE/GRANULE/L2A_T36LVH_A024013_20200127T081349/QI_DATA/\n",
            " extracting: /content/S2A_MSIL2A_20200127T075201_N0213_R135_T36LVH_20200127T101244.SAFE/GRANULE/L2A_T36LVH_A024013_20200127T081349/QI_DATA/MSK_NODATA_B05.gml  \n",
            " extracting: /content/S2A_MSIL2A_20200127T075201_N0213_R135_T36LVH_20200127T101244.SAFE/GRANULE/L2A_T36LVH_A024013_20200127T081349/QI_DATA/MSK_TECQUA_B12.gml  \n",
            " extracting: /content/S2A_MSIL2A_20200127T075201_N0213_R135_T36LVH_20200127T101244.SAFE/GRANULE/L2A_T36LVH_A024013_20200127T081349/QI_DATA/SENSOR_QUALITY.xml  \n",
            " extracting: /content/S2A_MSIL2A_20200127T075201_N0213_R135_T36LVH_20200127T101244.SAFE/GRANULE/L2A_T36LVH_A024013_20200127T081349/QI_DATA/MSK_SATURA_B11.gml  \n",
            " extracting: /content/S2A_MSIL2A_20200127T075201_N0213_R135_T36LVH_20200127T101244.SAFE/GRANULE/L2A_T36LVH_A024013_20200127T081349/QI_DATA/MSK_DEFECT_B06.gml  \n",
            " extracting: /content/S2A_MSIL2A_20200127T075201_N0213_R135_T36LVH_20200127T101244.SAFE/GRANULE/L2A_T36LVH_A024013_20200127T081349/QI_DATA/MSK_DETFOO_B8A.gml  \n",
            " extracting: /content/S2A_MSIL2A_20200127T075201_N0213_R135_T36LVH_20200127T101244.SAFE/GRANULE/L2A_T36LVH_A024013_20200127T081349/QI_DATA/MSK_DEFECT_B8A.gml  \n",
            " extracting: /content/S2A_MSIL2A_20200127T075201_N0213_R135_T36LVH_20200127T101244.SAFE/GRANULE/L2A_T36LVH_A024013_20200127T081349/QI_DATA/MSK_DETFOO_B04.gml  \n",
            " extracting: /content/S2A_MSIL2A_20200127T075201_N0213_R135_T36LVH_20200127T101244.SAFE/GRANULE/L2A_T36LVH_A024013_20200127T081349/QI_DATA/MSK_DEFECT_B05.gml  \n",
            " extracting: /content/S2A_MSIL2A_20200127T075201_N0213_R135_T36LVH_20200127T101244.SAFE/GRANULE/L2A_T36LVH_A024013_20200127T081349/QI_DATA/MSK_SATURA_B04.gml  \n",
            " extracting: /content/S2A_MSIL2A_20200127T075201_N0213_R135_T36LVH_20200127T101244.SAFE/GRANULE/L2A_T36LVH_A024013_20200127T081349/QI_DATA/MSK_SATURA_B07.gml  \n",
            " extracting: /content/S2A_MSIL2A_20200127T075201_N0213_R135_T36LVH_20200127T101244.SAFE/GRANULE/L2A_T36LVH_A024013_20200127T081349/QI_DATA/MSK_DEFECT_B09.gml  \n",
            " extracting: /content/S2A_MSIL2A_20200127T075201_N0213_R135_T36LVH_20200127T101244.SAFE/GRANULE/L2A_T36LVH_A024013_20200127T081349/QI_DATA/MSK_DEFECT_B11.gml  \n",
            " extracting: /content/S2A_MSIL2A_20200127T075201_N0213_R135_T36LVH_20200127T101244.SAFE/GRANULE/L2A_T36LVH_A024013_20200127T081349/QI_DATA/MSK_DEFECT_B03.gml  \n",
            " extracting: /content/S2A_MSIL2A_20200127T075201_N0213_R135_T36LVH_20200127T101244.SAFE/GRANULE/L2A_T36LVH_A024013_20200127T081349/QI_DATA/MSK_SNWPRB_60m.jp2  \n",
            " extracting: /content/S2A_MSIL2A_20200127T075201_N0213_R135_T36LVH_20200127T101244.SAFE/GRANULE/L2A_T36LVH_A024013_20200127T081349/QI_DATA/MSK_DETFOO_B08.gml  \n",
            " extracting: /content/S2A_MSIL2A_20200127T075201_N0213_R135_T36LVH_20200127T101244.SAFE/GRANULE/L2A_T36LVH_A024013_20200127T081349/QI_DATA/MSK_NODATA_B12.gml  \n",
            " extracting: /content/S2A_MSIL2A_20200127T075201_N0213_R135_T36LVH_20200127T101244.SAFE/GRANULE/L2A_T36LVH_A024013_20200127T081349/QI_DATA/MSK_SATURA_B12.gml  \n",
            " extracting: /content/S2A_MSIL2A_20200127T075201_N0213_R135_T36LVH_20200127T101244.SAFE/GRANULE/L2A_T36LVH_A024013_20200127T081349/QI_DATA/MSK_TECQUA_B03.gml  \n",
            " extracting: /content/S2A_MSIL2A_20200127T075201_N0213_R135_T36LVH_20200127T101244.SAFE/GRANULE/L2A_T36LVH_A024013_20200127T081349/QI_DATA/MSK_DETFOO_B07.gml  \n",
            " extracting: /content/S2A_MSIL2A_20200127T075201_N0213_R135_T36LVH_20200127T101244.SAFE/GRANULE/L2A_T36LVH_A024013_20200127T081349/QI_DATA/MSK_SATURA_B02.gml  \n",
            " extracting: /content/S2A_MSIL2A_20200127T075201_N0213_R135_T36LVH_20200127T101244.SAFE/GRANULE/L2A_T36LVH_A024013_20200127T081349/QI_DATA/MSK_DETFOO_B09.gml  \n",
            " extracting: /content/S2A_MSIL2A_20200127T075201_N0213_R135_T36LVH_20200127T101244.SAFE/GRANULE/L2A_T36LVH_A024013_20200127T081349/QI_DATA/MSK_TECQUA_B08.gml  \n",
            " extracting: /content/S2A_MSIL2A_20200127T075201_N0213_R135_T36LVH_20200127T101244.SAFE/GRANULE/L2A_T36LVH_A024013_20200127T081349/QI_DATA/MSK_NODATA_B8A.gml  \n",
            " extracting: /content/S2A_MSIL2A_20200127T075201_N0213_R135_T36LVH_20200127T101244.SAFE/GRANULE/L2A_T36LVH_A024013_20200127T081349/QI_DATA/MSK_NODATA_B04.gml  \n",
            " extracting: /content/S2A_MSIL2A_20200127T075201_N0213_R135_T36LVH_20200127T101244.SAFE/GRANULE/L2A_T36LVH_A024013_20200127T081349/QI_DATA/MSK_SATURA_B09.gml  \n",
            " extracting: /content/S2A_MSIL2A_20200127T075201_N0213_R135_T36LVH_20200127T101244.SAFE/GRANULE/L2A_T36LVH_A024013_20200127T081349/QI_DATA/MSK_SATURA_B03.gml  \n",
            " extracting: /content/S2A_MSIL2A_20200127T075201_N0213_R135_T36LVH_20200127T101244.SAFE/GRANULE/L2A_T36LVH_A024013_20200127T081349/QI_DATA/MSK_SATURA_B08.gml  \n",
            " extracting: /content/S2A_MSIL2A_20200127T075201_N0213_R135_T36LVH_20200127T101244.SAFE/GRANULE/L2A_T36LVH_A024013_20200127T081349/QI_DATA/MSK_CLDPRB_60m.jp2  \n",
            " extracting: /content/S2A_MSIL2A_20200127T075201_N0213_R135_T36LVH_20200127T101244.SAFE/GRANULE/L2A_T36LVH_A024013_20200127T081349/QI_DATA/MSK_DEFECT_B02.gml  \n",
            " extracting: /content/S2A_MSIL2A_20200127T075201_N0213_R135_T36LVH_20200127T101244.SAFE/GRANULE/L2A_T36LVH_A024013_20200127T081349/QI_DATA/MSK_SATURA_B05.gml  \n",
            " extracting: /content/S2A_MSIL2A_20200127T075201_N0213_R135_T36LVH_20200127T101244.SAFE/GRANULE/L2A_T36LVH_A024013_20200127T081349/QI_DATA/MSK_CLOUDS_B00.gml  \n",
            " extracting: /content/S2A_MSIL2A_20200127T075201_N0213_R135_T36LVH_20200127T101244.SAFE/GRANULE/L2A_T36LVH_A024013_20200127T081349/QI_DATA/MSK_NODATA_B09.gml  \n",
            " extracting: /content/S2A_MSIL2A_20200127T075201_N0213_R135_T36LVH_20200127T101244.SAFE/GRANULE/L2A_T36LVH_A024013_20200127T081349/QI_DATA/MSK_DEFECT_B10.gml  \n",
            " extracting: /content/S2A_MSIL2A_20200127T075201_N0213_R135_T36LVH_20200127T101244.SAFE/GRANULE/L2A_T36LVH_A024013_20200127T081349/QI_DATA/MSK_TECQUA_B06.gml  \n",
            " extracting: /content/S2A_MSIL2A_20200127T075201_N0213_R135_T36LVH_20200127T101244.SAFE/GRANULE/L2A_T36LVH_A024013_20200127T081349/QI_DATA/MSK_TECQUA_B02.gml  \n",
            " extracting: /content/S2A_MSIL2A_20200127T075201_N0213_R135_T36LVH_20200127T101244.SAFE/GRANULE/L2A_T36LVH_A024013_20200127T081349/QI_DATA/MSK_DEFECT_B08.gml  \n",
            " extracting: /content/S2A_MSIL2A_20200127T075201_N0213_R135_T36LVH_20200127T101244.SAFE/GRANULE/L2A_T36LVH_A024013_20200127T081349/QI_DATA/T36LVH_20200127T075201_PVI.jp2  \n",
            " extracting: /content/S2A_MSIL2A_20200127T075201_N0213_R135_T36LVH_20200127T101244.SAFE/GRANULE/L2A_T36LVH_A024013_20200127T081349/QI_DATA/MSK_DETFOO_B03.gml  \n",
            " extracting: /content/S2A_MSIL2A_20200127T075201_N0213_R135_T36LVH_20200127T101244.SAFE/GRANULE/L2A_T36LVH_A024013_20200127T081349/QI_DATA/MSK_NODATA_B03.gml  \n",
            " extracting: /content/S2A_MSIL2A_20200127T075201_N0213_R135_T36LVH_20200127T101244.SAFE/GRANULE/L2A_T36LVH_A024013_20200127T081349/QI_DATA/MSK_NODATA_B02.gml  \n",
            " extracting: /content/S2A_MSIL2A_20200127T075201_N0213_R135_T36LVH_20200127T101244.SAFE/GRANULE/L2A_T36LVH_A024013_20200127T081349/QI_DATA/MSK_TECQUA_B09.gml  \n",
            " extracting: /content/S2A_MSIL2A_20200127T075201_N0213_R135_T36LVH_20200127T101244.SAFE/GRANULE/L2A_T36LVH_A024013_20200127T081349/QI_DATA/MSK_CLDPRB_20m.jp2  \n",
            " extracting: /content/S2A_MSIL2A_20200127T075201_N0213_R135_T36LVH_20200127T101244.SAFE/GRANULE/L2A_T36LVH_A024013_20200127T081349/QI_DATA/MSK_SATURA_B06.gml  \n",
            " extracting: /content/S2A_MSIL2A_20200127T075201_N0213_R135_T36LVH_20200127T101244.SAFE/GRANULE/L2A_T36LVH_A024013_20200127T081349/QI_DATA/MSK_NODATA_B08.gml  \n",
            " extracting: /content/S2A_MSIL2A_20200127T075201_N0213_R135_T36LVH_20200127T101244.SAFE/GRANULE/L2A_T36LVH_A024013_20200127T081349/QI_DATA/MSK_TECQUA_B01.gml  \n",
            " extracting: /content/S2A_MSIL2A_20200127T075201_N0213_R135_T36LVH_20200127T101244.SAFE/GRANULE/L2A_T36LVH_A024013_20200127T081349/QI_DATA/MSK_DETFOO_B10.gml  \n",
            " extracting: /content/S2A_MSIL2A_20200127T075201_N0213_R135_T36LVH_20200127T101244.SAFE/GRANULE/L2A_T36LVH_A024013_20200127T081349/QI_DATA/GENERAL_QUALITY.xml  \n",
            " extracting: /content/S2A_MSIL2A_20200127T075201_N0213_R135_T36LVH_20200127T101244.SAFE/GRANULE/L2A_T36LVH_A024013_20200127T081349/QI_DATA/MSK_SATURA_B8A.gml  \n",
            " extracting: /content/S2A_MSIL2A_20200127T075201_N0213_R135_T36LVH_20200127T101244.SAFE/GRANULE/L2A_T36LVH_A024013_20200127T081349/QI_DATA/MSK_DETFOO_B05.gml  \n",
            " extracting: /content/S2A_MSIL2A_20200127T075201_N0213_R135_T36LVH_20200127T101244.SAFE/GRANULE/L2A_T36LVH_A024013_20200127T081349/QI_DATA/MSK_DETFOO_B11.gml  \n",
            " extracting: /content/S2A_MSIL2A_20200127T075201_N0213_R135_T36LVH_20200127T101244.SAFE/GRANULE/L2A_T36LVH_A024013_20200127T081349/QI_DATA/MSK_SATURA_B10.gml  \n",
            " extracting: /content/S2A_MSIL2A_20200127T075201_N0213_R135_T36LVH_20200127T101244.SAFE/GRANULE/L2A_T36LVH_A024013_20200127T081349/QI_DATA/MSK_NODATA_B01.gml  \n",
            " extracting: /content/S2A_MSIL2A_20200127T075201_N0213_R135_T36LVH_20200127T101244.SAFE/GRANULE/L2A_T36LVH_A024013_20200127T081349/QI_DATA/MSK_NODATA_B10.gml  \n",
            " extracting: /content/S2A_MSIL2A_20200127T075201_N0213_R135_T36LVH_20200127T101244.SAFE/GRANULE/L2A_T36LVH_A024013_20200127T081349/QI_DATA/MSK_DEFECT_B07.gml  \n",
            " extracting: /content/S2A_MSIL2A_20200127T075201_N0213_R135_T36LVH_20200127T101244.SAFE/GRANULE/L2A_T36LVH_A024013_20200127T081349/QI_DATA/MSK_TECQUA_B05.gml  \n",
            " extracting: /content/S2A_MSIL2A_20200127T075201_N0213_R135_T36LVH_20200127T101244.SAFE/GRANULE/L2A_T36LVH_A024013_20200127T081349/QI_DATA/MSK_SNWPRB_20m.jp2  \n",
            " extracting: /content/S2A_MSIL2A_20200127T075201_N0213_R135_T36LVH_20200127T101244.SAFE/GRANULE/L2A_T36LVH_A024013_20200127T081349/QI_DATA/MSK_DEFECT_B12.gml  \n",
            " extracting: /content/S2A_MSIL2A_20200127T075201_N0213_R135_T36LVH_20200127T101244.SAFE/GRANULE/L2A_T36LVH_A024013_20200127T081349/QI_DATA/MSK_DETFOO_B06.gml  \n",
            " extracting: /content/S2A_MSIL2A_20200127T075201_N0213_R135_T36LVH_20200127T101244.SAFE/GRANULE/L2A_T36LVH_A024013_20200127T081349/QI_DATA/MSK_NODATA_B11.gml  \n",
            " extracting: /content/S2A_MSIL2A_20200127T075201_N0213_R135_T36LVH_20200127T101244.SAFE/GRANULE/L2A_T36LVH_A024013_20200127T081349/QI_DATA/MSK_NODATA_B07.gml  \n",
            " extracting: /content/S2A_MSIL2A_20200127T075201_N0213_R135_T36LVH_20200127T101244.SAFE/GRANULE/L2A_T36LVH_A024013_20200127T081349/QI_DATA/MSK_TECQUA_B04.gml  \n",
            " extracting: /content/S2A_MSIL2A_20200127T075201_N0213_R135_T36LVH_20200127T101244.SAFE/GRANULE/L2A_T36LVH_A024013_20200127T081349/QI_DATA/MSK_TECQUA_B07.gml  \n",
            " extracting: /content/S2A_MSIL2A_20200127T075201_N0213_R135_T36LVH_20200127T101244.SAFE/GRANULE/L2A_T36LVH_A024013_20200127T081349/QI_DATA/MSK_TECQUA_B8A.gml  \n",
            " extracting: /content/S2A_MSIL2A_20200127T075201_N0213_R135_T36LVH_20200127T101244.SAFE/GRANULE/L2A_T36LVH_A024013_20200127T081349/QI_DATA/MSK_NODATA_B06.gml  \n",
            " extracting: /content/S2A_MSIL2A_20200127T075201_N0213_R135_T36LVH_20200127T101244.SAFE/GRANULE/L2A_T36LVH_A024013_20200127T081349/QI_DATA/MSK_DEFECT_B01.gml  \n",
            " extracting: /content/S2A_MSIL2A_20200127T075201_N0213_R135_T36LVH_20200127T101244.SAFE/GRANULE/L2A_T36LVH_A024013_20200127T081349/QI_DATA/MSK_TECQUA_B10.gml  \n",
            " extracting: /content/S2A_MSIL2A_20200127T075201_N0213_R135_T36LVH_20200127T101244.SAFE/GRANULE/L2A_T36LVH_A024013_20200127T081349/QI_DATA/MSK_DETFOO_B12.gml  \n",
            " extracting: /content/S2A_MSIL2A_20200127T075201_N0213_R135_T36LVH_20200127T101244.SAFE/GRANULE/L2A_T36LVH_A024013_20200127T081349/QI_DATA/RADIOMETRIC_QUALITY.xml  \n",
            " extracting: /content/S2A_MSIL2A_20200127T075201_N0213_R135_T36LVH_20200127T101244.SAFE/GRANULE/L2A_T36LVH_A024013_20200127T081349/QI_DATA/MSK_DETFOO_B02.gml  \n",
            " extracting: /content/S2A_MSIL2A_20200127T075201_N0213_R135_T36LVH_20200127T101244.SAFE/GRANULE/L2A_T36LVH_A024013_20200127T081349/QI_DATA/MSK_TECQUA_B11.gml  \n",
            " extracting: /content/S2A_MSIL2A_20200127T075201_N0213_R135_T36LVH_20200127T101244.SAFE/GRANULE/L2A_T36LVH_A024013_20200127T081349/QI_DATA/GEOMETRIC_QUALITY.xml  \n",
            " extracting: /content/S2A_MSIL2A_20200127T075201_N0213_R135_T36LVH_20200127T101244.SAFE/GRANULE/L2A_T36LVH_A024013_20200127T081349/QI_DATA/MSK_SATURA_B01.gml  \n",
            " extracting: /content/S2A_MSIL2A_20200127T075201_N0213_R135_T36LVH_20200127T101244.SAFE/GRANULE/L2A_T36LVH_A024013_20200127T081349/QI_DATA/MSK_DETFOO_B01.gml  \n",
            " extracting: /content/S2A_MSIL2A_20200127T075201_N0213_R135_T36LVH_20200127T101244.SAFE/GRANULE/L2A_T36LVH_A024013_20200127T081349/QI_DATA/FORMAT_CORRECTNESS.xml  \n",
            " extracting: /content/S2A_MSIL2A_20200127T075201_N0213_R135_T36LVH_20200127T101244.SAFE/GRANULE/L2A_T36LVH_A024013_20200127T081349/QI_DATA/MSK_DEFECT_B04.gml  \n",
            "   creating: /content/S2A_MSIL2A_20200127T075201_N0213_R135_T36LVH_20200127T101244.SAFE/GRANULE/L2A_T36LVH_A024013_20200127T081349/AUX_DATA/\n",
            " extracting: /content/S2A_MSIL2A_20200127T075201_N0213_R135_T36LVH_20200127T101244.SAFE/GRANULE/L2A_T36LVH_A024013_20200127T081349/AUX_DATA/AUX_ECMWFT  \n",
            "   creating: /content/S2A_MSIL2A_20200127T075201_N0213_R135_T36LVH_20200127T101244.SAFE/GRANULE/L2A_T36LVH_A024013_20200127T081349/IMG_DATA/\n",
            "   creating: /content/S2A_MSIL2A_20200127T075201_N0213_R135_T36LVH_20200127T101244.SAFE/GRANULE/L2A_T36LVH_A024013_20200127T081349/IMG_DATA/R60m/\n",
            " extracting: /content/S2A_MSIL2A_20200127T075201_N0213_R135_T36LVH_20200127T101244.SAFE/GRANULE/L2A_T36LVH_A024013_20200127T081349/IMG_DATA/R60m/T36LVH_20200127T075201_B02_60m.jp2  \n",
            " extracting: /content/S2A_MSIL2A_20200127T075201_N0213_R135_T36LVH_20200127T101244.SAFE/GRANULE/L2A_T36LVH_A024013_20200127T081349/IMG_DATA/R60m/T36LVH_20200127T075201_WVP_60m.jp2  \n",
            " extracting: /content/S2A_MSIL2A_20200127T075201_N0213_R135_T36LVH_20200127T101244.SAFE/GRANULE/L2A_T36LVH_A024013_20200127T081349/IMG_DATA/R60m/T36LVH_20200127T075201_B09_60m.jp2  \n",
            " extracting: /content/S2A_MSIL2A_20200127T075201_N0213_R135_T36LVH_20200127T101244.SAFE/GRANULE/L2A_T36LVH_A024013_20200127T081349/IMG_DATA/R60m/T36LVH_20200127T075201_B05_60m.jp2  \n",
            " extracting: /content/S2A_MSIL2A_20200127T075201_N0213_R135_T36LVH_20200127T101244.SAFE/GRANULE/L2A_T36LVH_A024013_20200127T081349/IMG_DATA/R60m/T36LVH_20200127T075201_B03_60m.jp2  \n",
            " extracting: /content/S2A_MSIL2A_20200127T075201_N0213_R135_T36LVH_20200127T101244.SAFE/GRANULE/L2A_T36LVH_A024013_20200127T081349/IMG_DATA/R60m/T36LVH_20200127T075201_B07_60m.jp2  \n",
            " extracting: /content/S2A_MSIL2A_20200127T075201_N0213_R135_T36LVH_20200127T101244.SAFE/GRANULE/L2A_T36LVH_A024013_20200127T081349/IMG_DATA/R60m/T36LVH_20200127T075201_B01_60m.jp2  \n",
            " extracting: /content/S2A_MSIL2A_20200127T075201_N0213_R135_T36LVH_20200127T101244.SAFE/GRANULE/L2A_T36LVH_A024013_20200127T081349/IMG_DATA/R60m/T36LVH_20200127T075201_B11_60m.jp2  \n",
            " extracting: /content/S2A_MSIL2A_20200127T075201_N0213_R135_T36LVH_20200127T101244.SAFE/GRANULE/L2A_T36LVH_A024013_20200127T081349/IMG_DATA/R60m/T36LVH_20200127T075201_B04_60m.jp2  \n",
            " extracting: /content/S2A_MSIL2A_20200127T075201_N0213_R135_T36LVH_20200127T101244.SAFE/GRANULE/L2A_T36LVH_A024013_20200127T081349/IMG_DATA/R60m/T36LVH_20200127T075201_B8A_60m.jp2  \n",
            " extracting: /content/S2A_MSIL2A_20200127T075201_N0213_R135_T36LVH_20200127T101244.SAFE/GRANULE/L2A_T36LVH_A024013_20200127T081349/IMG_DATA/R60m/T36LVH_20200127T075201_TCI_60m.jp2  \n",
            " extracting: /content/S2A_MSIL2A_20200127T075201_N0213_R135_T36LVH_20200127T101244.SAFE/GRANULE/L2A_T36LVH_A024013_20200127T081349/IMG_DATA/R60m/T36LVH_20200127T075201_AOT_60m.jp2  \n",
            " extracting: /content/S2A_MSIL2A_20200127T075201_N0213_R135_T36LVH_20200127T101244.SAFE/GRANULE/L2A_T36LVH_A024013_20200127T081349/IMG_DATA/R60m/T36LVH_20200127T075201_B12_60m.jp2  \n",
            " extracting: /content/S2A_MSIL2A_20200127T075201_N0213_R135_T36LVH_20200127T101244.SAFE/GRANULE/L2A_T36LVH_A024013_20200127T081349/IMG_DATA/R60m/T36LVH_20200127T075201_SCL_60m.jp2  \n",
            " extracting: /content/S2A_MSIL2A_20200127T075201_N0213_R135_T36LVH_20200127T101244.SAFE/GRANULE/L2A_T36LVH_A024013_20200127T081349/IMG_DATA/R60m/T36LVH_20200127T075201_B06_60m.jp2  \n",
            "   creating: /content/S2A_MSIL2A_20200127T075201_N0213_R135_T36LVH_20200127T101244.SAFE/GRANULE/L2A_T36LVH_A024013_20200127T081349/IMG_DATA/R20m/\n",
            " extracting: /content/S2A_MSIL2A_20200127T075201_N0213_R135_T36LVH_20200127T101244.SAFE/GRANULE/L2A_T36LVH_A024013_20200127T081349/IMG_DATA/R20m/T36LVH_20200127T075201_TCI_20m.jp2  \n",
            " extracting: /content/S2A_MSIL2A_20200127T075201_N0213_R135_T36LVH_20200127T101244.SAFE/GRANULE/L2A_T36LVH_A024013_20200127T081349/IMG_DATA/R20m/T36LVH_20200127T075201_B11_20m.jp2  \n",
            " extracting: /content/S2A_MSIL2A_20200127T075201_N0213_R135_T36LVH_20200127T101244.SAFE/GRANULE/L2A_T36LVH_A024013_20200127T081349/IMG_DATA/R20m/T36LVH_20200127T075201_B8A_20m.jp2  \n",
            " extracting: /content/S2A_MSIL2A_20200127T075201_N0213_R135_T36LVH_20200127T101244.SAFE/GRANULE/L2A_T36LVH_A024013_20200127T081349/IMG_DATA/R20m/T36LVH_20200127T075201_B06_20m.jp2  \n",
            " extracting: /content/S2A_MSIL2A_20200127T075201_N0213_R135_T36LVH_20200127T101244.SAFE/GRANULE/L2A_T36LVH_A024013_20200127T081349/IMG_DATA/R20m/T36LVH_20200127T075201_B07_20m.jp2  \n",
            " extracting: /content/S2A_MSIL2A_20200127T075201_N0213_R135_T36LVH_20200127T101244.SAFE/GRANULE/L2A_T36LVH_A024013_20200127T081349/IMG_DATA/R20m/T36LVH_20200127T075201_WVP_20m.jp2  \n",
            " extracting: /content/S2A_MSIL2A_20200127T075201_N0213_R135_T36LVH_20200127T101244.SAFE/GRANULE/L2A_T36LVH_A024013_20200127T081349/IMG_DATA/R20m/T36LVH_20200127T075201_SCL_20m.jp2  \n",
            " extracting: /content/S2A_MSIL2A_20200127T075201_N0213_R135_T36LVH_20200127T101244.SAFE/GRANULE/L2A_T36LVH_A024013_20200127T081349/IMG_DATA/R20m/T36LVH_20200127T075201_B05_20m.jp2  \n",
            " extracting: /content/S2A_MSIL2A_20200127T075201_N0213_R135_T36LVH_20200127T101244.SAFE/GRANULE/L2A_T36LVH_A024013_20200127T081349/IMG_DATA/R20m/T36LVH_20200127T075201_B02_20m.jp2  \n",
            " extracting: /content/S2A_MSIL2A_20200127T075201_N0213_R135_T36LVH_20200127T101244.SAFE/GRANULE/L2A_T36LVH_A024013_20200127T081349/IMG_DATA/R20m/T36LVH_20200127T075201_B12_20m.jp2  \n",
            " extracting: /content/S2A_MSIL2A_20200127T075201_N0213_R135_T36LVH_20200127T101244.SAFE/GRANULE/L2A_T36LVH_A024013_20200127T081349/IMG_DATA/R20m/T36LVH_20200127T075201_B04_20m.jp2  \n",
            " extracting: /content/S2A_MSIL2A_20200127T075201_N0213_R135_T36LVH_20200127T101244.SAFE/GRANULE/L2A_T36LVH_A024013_20200127T081349/IMG_DATA/R20m/T36LVH_20200127T075201_B03_20m.jp2  \n",
            " extracting: /content/S2A_MSIL2A_20200127T075201_N0213_R135_T36LVH_20200127T101244.SAFE/GRANULE/L2A_T36LVH_A024013_20200127T081349/IMG_DATA/R20m/T36LVH_20200127T075201_AOT_20m.jp2  \n",
            "   creating: /content/S2A_MSIL2A_20200127T075201_N0213_R135_T36LVH_20200127T101244.SAFE/GRANULE/L2A_T36LVH_A024013_20200127T081349/IMG_DATA/R10m/\n",
            " extracting: /content/S2A_MSIL2A_20200127T075201_N0213_R135_T36LVH_20200127T101244.SAFE/GRANULE/L2A_T36LVH_A024013_20200127T081349/IMG_DATA/R10m/T36LVH_20200127T075201_AOT_10m.jp2  \n",
            " extracting: /content/S2A_MSIL2A_20200127T075201_N0213_R135_T36LVH_20200127T101244.SAFE/GRANULE/L2A_T36LVH_A024013_20200127T081349/IMG_DATA/R10m/T36LVH_20200127T075201_WVP_10m.jp2  \n",
            " extracting: /content/S2A_MSIL2A_20200127T075201_N0213_R135_T36LVH_20200127T101244.SAFE/GRANULE/L2A_T36LVH_A024013_20200127T081349/IMG_DATA/R10m/T36LVH_20200127T075201_B03_10m.jp2  \n",
            " extracting: /content/S2A_MSIL2A_20200127T075201_N0213_R135_T36LVH_20200127T101244.SAFE/GRANULE/L2A_T36LVH_A024013_20200127T081349/IMG_DATA/R10m/T36LVH_20200127T075201_TCI_10m.jp2  \n",
            " extracting: /content/S2A_MSIL2A_20200127T075201_N0213_R135_T36LVH_20200127T101244.SAFE/GRANULE/L2A_T36LVH_A024013_20200127T081349/IMG_DATA/R10m/T36LVH_20200127T075201_B02_10m.jp2  \n",
            " extracting: /content/S2A_MSIL2A_20200127T075201_N0213_R135_T36LVH_20200127T101244.SAFE/GRANULE/L2A_T36LVH_A024013_20200127T081349/IMG_DATA/R10m/T36LVH_20200127T075201_B08_10m.jp2  \n",
            " extracting: /content/S2A_MSIL2A_20200127T075201_N0213_R135_T36LVH_20200127T101244.SAFE/GRANULE/L2A_T36LVH_A024013_20200127T081349/IMG_DATA/R10m/T36LVH_20200127T075201_B04_10m.jp2  \n",
            "   creating: /content/S2A_MSIL2A_20200127T075201_N0213_R135_T36LVH_20200127T101244.SAFE/AUX_DATA/\n",
            "   creating: /content/S2A_MSIL2A_20200127T075201_N0213_R135_T36LVH_20200127T101244.SAFE/DATASTRIP/\n",
            "   creating: /content/S2A_MSIL2A_20200127T075201_N0213_R135_T36LVH_20200127T101244.SAFE/DATASTRIP/DS_SGS__20200127T101244_S20200127T081349/\n",
            " extracting: /content/S2A_MSIL2A_20200127T075201_N0213_R135_T36LVH_20200127T101244.SAFE/DATASTRIP/DS_SGS__20200127T101244_S20200127T081349/MTD_DS.xml  \n",
            "   creating: /content/S2A_MSIL2A_20200127T075201_N0213_R135_T36LVH_20200127T101244.SAFE/DATASTRIP/DS_SGS__20200127T101244_S20200127T081349/QI_DATA/\n",
            " extracting: /content/S2A_MSIL2A_20200127T075201_N0213_R135_T36LVH_20200127T101244.SAFE/DATASTRIP/DS_SGS__20200127T101244_S20200127T081349/QI_DATA/SENSOR_QUALITY.xml  \n",
            " extracting: /content/S2A_MSIL2A_20200127T075201_N0213_R135_T36LVH_20200127T101244.SAFE/DATASTRIP/DS_SGS__20200127T101244_S20200127T081349/QI_DATA/GENERAL_QUALITY.xml  \n",
            " extracting: /content/S2A_MSIL2A_20200127T075201_N0213_R135_T36LVH_20200127T101244.SAFE/DATASTRIP/DS_SGS__20200127T101244_S20200127T081349/QI_DATA/RADIOMETRIC_QUALITY.xml  \n",
            " extracting: /content/S2A_MSIL2A_20200127T075201_N0213_R135_T36LVH_20200127T101244.SAFE/DATASTRIP/DS_SGS__20200127T101244_S20200127T081349/QI_DATA/GEOMETRIC_QUALITY.xml  \n",
            " extracting: /content/S2A_MSIL2A_20200127T075201_N0213_R135_T36LVH_20200127T101244.SAFE/DATASTRIP/DS_SGS__20200127T101244_S20200127T081349/QI_DATA/FORMAT_CORRECTNESS.xml  \n",
            " extracting: /content/S2A_MSIL2A_20200127T075201_N0213_R135_T36LVH_20200127T101244.SAFE/manifest.safe  \n"
          ]
        }
      ]
    },
    {
      "cell_type": "code",
      "metadata": {
        "id": "KNXhoEz0mH-q"
      },
      "source": [
        "# Open Bands 4, 3 and 2 with Rasterio\n",
        "R10 = '/content/S2A_MSIL2A_20200127T075201_N0213_R135_T36LVH_20200127T101244.SAFE/GRANULE/L2A_T36LVH_A024013_20200127T081349/IMG_DATA/R10m'\n",
        "#b4 = rio.open(R10+'/T36LWK_20200127T075201_B02_20m.jp2')\n",
        "b4 = rio.open(\"/content/S2A_MSIL2A_20200127T075201_N0213_R135_T36LVH_20200127T101244.SAFE/GRANULE/L2A_T36LVH_A024013_20200127T081349/IMG_DATA/R10m/T36LVH_20200127T075201_B02_10m.jp2\")\n",
        "#b3 = rio.open(R10+'/T36LWK_20200127T075201_B03_20m.jp2')\n",
        "b3 = rio.open(\"/content/S2A_MSIL2A_20200127T075201_N0213_R135_T36LVH_20200127T101244.SAFE/GRANULE/L2A_T36LVH_A024013_20200127T081349/IMG_DATA/R10m/T36LVH_20200127T075201_B03_10m.jp2\")\n",
        "#b2 = rio.open(R10+'/T36LWK_20200127T075201_B05_20m.jp2')\n",
        "b2 = rio.open(\"/content/S2A_MSIL2A_20200127T075201_N0213_R135_T36LVH_20200127T101244.SAFE/GRANULE/L2A_T36LVH_A024013_20200127T081349/IMG_DATA/R10m/T36LVH_20200127T075201_B04_10m.jp2\")\n",
        "\n",
        "\n",
        "# Create an RGB image \n",
        "with rio.open('RGB.tiff','w',driver='Gtiff', width=b4.width, height=b4.height, \n",
        "              count=3,crs=b4.crs,transform=b4.transform, dtype=b4.dtypes[0]) as rgb:\n",
        "    rgb.write(b2.read(1),1) \n",
        "    rgb.write(b3.read(1),2) \n",
        "    rgb.write(b4.read(1),3) \n",
        "    rgb.close()"
      ],
      "execution_count": null,
      "outputs": []
    },
    {
      "cell_type": "code",
      "metadata": {
        "id": "qy-utRG3XYlD"
      },
      "source": [
        "import geopandas\n",
        "import fiona\n",
        "from shapely.geometry import Point\n",
        "\n",
        "s = geopandas.GeoSeries([Point(4.42, 50.4), Point(4.43, 50.2)])"
      ],
      "execution_count": null,
      "outputs": []
    },
    {
      "cell_type": "code",
      "metadata": {
        "colab": {
          "base_uri": "https://localhost:8080/"
        },
        "id": "Mc7ASGo2ZCr4",
        "outputId": "3db3447d-45ed-4163-8307-286c0bc0e562"
      },
      "source": [
        "s"
      ],
      "execution_count": null,
      "outputs": [
        {
          "output_type": "execute_result",
          "data": {
            "text/plain": [
              "0    POINT (4.42000 50.40000)\n",
              "1    POINT (4.43000 50.20000)\n",
              "dtype: geometry"
            ]
          },
          "metadata": {},
          "execution_count": 32
        }
      ]
    },
    {
      "cell_type": "code",
      "metadata": {
        "colab": {
          "base_uri": "https://localhost:8080/"
        },
        "id": "cx_ZwwyyYztF",
        "outputId": "d4da0d4b-9bff-4020-e45e-80022fbcfd26"
      },
      "source": [
        "s.crs = {'init': 'epsg:4326', 'no_defs': True}"
      ],
      "execution_count": null,
      "outputs": [
        {
          "output_type": "stream",
          "name": "stderr",
          "text": [
            "/usr/local/lib/python3.7/dist-packages/pyproj/crs/crs.py:131: FutureWarning: '+init=<authority>:<code>' syntax is deprecated. '<authority>:<code>' is the preferred initialization method. When making the change, be mindful of axis order changes: https://pyproj4.github.io/pyproj/stable/gotchas.html#axis-order-changes-in-proj-6\n",
            "  in_crs_string = _prepare_from_proj_string(in_crs_string)\n"
          ]
        }
      ]
    },
    {
      "cell_type": "code",
      "metadata": {
        "colab": {
          "base_uri": "https://localhost:8080/"
        },
        "id": "Re-JzfwrY9dp",
        "outputId": "f80f36e7-8fce-42ab-8f27-5fa5ef0b89db"
      },
      "source": [
        "s.crs"
      ],
      "execution_count": null,
      "outputs": [
        {
          "output_type": "execute_result",
          "data": {
            "text/plain": [
              "<Geographic 2D CRS: +init=epsg:4326 +no_defs +type=crs>\n",
              "Name: WGS 84\n",
              "Axis Info [ellipsoidal]:\n",
              "- lon[east]: Longitude (degree)\n",
              "- lat[north]: Latitude (degree)\n",
              "Area of Use:\n",
              "- name: World.\n",
              "- bounds: (-180.0, -90.0, 180.0, 90.0)\n",
              "Datum: World Geodetic System 1984 ensemble\n",
              "- Ellipsoid: WGS 84\n",
              "- Prime Meridian: Greenwich"
            ]
          },
          "metadata": {},
          "execution_count": 34
        }
      ]
    },
    {
      "cell_type": "code",
      "metadata": {
        "colab": {
          "base_uri": "https://localhost:8080/"
        },
        "id": "quFIupz5Yzfu",
        "outputId": "029c09a9-3fe2-4afe-ebd4-433cc48ec55b"
      },
      "source": [
        "s.to_crs(epsg=31370)"
      ],
      "execution_count": null,
      "outputs": [
        {
          "output_type": "execute_result",
          "data": {
            "text/plain": [
              "0    POINT (153643.920 121012.189)\n",
              "1     POINT (154373.425 98766.948)\n",
              "dtype: geometry"
            ]
          },
          "metadata": {},
          "execution_count": 35
        }
      ]
    },
    {
      "cell_type": "code",
      "metadata": {
        "colab": {
          "base_uri": "https://localhost:8080/"
        },
        "id": "IAXuaqSfZcoq",
        "outputId": "15c0b5a7-3e78-4b44-8832-b7619723d19e"
      },
      "source": [
        "s.to_crs(epsg=32633)"
      ],
      "execution_count": null,
      "outputs": [
        {
          "output_type": "execute_result",
          "data": {
            "text/plain": [
              "0    POINT (-251108.688 5636817.570)\n",
              "1    POINT (-253582.809 5614550.241)\n",
              "dtype: geometry"
            ]
          },
          "metadata": {},
          "execution_count": 36
        }
      ]
    },
    {
      "cell_type": "code",
      "metadata": {
        "colab": {
          "base_uri": "https://localhost:8080/",
          "height": 165
        },
        "id": "tHpN2NPgZvz8",
        "outputId": "74f20312-e0c1-436f-cbac-e264e43a57e2"
      },
      "source": [
        " fiona.crs.from_epsg(4326)"
      ],
      "execution_count": null,
      "outputs": [
        {
          "output_type": "error",
          "ename": "AttributeError",
          "evalue": "ignored",
          "traceback": [
            "\u001b[0;31m---------------------------------------------------------------------------\u001b[0m",
            "\u001b[0;31mAttributeError\u001b[0m                            Traceback (most recent call last)",
            "\u001b[0;32m<ipython-input-37-96d9f49939ed>\u001b[0m in \u001b[0;36m<module>\u001b[0;34m()\u001b[0m\n\u001b[0;32m----> 1\u001b[0;31m \u001b[0mfiona\u001b[0m\u001b[0;34m.\u001b[0m\u001b[0mcrs\u001b[0m\u001b[0;34m.\u001b[0m\u001b[0mfrom_epsg\u001b[0m\u001b[0;34m(\u001b[0m\u001b[0;36m4326\u001b[0m\u001b[0;34m)\u001b[0m\u001b[0;34m\u001b[0m\u001b[0;34m\u001b[0m\u001b[0m\n\u001b[0m",
            "\u001b[0;31mAttributeError\u001b[0m: module 'fiona' has no attribute 'crs'"
          ]
        }
      ]
    },
    {
      "cell_type": "code",
      "metadata": {
        "id": "vzOpo5AjaOK6"
      },
      "source": [
        "s = s.set_crs(epsg=4326)"
      ],
      "execution_count": null,
      "outputs": []
    },
    {
      "cell_type": "code",
      "metadata": {
        "colab": {
          "base_uri": "https://localhost:8080/"
        },
        "id": "GDRdEJVjaQgl",
        "outputId": "596cad20-bdd8-4db8-a486-afdee6b4b985"
      },
      "source": [
        "s"
      ],
      "execution_count": null,
      "outputs": [
        {
          "output_type": "execute_result",
          "data": {
            "text/plain": [
              "0    POINT (4.42000 50.40000)\n",
              "1    POINT (4.43000 50.20000)\n",
              "dtype: geometry"
            ]
          },
          "metadata": {},
          "execution_count": 51
        }
      ]
    },
    {
      "cell_type": "code",
      "metadata": {
        "colab": {
          "base_uri": "https://localhost:8080/",
          "height": 235
        },
        "id": "BWWHpx_DV6GD",
        "outputId": "7ca0309c-c57e-4400-8555-4af3d9944523"
      },
      "source": [
        "#nReserve_proj = nReserve.to_crs({'init': 'epsg:32633'})\n",
        "nReserve_proj = nReserve.set_crs('epsg:32633')\n",
        "\n",
        "\n",
        "with rio.open(\"RGB.tiff\") as src:\n",
        "    out_image, out_transform = rio.mask.mask(src, nReserve_proj.geometry,crop=True)\n",
        "    out_meta = src.meta.copy()\n",
        "    out_meta.update({\"driver\": \"GTiff\",\n",
        "                 \"height\": out_image.shape[1],\n",
        "                 \"width\": out_image.shape[2],\n",
        "                 \"transform\": out_transform})\n",
        "    \n",
        "with rasterio.open(\"RGB_masked.tif\", \"w\", **out_meta) as dest:\n",
        "    dest.write(out_image)"
      ],
      "execution_count": null,
      "outputs": [
        {
          "output_type": "error",
          "ename": "NameError",
          "evalue": "ignored",
          "traceback": [
            "\u001b[0;31m---------------------------------------------------------------------------\u001b[0m",
            "\u001b[0;31mNameError\u001b[0m                                 Traceback (most recent call last)",
            "\u001b[0;32m<ipython-input-53-f810dbeb0946>\u001b[0m in \u001b[0;36m<module>\u001b[0;34m()\u001b[0m\n\u001b[1;32m      1\u001b[0m \u001b[0;31m#nReserve_proj = nReserve.to_crs({'init': 'epsg:32633'})\u001b[0m\u001b[0;34m\u001b[0m\u001b[0;34m\u001b[0m\u001b[0;34m\u001b[0m\u001b[0m\n\u001b[0;32m----> 2\u001b[0;31m \u001b[0mnReserve_proj\u001b[0m \u001b[0;34m=\u001b[0m \u001b[0mnReserve\u001b[0m\u001b[0;34m.\u001b[0m\u001b[0mset_crs\u001b[0m\u001b[0;34m(\u001b[0m\u001b[0;34m'epsg:32633'\u001b[0m\u001b[0;34m)\u001b[0m\u001b[0;34m\u001b[0m\u001b[0;34m\u001b[0m\u001b[0m\n\u001b[0m\u001b[1;32m      3\u001b[0m \u001b[0;34m\u001b[0m\u001b[0m\n\u001b[1;32m      4\u001b[0m \u001b[0;34m\u001b[0m\u001b[0m\n\u001b[1;32m      5\u001b[0m \u001b[0;32mwith\u001b[0m \u001b[0mrio\u001b[0m\u001b[0;34m.\u001b[0m\u001b[0mopen\u001b[0m\u001b[0;34m(\u001b[0m\u001b[0;34m\"RGB.tiff\"\u001b[0m\u001b[0;34m)\u001b[0m \u001b[0;32mas\u001b[0m \u001b[0msrc\u001b[0m\u001b[0;34m:\u001b[0m\u001b[0;34m\u001b[0m\u001b[0;34m\u001b[0m\u001b[0m\n",
            "\u001b[0;31mNameError\u001b[0m: name 'nReserve' is not defined"
          ]
        }
      ]
    },
    {
      "cell_type": "code",
      "metadata": {
        "id": "8iyrFhKNV6ZI"
      },
      "source": [
        ""
      ],
      "execution_count": null,
      "outputs": []
    },
    {
      "cell_type": "code",
      "metadata": {
        "id": "VxgzTGgkV6hU"
      },
      "source": [
        ""
      ],
      "execution_count": null,
      "outputs": []
    },
    {
      "cell_type": "markdown",
      "metadata": {
        "id": "FT2ZC4_YKBAk"
      },
      "source": [
        "Unzip using code found on stackoverflow\n",
        "<br>\n",
        "<br>\n",
        "https://stackoverflow.com/questions/3451111/unzipping-files-in-python"
      ]
    },
    {
      "cell_type": "code",
      "metadata": {
        "id": "YRY26jr-KBAk"
      },
      "source": [
        "import zipfile # https://stackoverflow.com/questions/3451111/unzipping-files-in-python\n",
        "zip_ref = zipfile.ZipFile(path_tozip, 'r')\n",
        "zip_ref.extractall(r'D:\\sentinelsat')\n",
        "zip_ref.close()"
      ],
      "execution_count": null,
      "outputs": []
    },
    {
      "cell_type": "markdown",
      "metadata": {
        "id": "NBIDfQbsKBAk"
      },
      "source": [
        "The data is now downloaded, and unzipped and waiting for you to work with it. There are plenty of things you can do with Satellite imagery for inspiration take a look at my website www.acgeospatial.co.uk\n",
        "\n",
        "<br>\n",
        "<br>\n",
        "I offer training in Geospatial Python programming contact me info@acgeospatial.co.uk\n"
      ]
    },
    {
      "cell_type": "code",
      "metadata": {
        "id": "dA-Ef3-gKBAl"
      },
      "source": [
        ""
      ],
      "execution_count": null,
      "outputs": []
    }
  ]
}