{
 "cells": [
  {
   "cell_type": "code",
   "execution_count": 43,
   "id": "1755b8cb",
   "metadata": {},
   "outputs": [],
   "source": [
    "import os\n",
    "import datetime\n",
    "import gc\n",
    "import glob\n",
    "import geopandas\n",
    "import random\n",
    "from sentinelsat import SentinelAPI, geojson_to_wkt, read_geojson\n",
    "\n",
    "class sentinel1_download_preprocess():\n",
    "    def __init__(self,username,password,date_1,date_2,lat,lon,query_style,footprint,download):\n",
    "        self.username = username\n",
    "        self.password = password\n",
    "        self.date_start = datetime.datetime.strptime(date_1, \"%d/%m/%y\")\n",
    "        self.date_end = datetime.datetime.strptime(date_2, \"%d/%m/%y\")\n",
    "        self.lat = lat\n",
    "        self.lon = lon\n",
    "        self.query_style = query_style\n",
    "        self.footprint = geojson_to_wkt(read_geojson(footprint))\n",
    "        self.download = download\n",
    "            # configurations\n",
    "        self.api = SentinelAPI(username, password, 'https://scihub.copernicus.eu/dhus')\n",
    "        self.platformname ='Sentinel-2'\n",
    "        self.orbitdirection = 'DESCENDING'  # ASCENDING, DESCENDING\n",
    "        self.processinglevel = 'Level-2A'\n",
    "        self.cloudcoverpercentage = (0,30)\n",
    "        \n",
    "    @classmethod\n",
    "    def from_input(cls):\n",
    "        return cls(\n",
    "            input('username:'),\n",
    "            input('password:'),\n",
    "            input('date_1:'),\n",
    "            input('date_2:'),\n",
    "            input('lat:'),\n",
    "            input('lon:'),\n",
    "            input('query_style:'),\n",
    "            input('footprint:'),\n",
    "            input('download:'),\n",
    "        )  \n",
    "\n",
    "\n",
    "    def sentinel1_download(self):\n",
    "        global download_candidate\n",
    "        if self.query_style == 'coordinate':\n",
    "            download_candidate = self.api.query('POINT({0} {1})'.format(self.lon, self.lat),\n",
    "                                                date=(self.date_start, self.date_end),\n",
    "                                                platformname=self.platformname,\n",
    "                                                orbitdirection=self.orbitdirection,\n",
    "                                                processinglevel=self.processinglevel,\n",
    "                                                cloudcoverpercentage=self.cloudcoverpercentage)\n",
    "        elif self.query_style == 'footprint':\n",
    "            download_candidate = self.api.query(self.footprint,\n",
    "                                                 date=(self.date_start, self.date_end),\n",
    "                                                platformname=self.platformname,\n",
    "                                                orbitdirection=self.orbitdirection,\n",
    "                                                processinglevel=self.processinglevel,\n",
    "                                                cloudcoverpercentage=self.cloudcoverpercentage)\n",
    "\n",
    "\n",
    "            \n",
    "            dataproduct = self.api.to_geodataframe(download_candidate)\n",
    "            d = []\n",
    "            for i in range(len(dataproduct.uuid)):\n",
    "                product_id = self.api.get_product_odata(dataproduct['uuid'][i])\n",
    "               # print(f\"show this {product_id}\")\n",
    "                for j in product_id.keys():\n",
    "                    if (j == 'Online' and product_id[j] == True):\n",
    "                        d.append(dataproduct['uuid'][i])\n",
    "\n",
    "            print(f\"len of the list = {len(d)}\")\n",
    "            self.api.download(random.choice(d))\n",
    "        else:\n",
    "            print(\"Define query attribute\")\n",
    "                                   \n",
    "                            \n",
    "                        \n"
   ]
  },
  {
   "cell_type": "code",
   "execution_count": null,
   "id": "dd596c60",
   "metadata": {},
   "outputs": [],
   "source": [
    "user = sentinel1_download_preprocess.from_input()"
   ]
  },
  {
   "cell_type": "code",
   "execution_count": null,
   "id": "783aff2d",
   "metadata": {},
   "outputs": [],
   "source": [
    "user.sentinel1_download()"
   ]
  },
  {
   "cell_type": "code",
   "execution_count": null,
   "id": "70f84019",
   "metadata": {},
   "outputs": [],
   "source": []
  }
 ],
 "metadata": {
  "kernelspec": {
   "display_name": "Python 3 (ipykernel)",
   "language": "python",
   "name": "python3"
  },
  "language_info": {
   "codemirror_mode": {
    "name": "ipython",
    "version": 3
   },
   "file_extension": ".py",
   "mimetype": "text/x-python",
   "name": "python",
   "nbconvert_exporter": "python",
   "pygments_lexer": "ipython3",
   "version": "3.9.7"
  }
 },
 "nbformat": 4,
 "nbformat_minor": 5
}
